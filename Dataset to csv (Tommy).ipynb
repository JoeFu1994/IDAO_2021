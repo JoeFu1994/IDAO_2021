{
 "cells": [
  {
   "cell_type": "code",
   "execution_count": 1,
   "id": "tropical-forest",
   "metadata": {},
   "outputs": [],
   "source": [
    "# General data manipulation\n",
    "import pandas\n",
    "from matplotlib import pyplot as plt\n",
    "import matplotlib.image as mpimg\n",
    "import numpy as np\n",
    "import cv2\n",
    "import os\n",
    "import sys\n",
    "from PIL import Image # pip install pillow"
   ]
  },
  {
   "cell_type": "code",
   "execution_count": 2,
   "id": "apparent-investing",
   "metadata": {},
   "outputs": [],
   "source": [
    "# get train file names and convert to dataframe\n",
    "# you may need to change your working directory first:\n",
    "# os.chdir('/your_path')\n",
    "import os\n",
    "import pandas as pd\n",
    "ER_file_names = os.listdir('idao_dataset/train/ER/')\n",
    "NR_file_names = os.listdir('idao_dataset/train/NR/')\n",
    "\n",
    "ER = pd.DataFrame([[y.replace(';1.png','').replace('ev','') for y in x.split('_')] for x in ER_file_names])\n",
    "NR = pd.DataFrame([[y.replace(';1.png','').replace('ev','') for y in x.split('_')] for x in NR_file_names])\n",
    "\n",
    "ER = ER[[5,6,0,15,16]].rename(columns={5:'type',6:'energy',0:'num',15:'run',16:'ev'})\n",
    "NR = NR[[6,7,0,17,18]].rename(columns={6:'type',7:'energy',0:'num',17:'run',18:'ev'})\n",
    "data = ER.append(NR)\n",
    "# data"
   ]
  },
  {
   "cell_type": "code",
   "execution_count": 3,
   "id": "judicial-reason",
   "metadata": {},
   "outputs": [],
   "source": [
    "data['type_2'] = (data.type == 'ER')*1"
   ]
  },
  {
   "cell_type": "code",
   "execution_count": 4,
   "id": "under-insulation",
   "metadata": {},
   "outputs": [
    {
     "data": {
      "text/html": [
       "<div>\n",
       "<style scoped>\n",
       "    .dataframe tbody tr th:only-of-type {\n",
       "        vertical-align: middle;\n",
       "    }\n",
       "\n",
       "    .dataframe tbody tr th {\n",
       "        vertical-align: top;\n",
       "    }\n",
       "\n",
       "    .dataframe thead th {\n",
       "        text-align: right;\n",
       "    }\n",
       "</style>\n",
       "<table border=\"1\" class=\"dataframe\">\n",
       "  <thead>\n",
       "    <tr style=\"text-align: right;\">\n",
       "      <th></th>\n",
       "      <th>type</th>\n",
       "      <th>energy</th>\n",
       "      <th>num</th>\n",
       "      <th>run</th>\n",
       "      <th>ev</th>\n",
       "      <th>type_2</th>\n",
       "    </tr>\n",
       "  </thead>\n",
       "  <tbody>\n",
       "    <tr>\n",
       "      <th>0</th>\n",
       "      <td>ER</td>\n",
       "      <td>10</td>\n",
       "      <td>0.5041503310203552</td>\n",
       "      <td>run4</td>\n",
       "      <td>272</td>\n",
       "      <td>1</td>\n",
       "    </tr>\n",
       "    <tr>\n",
       "      <th>1</th>\n",
       "      <td>ER</td>\n",
       "      <td>3</td>\n",
       "      <td>-0.13757403194904327</td>\n",
       "      <td>run3</td>\n",
       "      <td>449</td>\n",
       "      <td>1</td>\n",
       "    </tr>\n",
       "    <tr>\n",
       "      <th>2</th>\n",
       "      <td>ER</td>\n",
       "      <td>10</td>\n",
       "      <td>0.5042710304260254</td>\n",
       "      <td>run5</td>\n",
       "      <td>882</td>\n",
       "      <td>1</td>\n",
       "    </tr>\n",
       "    <tr>\n",
       "      <th>3</th>\n",
       "      <td>ER</td>\n",
       "      <td>30</td>\n",
       "      <td>-1.4947187900543213</td>\n",
       "      <td>run3</td>\n",
       "      <td>660</td>\n",
       "      <td>1</td>\n",
       "    </tr>\n",
       "    <tr>\n",
       "      <th>4</th>\n",
       "      <td>ER</td>\n",
       "      <td>10</td>\n",
       "      <td>1.562488317489624</td>\n",
       "      <td>run2</td>\n",
       "      <td>820</td>\n",
       "      <td>1</td>\n",
       "    </tr>\n",
       "    <tr>\n",
       "      <th>...</th>\n",
       "      <td>...</td>\n",
       "      <td>...</td>\n",
       "      <td>...</td>\n",
       "      <td>...</td>\n",
       "      <td>...</td>\n",
       "      <td>...</td>\n",
       "    </tr>\n",
       "    <tr>\n",
       "      <th>6641</th>\n",
       "      <td>NR</td>\n",
       "      <td>1</td>\n",
       "      <td>-2.8066000938415527</td>\n",
       "      <td>run5</td>\n",
       "      <td>207</td>\n",
       "      <td>0</td>\n",
       "    </tr>\n",
       "    <tr>\n",
       "      <th>6642</th>\n",
       "      <td>NR</td>\n",
       "      <td>6</td>\n",
       "      <td>2.858799934387207</td>\n",
       "      <td>run1</td>\n",
       "      <td>748</td>\n",
       "      <td>0</td>\n",
       "    </tr>\n",
       "    <tr>\n",
       "      <th>6643</th>\n",
       "      <td>NR</td>\n",
       "      <td>6</td>\n",
       "      <td>3.1136999130249023</td>\n",
       "      <td>run1</td>\n",
       "      <td>809</td>\n",
       "      <td>0</td>\n",
       "    </tr>\n",
       "    <tr>\n",
       "      <th>6644</th>\n",
       "      <td>NR</td>\n",
       "      <td>20</td>\n",
       "      <td>2.88070011138916</td>\n",
       "      <td>run5</td>\n",
       "      <td>723</td>\n",
       "      <td>0</td>\n",
       "    </tr>\n",
       "    <tr>\n",
       "      <th>6645</th>\n",
       "      <td>NR</td>\n",
       "      <td>20</td>\n",
       "      <td>-1.1974999904632568</td>\n",
       "      <td>run4</td>\n",
       "      <td>751</td>\n",
       "      <td>0</td>\n",
       "    </tr>\n",
       "  </tbody>\n",
       "</table>\n",
       "<p>13404 rows × 6 columns</p>\n",
       "</div>"
      ],
      "text/plain": [
       "     type energy                   num   run   ev  type_2\n",
       "0      ER     10    0.5041503310203552  run4  272       1\n",
       "1      ER      3  -0.13757403194904327  run3  449       1\n",
       "2      ER     10    0.5042710304260254  run5  882       1\n",
       "3      ER     30   -1.4947187900543213  run3  660       1\n",
       "4      ER     10     1.562488317489624  run2  820       1\n",
       "...   ...    ...                   ...   ...  ...     ...\n",
       "6641   NR      1   -2.8066000938415527  run5  207       0\n",
       "6642   NR      6     2.858799934387207  run1  748       0\n",
       "6643   NR      6    3.1136999130249023  run1  809       0\n",
       "6644   NR     20      2.88070011138916  run5  723       0\n",
       "6645   NR     20   -1.1974999904632568  run4  751       0\n",
       "\n",
       "[13404 rows x 6 columns]"
      ]
     },
     "execution_count": 4,
     "metadata": {},
     "output_type": "execute_result"
    }
   ],
   "source": [
    "data"
   ]
  },
  {
   "cell_type": "code",
   "execution_count": 5,
   "id": "understanding-charlotte",
   "metadata": {},
   "outputs": [
    {
     "data": {
      "text/html": [
       "<div>\n",
       "<style scoped>\n",
       "    .dataframe tbody tr th:only-of-type {\n",
       "        vertical-align: middle;\n",
       "    }\n",
       "\n",
       "    .dataframe tbody tr th {\n",
       "        vertical-align: top;\n",
       "    }\n",
       "\n",
       "    .dataframe thead th {\n",
       "        text-align: right;\n",
       "    }\n",
       "</style>\n",
       "<table border=\"1\" class=\"dataframe\">\n",
       "  <thead>\n",
       "    <tr style=\"text-align: right;\">\n",
       "      <th></th>\n",
       "      <th>type_2</th>\n",
       "    </tr>\n",
       "  </thead>\n",
       "  <tbody>\n",
       "    <tr>\n",
       "      <th>count</th>\n",
       "      <td>13404.000000</td>\n",
       "    </tr>\n",
       "    <tr>\n",
       "      <th>mean</th>\n",
       "      <td>0.504178</td>\n",
       "    </tr>\n",
       "    <tr>\n",
       "      <th>std</th>\n",
       "      <td>0.500001</td>\n",
       "    </tr>\n",
       "    <tr>\n",
       "      <th>min</th>\n",
       "      <td>0.000000</td>\n",
       "    </tr>\n",
       "    <tr>\n",
       "      <th>25%</th>\n",
       "      <td>0.000000</td>\n",
       "    </tr>\n",
       "    <tr>\n",
       "      <th>50%</th>\n",
       "      <td>1.000000</td>\n",
       "    </tr>\n",
       "    <tr>\n",
       "      <th>75%</th>\n",
       "      <td>1.000000</td>\n",
       "    </tr>\n",
       "    <tr>\n",
       "      <th>max</th>\n",
       "      <td>1.000000</td>\n",
       "    </tr>\n",
       "  </tbody>\n",
       "</table>\n",
       "</div>"
      ],
      "text/plain": [
       "             type_2\n",
       "count  13404.000000\n",
       "mean       0.504178\n",
       "std        0.500001\n",
       "min        0.000000\n",
       "25%        0.000000\n",
       "50%        1.000000\n",
       "75%        1.000000\n",
       "max        1.000000"
      ]
     },
     "execution_count": 5,
     "metadata": {},
     "output_type": "execute_result"
    }
   ],
   "source": [
    "data.describe()"
   ]
  },
  {
   "cell_type": "markdown",
   "id": "centered-blank",
   "metadata": {},
   "source": [
    "## Converting Image into Matrices"
   ]
  },
  {
   "cell_type": "code",
   "execution_count": 6,
   "id": "eligible-conference",
   "metadata": {},
   "outputs": [],
   "source": [
    "# convert PIL.Image object to numpy.Array, for training\n",
    "def img2arr(img):\n",
    "    return np.asarray(img.getdata(), dtype=np.uint8).reshape(img.height, img.width, -1)"
   ]
  },
  {
   "cell_type": "code",
   "execution_count": 7,
   "id": "painted-narrow",
   "metadata": {},
   "outputs": [],
   "source": [
    "import os\n",
    "from os import listdir\n",
    "from os.path import isfile, join \n",
    "\n",
    "# Converting ER\n",
    "\n",
    "cwd = os.getcwd() # get current directory\n",
    "mypath = cwd+'/idao_dataset/train/ER'\n",
    "file_list = [cwd+'/idao_dataset/train/ER/'+f for f in listdir(mypath) if isfile(join(mypath, f))]"
   ]
  },
  {
   "cell_type": "code",
   "execution_count": 8,
   "id": "stylish-happening",
   "metadata": {},
   "outputs": [],
   "source": [
    "img_arr_list = []"
   ]
  },
  {
   "cell_type": "code",
   "execution_count": null,
   "id": "actual-democrat",
   "metadata": {},
   "outputs": [],
   "source": [
    "%%time \n",
    "# img_arr_list = []\n",
    "for each in file_list:    \n",
    "    img = Image.open(each).convert('LA')\n",
    "    img_arr_list.append(img2arr(img)[:,:,0]) # ignore the alpha channel"
   ]
  },
  {
   "cell_type": "code",
   "execution_count": null,
   "id": "pregnant-cassette",
   "metadata": {},
   "outputs": [],
   "source": [
    "%%time \n",
    "# Converting NR\n",
    "cwd = os.getcwd() # get current directory\n",
    "mypath = cwd+'/idao_dataset/train/NR'\n",
    "file_list = [cwd+'/idao_dataset/train/NR/'+f for f in listdir(mypath) if isfile(join(mypath, f))]\n",
    "\n",
    "for each in file_list:    \n",
    "    img = Image.open(each).convert('LA')\n",
    "    img_arr_list.append(img2arr(img)[:,:,0]) # ignore the alpha channel"
   ]
  },
  {
   "cell_type": "code",
   "execution_count": null,
   "id": "fluid-adobe",
   "metadata": {},
   "outputs": [],
   "source": [
    "img_arr_df = pd.DataFrame(img_arr_list)"
   ]
  },
  {
   "cell_type": "code",
   "execution_count": null,
   "id": "driving-carnival",
   "metadata": {},
   "outputs": [],
   "source": [
    "img_arr_df.to_csv()"
   ]
  },
  {
   "cell_type": "code",
   "execution_count": null,
   "id": "stuffed-investigation",
   "metadata": {},
   "outputs": [],
   "source": [
    "img_array = np.array(img_arr_list)\n",
    "img_array.shape\n"
   ]
  },
  {
   "cell_type": "code",
   "execution_count": null,
   "id": "biblical-respect",
   "metadata": {},
   "outputs": [],
   "source": []
  }
 ],
 "metadata": {
  "kernelspec": {
   "display_name": "Python 3",
   "language": "python",
   "name": "python3"
  },
  "language_info": {
   "codemirror_mode": {
    "name": "ipython",
    "version": 3
   },
   "file_extension": ".py",
   "mimetype": "text/x-python",
   "name": "python",
   "nbconvert_exporter": "python",
   "pygments_lexer": "ipython3",
   "version": "3.7.7"
  }
 },
 "nbformat": 4,
 "nbformat_minor": 5
}
