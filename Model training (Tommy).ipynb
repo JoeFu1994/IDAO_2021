{
 "cells": [
  {
   "cell_type": "markdown",
   "id": "contrary-sheriff",
   "metadata": {},
   "source": [
    "# Libraries"
   ]
  },
  {
   "cell_type": "code",
   "execution_count": 2,
   "id": "historical-slovak",
   "metadata": {},
   "outputs": [
    {
     "name": "stderr",
     "output_type": "stream",
     "text": [
      "Using TensorFlow backend.\n"
     ]
    }
   ],
   "source": [
    "# General data manipulation\n",
    "import pandas as pd\n",
    "from matplotlib import pyplot as plt\n",
    "import matplotlib.image as mpimg\n",
    "import numpy as np\n",
    "import cv2\n",
    "import os\n",
    "import sys\n",
    "import time\n",
    "from PIL import Image # pip install pillow\n",
    "from keras.utils import np_utils"
   ]
  },
  {
   "cell_type": "code",
   "execution_count": 3,
   "id": "antique-plaintiff",
   "metadata": {},
   "outputs": [],
   "source": [
    "# Deep learning setup (NN, CNN)\n",
    "from keras.models import Sequential \n",
    "from keras.layers import Dense, Dropout, Activation, Flatten\n",
    "from keras.layers import Convolution2D, MaxPooling2D, Conv2D, AveragePooling2D"
   ]
  },
  {
   "cell_type": "code",
   "execution_count": 4,
   "id": "seventh-upper",
   "metadata": {},
   "outputs": [],
   "source": [
    "# Model evaluation\n",
    "from sklearn.metrics import plot_confusion_matrix\n",
    "from sklearn.metrics import confusion_matrix\n",
    "from sklearn.metrics import classification_report"
   ]
  },
  {
   "cell_type": "markdown",
   "id": "banner-custody",
   "metadata": {},
   "source": [
    "# Read from .pkl"
   ]
  },
  {
   "cell_type": "code",
   "execution_count": 5,
   "id": "local-framing",
   "metadata": {},
   "outputs": [
    {
     "name": "stdout",
     "output_type": "stream",
     "text": [
      "CPU times: user 1.71 s, sys: 6.31 s, total: 8.02 s\n",
      "Wall time: 41.7 s\n"
     ]
    }
   ],
   "source": [
    "%%time\n",
    "er_data = pd.read_pickle('er_data(1-6758).pkl')\n",
    "nr_data = pd.read_pickle('nr_data(1-6646).pkl')"
   ]
  },
  {
   "cell_type": "code",
   "execution_count": 6,
   "id": "eastern-patch",
   "metadata": {},
   "outputs": [
    {
     "data": {
      "text/html": [
       "<div>\n",
       "<style scoped>\n",
       "    .dataframe tbody tr th:only-of-type {\n",
       "        vertical-align: middle;\n",
       "    }\n",
       "\n",
       "    .dataframe tbody tr th {\n",
       "        vertical-align: top;\n",
       "    }\n",
       "\n",
       "    .dataframe thead th {\n",
       "        text-align: right;\n",
       "    }\n",
       "</style>\n",
       "<table border=\"1\" class=\"dataframe\">\n",
       "  <thead>\n",
       "    <tr style=\"text-align: right;\">\n",
       "      <th></th>\n",
       "      <th>img_array</th>\n",
       "      <th>type_2_ER</th>\n",
       "      <th>energy</th>\n",
       "    </tr>\n",
       "  </thead>\n",
       "  <tbody>\n",
       "    <tr>\n",
       "      <th>0</th>\n",
       "      <td>[[104, 104, 101, 101, 101, 101, 97, 104, 96, 1...</td>\n",
       "      <td>1</td>\n",
       "      <td>10</td>\n",
       "    </tr>\n",
       "    <tr>\n",
       "      <th>1</th>\n",
       "      <td>[[98, 97, 103, 104, 104, 98, 99, 102, 101, 97,...</td>\n",
       "      <td>1</td>\n",
       "      <td>3</td>\n",
       "    </tr>\n",
       "    <tr>\n",
       "      <th>2</th>\n",
       "      <td>[[102, 97, 100, 96, 100, 97, 94, 110, 97, 100,...</td>\n",
       "      <td>1</td>\n",
       "      <td>10</td>\n",
       "    </tr>\n",
       "  </tbody>\n",
       "</table>\n",
       "</div>"
      ],
      "text/plain": [
       "                                           img_array  type_2_ER energy\n",
       "0  [[104, 104, 101, 101, 101, 101, 97, 104, 96, 1...          1     10\n",
       "1  [[98, 97, 103, 104, 104, 98, 99, 102, 101, 97,...          1      3\n",
       "2  [[102, 97, 100, 96, 100, 97, 94, 110, 97, 100,...          1     10"
      ]
     },
     "execution_count": 6,
     "metadata": {},
     "output_type": "execute_result"
    }
   ],
   "source": [
    "er_data.head(3)"
   ]
  },
  {
   "cell_type": "code",
   "execution_count": 7,
   "id": "injured-hepatitis",
   "metadata": {},
   "outputs": [
    {
     "data": {
      "text/html": [
       "<div>\n",
       "<style scoped>\n",
       "    .dataframe tbody tr th:only-of-type {\n",
       "        vertical-align: middle;\n",
       "    }\n",
       "\n",
       "    .dataframe tbody tr th {\n",
       "        vertical-align: top;\n",
       "    }\n",
       "\n",
       "    .dataframe thead th {\n",
       "        text-align: right;\n",
       "    }\n",
       "</style>\n",
       "<table border=\"1\" class=\"dataframe\">\n",
       "  <thead>\n",
       "    <tr style=\"text-align: right;\">\n",
       "      <th></th>\n",
       "      <th>img_array</th>\n",
       "      <th>type_2_ER</th>\n",
       "      <th>energy</th>\n",
       "    </tr>\n",
       "  </thead>\n",
       "  <tbody>\n",
       "    <tr>\n",
       "      <th>0</th>\n",
       "      <td>[[96, 103, 98, 100, 100, 100, 108, 96, 99, 100...</td>\n",
       "      <td>0</td>\n",
       "      <td>20</td>\n",
       "    </tr>\n",
       "    <tr>\n",
       "      <th>1</th>\n",
       "      <td>[[96, 104, 104, 98, 98, 100, 97, 103, 100, 100...</td>\n",
       "      <td>0</td>\n",
       "      <td>1</td>\n",
       "    </tr>\n",
       "    <tr>\n",
       "      <th>2</th>\n",
       "      <td>[[101, 98, 106, 99, 99, 97, 97, 100, 102, 104,...</td>\n",
       "      <td>0</td>\n",
       "      <td>6</td>\n",
       "    </tr>\n",
       "  </tbody>\n",
       "</table>\n",
       "</div>"
      ],
      "text/plain": [
       "                                           img_array  type_2_ER energy\n",
       "0  [[96, 103, 98, 100, 100, 100, 108, 96, 99, 100...          0     20\n",
       "1  [[96, 104, 104, 98, 98, 100, 97, 103, 100, 100...          0      1\n",
       "2  [[101, 98, 106, 99, 99, 97, 97, 100, 102, 104,...          0      6"
      ]
     },
     "execution_count": 7,
     "metadata": {},
     "output_type": "execute_result"
    }
   ],
   "source": [
    "nr_data.head(3)"
   ]
  },
  {
   "cell_type": "code",
   "execution_count": 8,
   "id": "textile-burning",
   "metadata": {},
   "outputs": [],
   "source": [
    "# n = 2000\n",
    "# input_df = er_data.iloc[0:n,].append(nr_data.iloc[0:n,])"
   ]
  },
  {
   "cell_type": "code",
   "execution_count": 9,
   "id": "fabulous-second",
   "metadata": {},
   "outputs": [],
   "source": [
    "# full\n",
    "input_df = er_data.append(nr_data)"
   ]
  },
  {
   "cell_type": "markdown",
   "id": "individual-birmingham",
   "metadata": {},
   "source": [
    "## Data Preprocessing\n",
    "1. reshape for CNN input\n",
    "2. Centralisation (image cropping)\n",
    "3. Type conversion (float)\n",
    "4. Noise reduction "
   ]
  },
  {
   "cell_type": "code",
   "execution_count": null,
   "id": "brief-pencil",
   "metadata": {},
   "outputs": [],
   "source": [
    "img_array = np.array(list(input_df.img_array))\n",
    "img_array.shape"
   ]
  },
  {
   "cell_type": "code",
   "execution_count": null,
   "id": "sudden-occasion",
   "metadata": {},
   "outputs": [],
   "source": [
    "# 1. reshape the matrix for CNN input\n",
    "img_array = img_array.reshape(img_array.shape[0],576,576,1)\n",
    "img_array.shape"
   ]
  },
  {
   "cell_type": "code",
   "execution_count": null,
   "id": "listed-governor",
   "metadata": {},
   "outputs": [],
   "source": [
    "# 2. centralisation (576-224-224 = 128)\n",
    "c = 224\n",
    "img_array = img_array[:,c:576-c,c:576-c,:]\n",
    "img_array.shape"
   ]
  },
  {
   "cell_type": "code",
   "execution_count": 11,
   "id": "tropical-costs",
   "metadata": {},
   "outputs": [],
   "source": [
    "# 3. type conversion\n",
    "img_array = img_array.astype(float)"
   ]
  },
  {
   "cell_type": "code",
   "execution_count": 12,
   "id": "through-basic",
   "metadata": {},
   "outputs": [
    {
     "name": "stdout",
     "output_type": "stream",
     "text": [
      "CPU times: user 1min 30s, sys: 2.03 s, total: 1min 32s\n",
      "Wall time: 1min 33s\n"
     ]
    }
   ],
   "source": [
    "%%time\n",
    "# 4. noise reduction\n",
    "from scipy.ndimage import *\n",
    "img_array = grey_closing(gaussian_gradient_magnitude(img_array,5), 9)"
   ]
  },
  {
   "cell_type": "code",
   "execution_count": 13,
   "id": "increasing-shield",
   "metadata": {},
   "outputs": [],
   "source": [
    "# %time\n",
    "# # Normalization\n",
    "# # img_array = img_array.astype('float')\n",
    "# img_array /= 255"
   ]
  },
  {
   "cell_type": "code",
   "execution_count": null,
   "id": "clear-attention",
   "metadata": {},
   "outputs": [],
   "source": [
    "target_data = np.array(input_df.type_2_ER)\n",
    "target_data = target_data.reshape(len(input_df),1)"
   ]
  },
  {
   "cell_type": "code",
   "execution_count": 15,
   "id": "upper-topic",
   "metadata": {},
   "outputs": [],
   "source": [
    "# Convert 1-dimensional class arrays to 2-dimensional class matrices\n",
    "# target_data = np.array(input_df.type_2_ER)\n",
    "target_data = np_utils.to_categorical(input_df.energy, 6)\n",
    "# target_data = target_data.reshape(len(input_df),6)"
   ]
  },
  {
   "cell_type": "markdown",
   "id": "crazy-prayer",
   "metadata": {},
   "source": [
    "-----------------------------------------------------------------------------"
   ]
  },
  {
   "cell_type": "markdown",
   "id": "sustained-deviation",
   "metadata": {},
   "source": [
    "# Train and Test data split"
   ]
  },
  {
   "cell_type": "code",
   "execution_count": 16,
   "id": "solved-three",
   "metadata": {},
   "outputs": [
    {
     "name": "stdout",
     "output_type": "stream",
     "text": [
      "(4000, 128, 128, 1)\n",
      "(4000, 1)\n"
     ]
    }
   ],
   "source": [
    "print(img_array.shape)\n",
    "print(target_data.shape)"
   ]
  },
  {
   "cell_type": "code",
   "execution_count": 17,
   "id": "religious-strength",
   "metadata": {},
   "outputs": [],
   "source": [
    "# Train and Test data Split\n",
    "from sklearn.model_selection import train_test_split\n",
    "\n",
    "x_train, x_test, y_train, y_test = train_test_split(\n",
    "    img_array, target_data, test_size=0.3)"
   ]
  },
  {
   "cell_type": "markdown",
   "id": "cutting-finish",
   "metadata": {},
   "source": [
    "# Model Run"
   ]
  },
  {
   "cell_type": "markdown",
   "id": "practical-escape",
   "metadata": {},
   "source": [
    "## Part 1. Predicting type of graphs (ER/NR)"
   ]
  },
  {
   "cell_type": "code",
   "execution_count": 19,
   "id": "decimal-contact",
   "metadata": {},
   "outputs": [],
   "source": [
    "# CNN for graphic data\n",
    "#create model\n",
    "cnn_type = Sequential()\n",
    "#add model layers\n",
    "cnn_type.add(Conv2D(16, kernel_size=9, activation='relu', input_shape=(128,128,1)))\n",
    "cnn_type.add(MaxPooling2D(pool_size=(2, 2)))\n",
    "cnn_type.add(Conv2D(32, kernel_size=5, activation='relu'))\n",
    "# cnn_type.add(Dropout(0.5))\n",
    "cnn_type.add(MaxPooling2D(pool_size=(2, 2)))\n",
    "cnn_type.add(Conv2D(64, kernel_size=3, activation='relu'))\n",
    "cnn_type.add(MaxPooling2D(pool_size=(2, 2)))\n",
    "# cnn_type.add(Conv2D(128, kernel_size=3, activation='relu'))\n",
    "cnn_type.add(Flatten())\n",
    "cnn_type.add(Dense(128, activation='relu'))\n",
    "cnn_type.add(Dense(1, activation='sigmoid'))\n",
    "# cnn_type.add(Dense(2, activation='softmax'))\n",
    "\n",
    "\n",
    "cnn_type.compile(optimizer='adam',\n",
    "#     loss='categorical_crossentropy',\n",
    "    loss='binary_crossentropy',\n",
    "    metrics=['accuracy'])"
   ]
  },
  {
   "cell_type": "code",
   "execution_count": 20,
   "id": "graphic-montgomery",
   "metadata": {},
   "outputs": [
    {
     "data": {
      "image/png": "[encoded data removed]",
      "text/plain": [
       "<IPython.core.display.Image object>"
      ]
     },
     "execution_count": 20,
     "metadata": {},
     "output_type": "execute_result"
    }
   ],
   "source": [
    "from keras.utils import plot_model\n",
    "plot_model(cnn_type, show_shapes=True)"
   ]
  },
  {
   "cell_type": "code",
   "execution_count": 21,
   "id": "southern-authority",
   "metadata": {},
   "outputs": [
    {
     "name": "stdout",
     "output_type": "stream",
     "text": [
      "Train on 2800 samples, validate on 1200 samples\n",
      "Epoch 1/10\n",
      "2800/2800 [==============================] - 91s 33ms/step - loss: 0.1165 - accuracy: 0.9689 - val_loss: 0.0219 - val_accuracy: 0.9983\n",
      "Epoch 2/10\n",
      "2800/2800 [==============================] - 94s 33ms/step - loss: 0.0091 - accuracy: 0.9982 - val_loss: 0.0095 - val_accuracy: 0.9975\n",
      "Epoch 3/10\n",
      "2800/2800 [==============================] - 73s 26ms/step - loss: 0.0043 - accuracy: 0.9996 - val_loss: 0.0095 - val_accuracy: 0.9983\n",
      "Epoch 4/10\n",
      "2800/2800 [==============================] - 54s 19ms/step - loss: 0.0034 - accuracy: 0.9996 - val_loss: 0.0058 - val_accuracy: 0.9992\n",
      "Epoch 5/10\n",
      "2800/2800 [==============================] - 54s 19ms/step - loss: 0.0033 - accuracy: 0.9996 - val_loss: 0.0049 - val_accuracy: 0.9992\n",
      "Epoch 6/10\n",
      "2800/2800 [==============================] - 54s 19ms/step - loss: 0.0029 - accuracy: 0.9996 - val_loss: 0.0068 - val_accuracy: 0.9992\n",
      "Epoch 7/10\n",
      "2800/2800 [==============================] - 54s 19ms/step - loss: 0.0027 - accuracy: 0.9996 - val_loss: 0.0032 - val_accuracy: 0.9992\n",
      "Epoch 8/10\n",
      "2800/2800 [==============================] - 54s 19ms/step - loss: 7.9264e-04 - accuracy: 0.9996 - val_loss: 0.0060 - val_accuracy: 0.9992\n",
      "Epoch 9/10\n",
      "2800/2800 [==============================] - 53s 19ms/step - loss: 0.0016 - accuracy: 0.9993 - val_loss: 0.0033 - val_accuracy: 0.9992\n",
      "Epoch 10/10\n",
      "2800/2800 [==============================] - 54s 19ms/step - loss: 2.8653e-04 - accuracy: 1.0000 - val_loss: 0.0144 - val_accuracy: 0.9992\n",
      "CPU times: user 16min 33s, sys: 42.1 s, total: 17min 15s\n",
      "Wall time: 10min 34s\n"
     ]
    }
   ],
   "source": [
    "%%time \n",
    "cnn_type_model = cnn_type.fit(x_train, y_train, \n",
    "                              batch_size=64,\n",
    "                              epochs=10,\n",
    "                              # verbose=1,\n",
    "                              validation_data=(x_test, y_test))"
   ]
  },
  {
   "cell_type": "code",
   "execution_count": 31,
   "id": "sacred-detroit",
   "metadata": {},
   "outputs": [
    {
     "data": {
      "text/plain": [
       "[<matplotlib.lines.Line2D at 0x7fcc9699b490>]"
      ]
     },
     "execution_count": 31,
     "metadata": {},
     "output_type": "execute_result"
    },
    {
     "data": {
      "image/png": "[encoded data removed]",
      "text/plain": [
       "<Figure size 432x288 with 1 Axes>"
      ]
     },
     "metadata": {
      "needs_background": "light"
     },
     "output_type": "display_data"
    }
   ],
   "source": [
    "plt.plot(cnn_type_model.history['accuracy'])\n",
    "plt.plot(cnn_type_model.history['val_accuracy'])"
   ]
  },
  {
   "cell_type": "code",
   "execution_count": 25,
   "id": "charitable-professor",
   "metadata": {},
   "outputs": [],
   "source": [
    "cnn_type.save('CNN_1(Tommy).h5')"
   ]
  },
  {
   "cell_type": "code",
   "execution_count": 26,
   "id": "stone-advocacy",
   "metadata": {},
   "outputs": [
    {
     "name": "stdout",
     "output_type": "stream",
     "text": [
      "1200/1200 [==============================] - 6s 5ms/step\n",
      "Test score: 0.014411957420285\n",
      "Test accuracy: 0.9991666674613953\n"
     ]
    }
   ],
   "source": [
    "score, acc = cnn_type.evaluate(x_test, y_test)\n",
    "print('Test score:', score)\n",
    "print('Test accuracy:', acc)"
   ]
  },
  {
   "cell_type": "markdown",
   "id": "diverse-dominant",
   "metadata": {},
   "source": [
    "# Test data"
   ]
  },
  {
   "cell_type": "code",
   "execution_count": 27,
   "id": "capital-heaven",
   "metadata": {},
   "outputs": [],
   "source": [
    "# Prediction on testing data\n",
    "y_pred = np.round(cnn_type.predict(x_test))"
   ]
  },
  {
   "cell_type": "code",
   "execution_count": 28,
   "id": "welcome-stack",
   "metadata": {},
   "outputs": [
    {
     "name": "stdout",
     "output_type": "stream",
     "text": [
      "              precision    recall  f1-score   support\n",
      "\n",
      "           0       1.00      1.00      1.00       583\n",
      "           1       1.00      1.00      1.00       617\n",
      "\n",
      "    accuracy                           1.00      1200\n",
      "   macro avg       1.00      1.00      1.00      1200\n",
      "weighted avg       1.00      1.00      1.00      1200\n",
      "\n"
     ]
    }
   ],
   "source": [
    "# Generate the classification report\n",
    "print(classification_report(y_test,y_pred))"
   ]
  },
  {
   "cell_type": "markdown",
   "id": "valued-shuttle",
   "metadata": {},
   "source": [
    "### Confusion Matrix"
   ]
  },
  {
   "cell_type": "code",
   "execution_count": 29,
   "id": "accessible-hayes",
   "metadata": {},
   "outputs": [],
   "source": [
    "cm = confusion_matrix(y_test,y_pred) # create a confusion matrix"
   ]
  },
  {
   "cell_type": "code",
   "execution_count": 30,
   "id": "active-island",
   "metadata": {},
   "outputs": [
    {
     "data": {
      "image/png": "[encoded data removed]",
      "text/plain": [
       "<Figure size 432x288 with 2 Axes>"
      ]
     },
     "metadata": {
      "needs_background": "light"
     },
     "output_type": "display_data"
    }
   ],
   "source": [
    "# Plot the confusion matrix\n",
    "import seaborn as sns\n",
    "sns.heatmap(cm,\n",
    "            cmap=plt.cm.Blues,\n",
    "            annot=True, \n",
    "            annot_kws={\"size\": 12}, \n",
    "            fmt=\"d\") # font size\n",
    "plt.xlabel('Predicted label')\n",
    "plt.ylabel('True label')\n",
    "plt.title('Confusion martix of Neural Network Model')\n",
    "plt.show()"
   ]
  },
  {
   "cell_type": "code",
   "execution_count": null,
   "id": "specialized-strip",
   "metadata": {},
   "outputs": [],
   "source": []
  },
  {
   "cell_type": "markdown",
   "id": "brief-shame",
   "metadata": {},
   "source": [
    "# Part 2: Predicting Energy level based on type of graphs"
   ]
  },
  {
   "cell_type": "markdown",
   "id": "checked-norfolk",
   "metadata": {},
   "source": [
    "## 1. ER"
   ]
  },
  {
   "cell_type": "code",
   "execution_count": 10,
   "id": "promising-sustainability",
   "metadata": {},
   "outputs": [],
   "source": [
    "# full\n",
    "input_df = er_data.append(nr_data)"
   ]
  },
  {
   "cell_type": "code",
   "execution_count": 11,
   "id": "romance-resort",
   "metadata": {},
   "outputs": [
    {
     "data": {
      "text/html": [
       "<div>\n",
       "<style scoped>\n",
       "    .dataframe tbody tr th:only-of-type {\n",
       "        vertical-align: middle;\n",
       "    }\n",
       "\n",
       "    .dataframe tbody tr th {\n",
       "        vertical-align: top;\n",
       "    }\n",
       "\n",
       "    .dataframe thead th {\n",
       "        text-align: right;\n",
       "    }\n",
       "</style>\n",
       "<table border=\"1\" class=\"dataframe\">\n",
       "  <thead>\n",
       "    <tr style=\"text-align: right;\">\n",
       "      <th></th>\n",
       "      <th>img_array</th>\n",
       "      <th>type_2_ER</th>\n",
       "      <th>energy</th>\n",
       "    </tr>\n",
       "  </thead>\n",
       "  <tbody>\n",
       "    <tr>\n",
       "      <th>0</th>\n",
       "      <td>[[104, 104, 101, 101, 101, 101, 97, 104, 96, 1...</td>\n",
       "      <td>1</td>\n",
       "      <td>10</td>\n",
       "    </tr>\n",
       "    <tr>\n",
       "      <th>1</th>\n",
       "      <td>[[98, 97, 103, 104, 104, 98, 99, 102, 101, 97,...</td>\n",
       "      <td>1</td>\n",
       "      <td>3</td>\n",
       "    </tr>\n",
       "    <tr>\n",
       "      <th>2</th>\n",
       "      <td>[[102, 97, 100, 96, 100, 97, 94, 110, 97, 100,...</td>\n",
       "      <td>1</td>\n",
       "      <td>10</td>\n",
       "    </tr>\n",
       "    <tr>\n",
       "      <th>3</th>\n",
       "      <td>[[101, 96, 100, 99, 96, 108, 104, 102, 101, 99...</td>\n",
       "      <td>1</td>\n",
       "      <td>30</td>\n",
       "    </tr>\n",
       "    <tr>\n",
       "      <th>4</th>\n",
       "      <td>[[97, 98, 100, 101, 98, 100, 102, 100, 99, 99,...</td>\n",
       "      <td>1</td>\n",
       "      <td>10</td>\n",
       "    </tr>\n",
       "  </tbody>\n",
       "</table>\n",
       "</div>"
      ],
      "text/plain": [
       "                                           img_array  type_2_ER energy\n",
       "0  [[104, 104, 101, 101, 101, 101, 97, 104, 96, 1...          1     10\n",
       "1  [[98, 97, 103, 104, 104, 98, 99, 102, 101, 97,...          1      3\n",
       "2  [[102, 97, 100, 96, 100, 97, 94, 110, 97, 100,...          1     10\n",
       "3  [[101, 96, 100, 99, 96, 108, 104, 102, 101, 99...          1     30\n",
       "4  [[97, 98, 100, 101, 98, 100, 102, 100, 99, 99,...          1     10"
      ]
     },
     "execution_count": 11,
     "metadata": {},
     "output_type": "execute_result"
    }
   ],
   "source": [
    "input_df_er = input_df[input_df.type_2_ER == 1]\n",
    "input_df_er.head()"
   ]
  },
  {
   "cell_type": "code",
   "execution_count": 12,
   "id": "assumed-procedure",
   "metadata": {},
   "outputs": [],
   "source": [
    "no_of_energy_er = len(set(input_df_er.energy))"
   ]
  },
  {
   "cell_type": "code",
   "execution_count": 15,
   "id": "upper-progressive",
   "metadata": {},
   "outputs": [
    {
     "data": {
      "text/plain": [
       "{'1', '10', '20', '3', '30', '6'}"
      ]
     },
     "execution_count": 15,
     "metadata": {},
     "output_type": "execute_result"
    }
   ],
   "source": [
    "set(input_df_er.energy)"
   ]
  },
  {
   "cell_type": "code",
   "execution_count": 13,
   "id": "sensitive-english",
   "metadata": {},
   "outputs": [
    {
     "data": {
      "text/plain": [
       "(6758, 576, 576)"
      ]
     },
     "execution_count": 13,
     "metadata": {},
     "output_type": "execute_result"
    }
   ],
   "source": [
    "img_array = np.array(list(input_df_er.img_array))\n",
    "img_array.shape"
   ]
  },
  {
   "cell_type": "code",
   "execution_count": 14,
   "id": "funny-orleans",
   "metadata": {},
   "outputs": [
    {
     "data": {
      "text/plain": [
       "(6758, 576, 576, 1)"
      ]
     },
     "execution_count": 14,
     "metadata": {},
     "output_type": "execute_result"
    }
   ],
   "source": [
    "# 1. reshape the matrix for CNN input\n",
    "img_array = img_array.reshape(img_array.shape[0],576,576,1)\n",
    "img_array.shape"
   ]
  },
  {
   "cell_type": "code",
   "execution_count": null,
   "id": "varied-calculator",
   "metadata": {},
   "outputs": [],
   "source": []
  }
 ],
 "metadata": {
  "kernelspec": {
   "display_name": "Python 3",
   "language": "python",
   "name": "python3"
  },
  "language_info": {
   "codemirror_mode": {
    "name": "ipython",
    "version": 3
   },
   "file_extension": ".py",
   "mimetype": "text/x-python",
   "name": "python",
   "nbconvert_exporter": "python",
   "pygments_lexer": "ipython3",
   "version": "3.7.7"
  }
 },
 "nbformat": 4,
 "nbformat_minor": 5
}
