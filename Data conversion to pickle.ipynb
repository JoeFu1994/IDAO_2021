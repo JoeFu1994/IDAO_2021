{
 "cells": [
  {
   "cell_type": "code",
   "execution_count": 1,
   "id": "casual-promise",
   "metadata": {},
   "outputs": [
    {
     "name": "stderr",
     "output_type": "stream",
     "text": [
      "Using TensorFlow backend.\n"
     ]
    }
   ],
   "source": [
    "# General data manipulation\n",
    "import pandas as pd\n",
    "from matplotlib import pyplot as plt\n",
    "import matplotlib.image as mpimg\n",
    "import numpy as np\n",
    "import cv2\n",
    "import os\n",
    "from os import listdir\n",
    "from os.path import isfile, join \n",
    "import sys\n",
    "import time\n",
    "from PIL import Image # pip install pillow\n",
    "from keras.utils import np_utils"
   ]
  },
  {
   "cell_type": "markdown",
   "id": "pursuant-market",
   "metadata": {},
   "source": [
    "# Text Data"
   ]
  },
  {
   "cell_type": "code",
   "execution_count": 2,
   "id": "based-supervision",
   "metadata": {},
   "outputs": [],
   "source": [
    "# get train file names and convert to dataframe\n",
    "# you may need to change your working directory first:\n",
    "# os.chdir('/your_path')\n",
    "\n",
    "ER_file_names = os.listdir('idao_dataset/train/ER/')\n",
    "NR_file_names = os.listdir('idao_dataset/train/NR/')\n",
    "\n",
    "ER = pd.DataFrame([[y.replace(';1.png','').replace('ev','') for y in x.split('_')] for x in ER_file_names])\n",
    "ER['path'] = ER_file_names\n",
    "NR = pd.DataFrame([[y.replace(';1.png','').replace('ev','') for y in x.split('_')] for x in NR_file_names])\n",
    "NR['path'] = NR_file_names\n",
    "\n",
    "ER = ER[[5,6,0,15,16,'path']].rename(columns={5:'type',6:'energy',0:'num',15:'run',16:'ev'})\n",
    "NR = NR[[6,7,0,17,18,'path']].rename(columns={6:'type',7:'energy',0:'num',17:'run',18:'ev'})\n",
    "data = ER.append(NR, ignore_index = True)\n",
    "# data"
   ]
  },
  {
   "cell_type": "code",
   "execution_count": 3,
   "id": "weird-athens",
   "metadata": {},
   "outputs": [
    {
     "data": {
      "text/html": [
       "<div>\n",
       "<style scoped>\n",
       "    .dataframe tbody tr th:only-of-type {\n",
       "        vertical-align: middle;\n",
       "    }\n",
       "\n",
       "    .dataframe tbody tr th {\n",
       "        vertical-align: top;\n",
       "    }\n",
       "\n",
       "    .dataframe thead th {\n",
       "        text-align: right;\n",
       "    }\n",
       "</style>\n",
       "<table border=\"1\" class=\"dataframe\">\n",
       "  <thead>\n",
       "    <tr style=\"text-align: right;\">\n",
       "      <th></th>\n",
       "      <th>type</th>\n",
       "      <th>energy</th>\n",
       "      <th>num</th>\n",
       "      <th>run</th>\n",
       "      <th>ev</th>\n",
       "      <th>path</th>\n",
       "    </tr>\n",
       "  </thead>\n",
       "  <tbody>\n",
       "    <tr>\n",
       "      <th>0</th>\n",
       "      <td>ER</td>\n",
       "      <td>10</td>\n",
       "      <td>0.5041503310203552</td>\n",
       "      <td>run4</td>\n",
       "      <td>272</td>\n",
       "      <td>0.5041503310203552__CYGNO_60_40_ER_10_keV_930V...</td>\n",
       "    </tr>\n",
       "    <tr>\n",
       "      <th>1</th>\n",
       "      <td>ER</td>\n",
       "      <td>3</td>\n",
       "      <td>-0.13757403194904327</td>\n",
       "      <td>run3</td>\n",
       "      <td>449</td>\n",
       "      <td>-0.13757403194904327__CYGNO_60_40_ER_3_keV_930...</td>\n",
       "    </tr>\n",
       "    <tr>\n",
       "      <th>2</th>\n",
       "      <td>ER</td>\n",
       "      <td>10</td>\n",
       "      <td>0.5042710304260254</td>\n",
       "      <td>run5</td>\n",
       "      <td>882</td>\n",
       "      <td>0.5042710304260254__CYGNO_60_40_ER_10_keV_930V...</td>\n",
       "    </tr>\n",
       "    <tr>\n",
       "      <th>3</th>\n",
       "      <td>ER</td>\n",
       "      <td>30</td>\n",
       "      <td>-1.4947187900543213</td>\n",
       "      <td>run3</td>\n",
       "      <td>660</td>\n",
       "      <td>-1.4947187900543213__CYGNO_60_40_ER_30_keV_930...</td>\n",
       "    </tr>\n",
       "    <tr>\n",
       "      <th>4</th>\n",
       "      <td>ER</td>\n",
       "      <td>10</td>\n",
       "      <td>1.562488317489624</td>\n",
       "      <td>run2</td>\n",
       "      <td>820</td>\n",
       "      <td>1.562488317489624__CYGNO_60_40_ER_10_keV_930V_...</td>\n",
       "    </tr>\n",
       "    <tr>\n",
       "      <th>...</th>\n",
       "      <td>...</td>\n",
       "      <td>...</td>\n",
       "      <td>...</td>\n",
       "      <td>...</td>\n",
       "      <td>...</td>\n",
       "      <td>...</td>\n",
       "    </tr>\n",
       "    <tr>\n",
       "      <th>13399</th>\n",
       "      <td>NR</td>\n",
       "      <td>1</td>\n",
       "      <td>-2.8066000938415527</td>\n",
       "      <td>run5</td>\n",
       "      <td>207</td>\n",
       "      <td>-2.8066000938415527__CYGNO_60_40_He_NR_1_keV_9...</td>\n",
       "    </tr>\n",
       "    <tr>\n",
       "      <th>13400</th>\n",
       "      <td>NR</td>\n",
       "      <td>6</td>\n",
       "      <td>2.858799934387207</td>\n",
       "      <td>run1</td>\n",
       "      <td>748</td>\n",
       "      <td>2.858799934387207__CYGNO_60_40_He_NR_6_keV_930...</td>\n",
       "    </tr>\n",
       "    <tr>\n",
       "      <th>13401</th>\n",
       "      <td>NR</td>\n",
       "      <td>6</td>\n",
       "      <td>3.1136999130249023</td>\n",
       "      <td>run1</td>\n",
       "      <td>809</td>\n",
       "      <td>3.1136999130249023__CYGNO_60_40_He_NR_6_keV_93...</td>\n",
       "    </tr>\n",
       "    <tr>\n",
       "      <th>13402</th>\n",
       "      <td>NR</td>\n",
       "      <td>20</td>\n",
       "      <td>2.88070011138916</td>\n",
       "      <td>run5</td>\n",
       "      <td>723</td>\n",
       "      <td>2.88070011138916__CYGNO_60_40_He_NR_20_keV_930...</td>\n",
       "    </tr>\n",
       "    <tr>\n",
       "      <th>13403</th>\n",
       "      <td>NR</td>\n",
       "      <td>20</td>\n",
       "      <td>-1.1974999904632568</td>\n",
       "      <td>run4</td>\n",
       "      <td>751</td>\n",
       "      <td>-1.1974999904632568__CYGNO_60_40_He_NR_20_keV_...</td>\n",
       "    </tr>\n",
       "  </tbody>\n",
       "</table>\n",
       "<p>13404 rows × 6 columns</p>\n",
       "</div>"
      ],
      "text/plain": [
       "      type energy                   num   run   ev  \\\n",
       "0       ER     10    0.5041503310203552  run4  272   \n",
       "1       ER      3  -0.13757403194904327  run3  449   \n",
       "2       ER     10    0.5042710304260254  run5  882   \n",
       "3       ER     30   -1.4947187900543213  run3  660   \n",
       "4       ER     10     1.562488317489624  run2  820   \n",
       "...    ...    ...                   ...   ...  ...   \n",
       "13399   NR      1   -2.8066000938415527  run5  207   \n",
       "13400   NR      6     2.858799934387207  run1  748   \n",
       "13401   NR      6    3.1136999130249023  run1  809   \n",
       "13402   NR     20      2.88070011138916  run5  723   \n",
       "13403   NR     20   -1.1974999904632568  run4  751   \n",
       "\n",
       "                                                    path  \n",
       "0      0.5041503310203552__CYGNO_60_40_ER_10_keV_930V...  \n",
       "1      -0.13757403194904327__CYGNO_60_40_ER_3_keV_930...  \n",
       "2      0.5042710304260254__CYGNO_60_40_ER_10_keV_930V...  \n",
       "3      -1.4947187900543213__CYGNO_60_40_ER_30_keV_930...  \n",
       "4      1.562488317489624__CYGNO_60_40_ER_10_keV_930V_...  \n",
       "...                                                  ...  \n",
       "13399  -2.8066000938415527__CYGNO_60_40_He_NR_1_keV_9...  \n",
       "13400  2.858799934387207__CYGNO_60_40_He_NR_6_keV_930...  \n",
       "13401  3.1136999130249023__CYGNO_60_40_He_NR_6_keV_93...  \n",
       "13402  2.88070011138916__CYGNO_60_40_He_NR_20_keV_930...  \n",
       "13403  -1.1974999904632568__CYGNO_60_40_He_NR_20_keV_...  \n",
       "\n",
       "[13404 rows x 6 columns]"
      ]
     },
     "execution_count": 3,
     "metadata": {},
     "output_type": "execute_result"
    }
   ],
   "source": [
    "data"
   ]
  },
  {
   "cell_type": "code",
   "execution_count": 4,
   "id": "southeast-benjamin",
   "metadata": {},
   "outputs": [],
   "source": [
    "data['type_2_ER'] = (data.type == 'ER')*1"
   ]
  },
  {
   "cell_type": "code",
   "execution_count": 5,
   "id": "acoustic-expense",
   "metadata": {},
   "outputs": [
    {
     "data": {
      "text/html": [
       "<div>\n",
       "<style scoped>\n",
       "    .dataframe tbody tr th:only-of-type {\n",
       "        vertical-align: middle;\n",
       "    }\n",
       "\n",
       "    .dataframe tbody tr th {\n",
       "        vertical-align: top;\n",
       "    }\n",
       "\n",
       "    .dataframe thead th {\n",
       "        text-align: right;\n",
       "    }\n",
       "</style>\n",
       "<table border=\"1\" class=\"dataframe\">\n",
       "  <thead>\n",
       "    <tr style=\"text-align: right;\">\n",
       "      <th></th>\n",
       "      <th>type</th>\n",
       "      <th>energy</th>\n",
       "      <th>num</th>\n",
       "      <th>run</th>\n",
       "      <th>ev</th>\n",
       "      <th>path</th>\n",
       "      <th>type_2_ER</th>\n",
       "    </tr>\n",
       "  </thead>\n",
       "  <tbody>\n",
       "    <tr>\n",
       "      <th>0</th>\n",
       "      <td>ER</td>\n",
       "      <td>10</td>\n",
       "      <td>0.5041503310203552</td>\n",
       "      <td>run4</td>\n",
       "      <td>272</td>\n",
       "      <td>0.5041503310203552__CYGNO_60_40_ER_10_keV_930V...</td>\n",
       "      <td>1</td>\n",
       "    </tr>\n",
       "    <tr>\n",
       "      <th>1</th>\n",
       "      <td>ER</td>\n",
       "      <td>3</td>\n",
       "      <td>-0.13757403194904327</td>\n",
       "      <td>run3</td>\n",
       "      <td>449</td>\n",
       "      <td>-0.13757403194904327__CYGNO_60_40_ER_3_keV_930...</td>\n",
       "      <td>1</td>\n",
       "    </tr>\n",
       "    <tr>\n",
       "      <th>2</th>\n",
       "      <td>ER</td>\n",
       "      <td>10</td>\n",
       "      <td>0.5042710304260254</td>\n",
       "      <td>run5</td>\n",
       "      <td>882</td>\n",
       "      <td>0.5042710304260254__CYGNO_60_40_ER_10_keV_930V...</td>\n",
       "      <td>1</td>\n",
       "    </tr>\n",
       "    <tr>\n",
       "      <th>3</th>\n",
       "      <td>ER</td>\n",
       "      <td>30</td>\n",
       "      <td>-1.4947187900543213</td>\n",
       "      <td>run3</td>\n",
       "      <td>660</td>\n",
       "      <td>-1.4947187900543213__CYGNO_60_40_ER_30_keV_930...</td>\n",
       "      <td>1</td>\n",
       "    </tr>\n",
       "    <tr>\n",
       "      <th>4</th>\n",
       "      <td>ER</td>\n",
       "      <td>10</td>\n",
       "      <td>1.562488317489624</td>\n",
       "      <td>run2</td>\n",
       "      <td>820</td>\n",
       "      <td>1.562488317489624__CYGNO_60_40_ER_10_keV_930V_...</td>\n",
       "      <td>1</td>\n",
       "    </tr>\n",
       "    <tr>\n",
       "      <th>...</th>\n",
       "      <td>...</td>\n",
       "      <td>...</td>\n",
       "      <td>...</td>\n",
       "      <td>...</td>\n",
       "      <td>...</td>\n",
       "      <td>...</td>\n",
       "      <td>...</td>\n",
       "    </tr>\n",
       "    <tr>\n",
       "      <th>13399</th>\n",
       "      <td>NR</td>\n",
       "      <td>1</td>\n",
       "      <td>-2.8066000938415527</td>\n",
       "      <td>run5</td>\n",
       "      <td>207</td>\n",
       "      <td>-2.8066000938415527__CYGNO_60_40_He_NR_1_keV_9...</td>\n",
       "      <td>0</td>\n",
       "    </tr>\n",
       "    <tr>\n",
       "      <th>13400</th>\n",
       "      <td>NR</td>\n",
       "      <td>6</td>\n",
       "      <td>2.858799934387207</td>\n",
       "      <td>run1</td>\n",
       "      <td>748</td>\n",
       "      <td>2.858799934387207__CYGNO_60_40_He_NR_6_keV_930...</td>\n",
       "      <td>0</td>\n",
       "    </tr>\n",
       "    <tr>\n",
       "      <th>13401</th>\n",
       "      <td>NR</td>\n",
       "      <td>6</td>\n",
       "      <td>3.1136999130249023</td>\n",
       "      <td>run1</td>\n",
       "      <td>809</td>\n",
       "      <td>3.1136999130249023__CYGNO_60_40_He_NR_6_keV_93...</td>\n",
       "      <td>0</td>\n",
       "    </tr>\n",
       "    <tr>\n",
       "      <th>13402</th>\n",
       "      <td>NR</td>\n",
       "      <td>20</td>\n",
       "      <td>2.88070011138916</td>\n",
       "      <td>run5</td>\n",
       "      <td>723</td>\n",
       "      <td>2.88070011138916__CYGNO_60_40_He_NR_20_keV_930...</td>\n",
       "      <td>0</td>\n",
       "    </tr>\n",
       "    <tr>\n",
       "      <th>13403</th>\n",
       "      <td>NR</td>\n",
       "      <td>20</td>\n",
       "      <td>-1.1974999904632568</td>\n",
       "      <td>run4</td>\n",
       "      <td>751</td>\n",
       "      <td>-1.1974999904632568__CYGNO_60_40_He_NR_20_keV_...</td>\n",
       "      <td>0</td>\n",
       "    </tr>\n",
       "  </tbody>\n",
       "</table>\n",
       "<p>13404 rows × 7 columns</p>\n",
       "</div>"
      ],
      "text/plain": [
       "      type energy                   num   run   ev  \\\n",
       "0       ER     10    0.5041503310203552  run4  272   \n",
       "1       ER      3  -0.13757403194904327  run3  449   \n",
       "2       ER     10    0.5042710304260254  run5  882   \n",
       "3       ER     30   -1.4947187900543213  run3  660   \n",
       "4       ER     10     1.562488317489624  run2  820   \n",
       "...    ...    ...                   ...   ...  ...   \n",
       "13399   NR      1   -2.8066000938415527  run5  207   \n",
       "13400   NR      6     2.858799934387207  run1  748   \n",
       "13401   NR      6    3.1136999130249023  run1  809   \n",
       "13402   NR     20      2.88070011138916  run5  723   \n",
       "13403   NR     20   -1.1974999904632568  run4  751   \n",
       "\n",
       "                                                    path  type_2_ER  \n",
       "0      0.5041503310203552__CYGNO_60_40_ER_10_keV_930V...          1  \n",
       "1      -0.13757403194904327__CYGNO_60_40_ER_3_keV_930...          1  \n",
       "2      0.5042710304260254__CYGNO_60_40_ER_10_keV_930V...          1  \n",
       "3      -1.4947187900543213__CYGNO_60_40_ER_30_keV_930...          1  \n",
       "4      1.562488317489624__CYGNO_60_40_ER_10_keV_930V_...          1  \n",
       "...                                                  ...        ...  \n",
       "13399  -2.8066000938415527__CYGNO_60_40_He_NR_1_keV_9...          0  \n",
       "13400  2.858799934387207__CYGNO_60_40_He_NR_6_keV_930...          0  \n",
       "13401  3.1136999130249023__CYGNO_60_40_He_NR_6_keV_93...          0  \n",
       "13402  2.88070011138916__CYGNO_60_40_He_NR_20_keV_930...          0  \n",
       "13403  -1.1974999904632568__CYGNO_60_40_He_NR_20_keV_...          0  \n",
       "\n",
       "[13404 rows x 7 columns]"
      ]
     },
     "execution_count": 5,
     "metadata": {},
     "output_type": "execute_result"
    }
   ],
   "source": [
    "data"
   ]
  },
  {
   "cell_type": "code",
   "execution_count": 6,
   "id": "polyphonic-deadline",
   "metadata": {},
   "outputs": [
    {
     "data": {
      "text/plain": [
       "6758"
      ]
     },
     "execution_count": 6,
     "metadata": {},
     "output_type": "execute_result"
    }
   ],
   "source": [
    "n_ER = sum(data.type == 'ER')\n",
    "n_ER"
   ]
  },
  {
   "cell_type": "code",
   "execution_count": 7,
   "id": "rental-idaho",
   "metadata": {},
   "outputs": [
    {
     "data": {
      "text/plain": [
       "6646"
      ]
     },
     "execution_count": 7,
     "metadata": {},
     "output_type": "execute_result"
    }
   ],
   "source": [
    "n_NR = sum(data.type == 'NR')\n",
    "n_NR"
   ]
  },
  {
   "cell_type": "code",
   "execution_count": 8,
   "id": "optimum-cocktail",
   "metadata": {},
   "outputs": [],
   "source": [
    "## Number of data to process\n",
    "n = n_NR"
   ]
  },
  {
   "cell_type": "code",
   "execution_count": 9,
   "id": "arabic-breath",
   "metadata": {},
   "outputs": [],
   "source": [
    "data.iloc[len(ER):len(ER)+n,]\n",
    "data_tmp = data.iloc[0:n,].append( data.iloc[len(ER):len(ER)+n,])"
   ]
  },
  {
   "cell_type": "code",
   "execution_count": 10,
   "id": "timely-million",
   "metadata": {},
   "outputs": [],
   "source": [
    "data_tmp = data_tmp.reset_index()"
   ]
  },
  {
   "cell_type": "markdown",
   "id": "satellite-roller",
   "metadata": {},
   "source": [
    "## Convert image into array"
   ]
  },
  {
   "cell_type": "code",
   "execution_count": 11,
   "id": "duplicate-india",
   "metadata": {},
   "outputs": [],
   "source": [
    "# convert PIL.Image object to numpy.Array, for training\n",
    "def img2arr(img):\n",
    "    return np.asarray(img.getdata(), dtype=np.uint8).reshape(img.height, img.width, -1)"
   ]
  },
  {
   "cell_type": "markdown",
   "id": "protecting-cleanup",
   "metadata": {},
   "source": [
    "### ER"
   ]
  },
  {
   "cell_type": "code",
   "execution_count": 14,
   "id": "median-greensboro",
   "metadata": {},
   "outputs": [],
   "source": [
    "# Converting ER\n",
    "cwd = os.getcwd() # get current directory\n",
    "mypath = cwd+'/idao_dataset/train/ER'\n",
    "file_list = [cwd+'/idao_dataset/train/ER/'+f for f in listdir(mypath) if isfile(join(mypath, f))]"
   ]
  },
  {
   "cell_type": "code",
   "execution_count": 15,
   "id": "ecological-crazy",
   "metadata": {},
   "outputs": [],
   "source": [
    "img_arr_list = []"
   ]
  },
  {
   "cell_type": "code",
   "execution_count": 16,
   "id": "skilled-texas",
   "metadata": {},
   "outputs": [],
   "source": [
    "n= n_ER"
   ]
  },
  {
   "cell_type": "code",
   "execution_count": 17,
   "id": "random-routine",
   "metadata": {},
   "outputs": [
    {
     "name": "stdout",
     "output_type": "stream",
     "text": [
      "CPU times: user 1h 4min 11s, sys: 2min 42s, total: 1h 6min 53s\n",
      "Wall time: 1h 7min 11s\n"
     ]
    }
   ],
   "source": [
    "%%time \n",
    "# img_arr_list = []\n",
    "for each in file_list[0:n]:    \n",
    "    img = Image.open(each).convert('LA')\n",
    "    img_arr_list.append(img2arr(img)[:,:,0]) # ignore the alpha channel"
   ]
  },
  {
   "cell_type": "code",
   "execution_count": 18,
   "id": "atmospheric-rolling",
   "metadata": {},
   "outputs": [
    {
     "data": {
      "text/html": [
       "<div>\n",
       "<style scoped>\n",
       "    .dataframe tbody tr th:only-of-type {\n",
       "        vertical-align: middle;\n",
       "    }\n",
       "\n",
       "    .dataframe tbody tr th {\n",
       "        vertical-align: top;\n",
       "    }\n",
       "\n",
       "    .dataframe thead th {\n",
       "        text-align: right;\n",
       "    }\n",
       "</style>\n",
       "<table border=\"1\" class=\"dataframe\">\n",
       "  <thead>\n",
       "    <tr style=\"text-align: right;\">\n",
       "      <th></th>\n",
       "      <th>img_array</th>\n",
       "      <th>type_2_ER</th>\n",
       "      <th>energy</th>\n",
       "    </tr>\n",
       "  </thead>\n",
       "  <tbody>\n",
       "    <tr>\n",
       "      <th>0</th>\n",
       "      <td>[[104, 104, 101, 101, 101, 101, 97, 104, 96, 1...</td>\n",
       "      <td>1</td>\n",
       "      <td>10</td>\n",
       "    </tr>\n",
       "    <tr>\n",
       "      <th>1</th>\n",
       "      <td>[[98, 97, 103, 104, 104, 98, 99, 102, 101, 97,...</td>\n",
       "      <td>1</td>\n",
       "      <td>3</td>\n",
       "    </tr>\n",
       "    <tr>\n",
       "      <th>2</th>\n",
       "      <td>[[102, 97, 100, 96, 100, 97, 94, 110, 97, 100,...</td>\n",
       "      <td>1</td>\n",
       "      <td>10</td>\n",
       "    </tr>\n",
       "    <tr>\n",
       "      <th>3</th>\n",
       "      <td>[[101, 96, 100, 99, 96, 108, 104, 102, 101, 99...</td>\n",
       "      <td>1</td>\n",
       "      <td>30</td>\n",
       "    </tr>\n",
       "    <tr>\n",
       "      <th>4</th>\n",
       "      <td>[[97, 98, 100, 101, 98, 100, 102, 100, 99, 99,...</td>\n",
       "      <td>1</td>\n",
       "      <td>10</td>\n",
       "    </tr>\n",
       "  </tbody>\n",
       "</table>\n",
       "</div>"
      ],
      "text/plain": [
       "                                           img_array  type_2_ER energy\n",
       "0  [[104, 104, 101, 101, 101, 101, 97, 104, 96, 1...          1     10\n",
       "1  [[98, 97, 103, 104, 104, 98, 99, 102, 101, 97,...          1      3\n",
       "2  [[102, 97, 100, 96, 100, 97, 94, 110, 97, 100,...          1     10\n",
       "3  [[101, 96, 100, 99, 96, 108, 104, 102, 101, 99...          1     30\n",
       "4  [[97, 98, 100, 101, 98, 100, 102, 100, 99, 99,...          1     10"
      ]
     },
     "execution_count": 18,
     "metadata": {},
     "output_type": "execute_result"
    }
   ],
   "source": [
    "er_data = pd.DataFrame([img_arr_list]).transpose().rename(columns={0: \"img_array\"})\n",
    "er_data['type_2_ER'] = data_tmp.type_2_ER[0:n]\n",
    "er_data['energy'] = list(data_tmp.energy[0:n])\n",
    "er_data.head()"
   ]
  },
  {
   "cell_type": "code",
   "execution_count": 19,
   "id": "passing-theater",
   "metadata": {},
   "outputs": [
    {
     "name": "stdout",
     "output_type": "stream",
     "text": [
      "CPU times: user 15.8 s, sys: 4.66 s, total: 20.5 s\n",
      "Wall time: 28.3 s\n"
     ]
    }
   ],
   "source": [
    "%%time\n",
    "er_data.to_pickle('er_data(1-'+str(n)+').pkl')"
   ]
  },
  {
   "cell_type": "markdown",
   "id": "conscious-fiction",
   "metadata": {},
   "source": [
    "### NR"
   ]
  },
  {
   "cell_type": "code",
   "execution_count": 12,
   "id": "wound-feelings",
   "metadata": {},
   "outputs": [
    {
     "name": "stdout",
     "output_type": "stream",
     "text": [
      "CPU times: user 1h 5min 26s, sys: 3min 31s, total: 1h 8min 57s\n",
      "Wall time: 1h 9min 30s\n"
     ]
    }
   ],
   "source": [
    "%%time \n",
    "# Converting NR\n",
    "cwd = os.getcwd() # get current directory\n",
    "mypath = cwd+'/idao_dataset/train/NR'\n",
    "file_list = [cwd+'/idao_dataset/train/NR/'+f for f in listdir(mypath) if isfile(join(mypath, f))]\n",
    "img_arr_list = []\n",
    "\n",
    "n= n_NR\n",
    "\n",
    "for each in file_list[0:n]:    \n",
    "    img = Image.open(each).convert('LA')\n",
    "    img_arr_list.append(img2arr(img)[:,:,0]) # ignore the alpha channel"
   ]
  },
  {
   "cell_type": "code",
   "execution_count": 13,
   "id": "entertaining-memorial",
   "metadata": {},
   "outputs": [
    {
     "data": {
      "text/html": [
       "<div>\n",
       "<style scoped>\n",
       "    .dataframe tbody tr th:only-of-type {\n",
       "        vertical-align: middle;\n",
       "    }\n",
       "\n",
       "    .dataframe tbody tr th {\n",
       "        vertical-align: top;\n",
       "    }\n",
       "\n",
       "    .dataframe thead th {\n",
       "        text-align: right;\n",
       "    }\n",
       "</style>\n",
       "<table border=\"1\" class=\"dataframe\">\n",
       "  <thead>\n",
       "    <tr style=\"text-align: right;\">\n",
       "      <th></th>\n",
       "      <th>img_array</th>\n",
       "      <th>type_2_ER</th>\n",
       "      <th>energy</th>\n",
       "    </tr>\n",
       "  </thead>\n",
       "  <tbody>\n",
       "    <tr>\n",
       "      <th>0</th>\n",
       "      <td>[[96, 103, 98, 100, 100, 100, 108, 96, 99, 100...</td>\n",
       "      <td>0</td>\n",
       "      <td>20</td>\n",
       "    </tr>\n",
       "    <tr>\n",
       "      <th>1</th>\n",
       "      <td>[[96, 104, 104, 98, 98, 100, 97, 103, 100, 100...</td>\n",
       "      <td>0</td>\n",
       "      <td>1</td>\n",
       "    </tr>\n",
       "    <tr>\n",
       "      <th>2</th>\n",
       "      <td>[[101, 98, 106, 99, 99, 97, 97, 100, 102, 104,...</td>\n",
       "      <td>0</td>\n",
       "      <td>6</td>\n",
       "    </tr>\n",
       "    <tr>\n",
       "      <th>3</th>\n",
       "      <td>[[103, 100, 98, 98, 101, 100, 108, 102, 101, 9...</td>\n",
       "      <td>0</td>\n",
       "      <td>1</td>\n",
       "    </tr>\n",
       "    <tr>\n",
       "      <th>4</th>\n",
       "      <td>[[102, 103, 101, 102, 102, 102, 105, 101, 104,...</td>\n",
       "      <td>0</td>\n",
       "      <td>20</td>\n",
       "    </tr>\n",
       "  </tbody>\n",
       "</table>\n",
       "</div>"
      ],
      "text/plain": [
       "                                           img_array  type_2_ER energy\n",
       "0  [[96, 103, 98, 100, 100, 100, 108, 96, 99, 100...          0     20\n",
       "1  [[96, 104, 104, 98, 98, 100, 97, 103, 100, 100...          0      1\n",
       "2  [[101, 98, 106, 99, 99, 97, 97, 100, 102, 104,...          0      6\n",
       "3  [[103, 100, 98, 98, 101, 100, 108, 102, 101, 9...          0      1\n",
       "4  [[102, 103, 101, 102, 102, 102, 105, 101, 104,...          0     20"
      ]
     },
     "execution_count": 13,
     "metadata": {},
     "output_type": "execute_result"
    }
   ],
   "source": [
    "nr_data = pd.DataFrame([img_arr_list]).transpose().rename(columns={0: \"img_array\"})\n",
    "nr_data['type_2_ER'] = list(data_tmp.type_2_ER[n:])\n",
    "nr_data['energy'] = list(data_tmp.energy[n:])\n",
    "nr_data.head()"
   ]
  },
  {
   "cell_type": "code",
   "execution_count": 14,
   "id": "polyphonic-fault",
   "metadata": {},
   "outputs": [
    {
     "name": "stdout",
     "output_type": "stream",
     "text": [
      "CPU times: user 11.6 s, sys: 3.76 s, total: 15.4 s\n",
      "Wall time: 23.8 s\n"
     ]
    }
   ],
   "source": [
    "%%time\n",
    "nr_data.to_pickle('nr_data(1-'+str(n)+').pkl')"
   ]
  },
  {
   "cell_type": "code",
   "execution_count": null,
   "id": "concrete-seafood",
   "metadata": {},
   "outputs": [],
   "source": []
  }
 ],
 "metadata": {
  "kernelspec": {
   "display_name": "Python 3",
   "language": "python",
   "name": "python3"
  },
  "language_info": {
   "codemirror_mode": {
    "name": "ipython",
    "version": 3
   },
   "file_extension": ".py",
   "mimetype": "text/x-python",
   "name": "python",
   "nbconvert_exporter": "python",
   "pygments_lexer": "ipython3",
   "version": "3.7.7"
  }
 },
 "nbformat": 4,
 "nbformat_minor": 5
}
