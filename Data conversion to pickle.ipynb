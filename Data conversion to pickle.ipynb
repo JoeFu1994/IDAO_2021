{
 "cells": [
  {
   "cell_type": "code",
   "execution_count": 1,
   "id": "mathematical-columbia",
   "metadata": {},
   "outputs": [
    {
     "name": "stderr",
     "output_type": "stream",
     "text": [
      "Using TensorFlow backend.\n"
     ]
    }
   ],
   "source": [
    "# General data manipulation\n",
    "import pandas as pd\n",
    "from matplotlib import pyplot as plt\n",
    "import matplotlib.image as mpimg\n",
    "import numpy as np\n",
    "import cv2\n",
    "import os\n",
    "from os import listdir\n",
    "from os.path import isfile, join \n",
    "import sys\n",
    "import time\n",
    "from PIL import Image # pip install pillow\n",
    "from keras.utils import np_utils"
   ]
  },
  {
   "cell_type": "markdown",
   "id": "bright-wedding",
   "metadata": {},
   "source": [
    "# Training data\n",
    "## Text Data"
   ]
  },
  {
   "cell_type": "code",
   "execution_count": 2,
   "id": "sharp-deployment",
   "metadata": {},
   "outputs": [],
   "source": [
    "# get train file names and convert to dataframe\n",
    "# you may need to change your working directory first:\n",
    "# os.chdir('/your_path')\n",
    "\n",
    "ER_file_names = os.listdir('idao_dataset/train/ER/')\n",
    "NR_file_names = os.listdir('idao_dataset/train/NR/')\n",
    "\n",
    "ER = pd.DataFrame([[y.replace(';1.png','').replace('ev','') for y in x.split('_')] for x in ER_file_names])\n",
    "ER['path'] = ER_file_names\n",
    "NR = pd.DataFrame([[y.replace(';1.png','').replace('ev','') for y in x.split('_')] for x in NR_file_names])\n",
    "NR['path'] = NR_file_names\n",
    "\n",
    "ER = ER[[5,6,0,15,16,'path']].rename(columns={5:'type',6:'energy',0:'num',15:'run',16:'ev'})\n",
    "NR = NR[[6,7,0,17,18,'path']].rename(columns={6:'type',7:'energy',0:'num',17:'run',18:'ev'})\n",
    "data = ER.append(NR, ignore_index = True)\n",
    "# data"
   ]
  },
  {
   "cell_type": "code",
   "execution_count": 3,
   "id": "tough-marketplace",
   "metadata": {},
   "outputs": [
    {
     "data": {
      "text/html": [
       "<div>\n",
       "<style scoped>\n",
       "    .dataframe tbody tr th:only-of-type {\n",
       "        vertical-align: middle;\n",
       "    }\n",
       "\n",
       "    .dataframe tbody tr th {\n",
       "        vertical-align: top;\n",
       "    }\n",
       "\n",
       "    .dataframe thead th {\n",
       "        text-align: right;\n",
       "    }\n",
       "</style>\n",
       "<table border=\"1\" class=\"dataframe\">\n",
       "  <thead>\n",
       "    <tr style=\"text-align: right;\">\n",
       "      <th></th>\n",
       "      <th>type</th>\n",
       "      <th>energy</th>\n",
       "      <th>num</th>\n",
       "      <th>run</th>\n",
       "      <th>ev</th>\n",
       "      <th>path</th>\n",
       "    </tr>\n",
       "  </thead>\n",
       "  <tbody>\n",
       "    <tr>\n",
       "      <th>0</th>\n",
       "      <td>ER</td>\n",
       "      <td>10</td>\n",
       "      <td>0.5041503310203552</td>\n",
       "      <td>run4</td>\n",
       "      <td>272</td>\n",
       "      <td>0.5041503310203552__CYGNO_60_40_ER_10_keV_930V...</td>\n",
       "    </tr>\n",
       "    <tr>\n",
       "      <th>1</th>\n",
       "      <td>ER</td>\n",
       "      <td>3</td>\n",
       "      <td>-0.13757403194904327</td>\n",
       "      <td>run3</td>\n",
       "      <td>449</td>\n",
       "      <td>-0.13757403194904327__CYGNO_60_40_ER_3_keV_930...</td>\n",
       "    </tr>\n",
       "    <tr>\n",
       "      <th>2</th>\n",
       "      <td>ER</td>\n",
       "      <td>10</td>\n",
       "      <td>0.5042710304260254</td>\n",
       "      <td>run5</td>\n",
       "      <td>882</td>\n",
       "      <td>0.5042710304260254__CYGNO_60_40_ER_10_keV_930V...</td>\n",
       "    </tr>\n",
       "    <tr>\n",
       "      <th>3</th>\n",
       "      <td>ER</td>\n",
       "      <td>30</td>\n",
       "      <td>-1.4947187900543213</td>\n",
       "      <td>run3</td>\n",
       "      <td>660</td>\n",
       "      <td>-1.4947187900543213__CYGNO_60_40_ER_30_keV_930...</td>\n",
       "    </tr>\n",
       "    <tr>\n",
       "      <th>4</th>\n",
       "      <td>ER</td>\n",
       "      <td>10</td>\n",
       "      <td>1.562488317489624</td>\n",
       "      <td>run2</td>\n",
       "      <td>820</td>\n",
       "      <td>1.562488317489624__CYGNO_60_40_ER_10_keV_930V_...</td>\n",
       "    </tr>\n",
       "    <tr>\n",
       "      <th>...</th>\n",
       "      <td>...</td>\n",
       "      <td>...</td>\n",
       "      <td>...</td>\n",
       "      <td>...</td>\n",
       "      <td>...</td>\n",
       "      <td>...</td>\n",
       "    </tr>\n",
       "    <tr>\n",
       "      <th>13399</th>\n",
       "      <td>NR</td>\n",
       "      <td>1</td>\n",
       "      <td>-2.8066000938415527</td>\n",
       "      <td>run5</td>\n",
       "      <td>207</td>\n",
       "      <td>-2.8066000938415527__CYGNO_60_40_He_NR_1_keV_9...</td>\n",
       "    </tr>\n",
       "    <tr>\n",
       "      <th>13400</th>\n",
       "      <td>NR</td>\n",
       "      <td>6</td>\n",
       "      <td>2.858799934387207</td>\n",
       "      <td>run1</td>\n",
       "      <td>748</td>\n",
       "      <td>2.858799934387207__CYGNO_60_40_He_NR_6_keV_930...</td>\n",
       "    </tr>\n",
       "    <tr>\n",
       "      <th>13401</th>\n",
       "      <td>NR</td>\n",
       "      <td>6</td>\n",
       "      <td>3.1136999130249023</td>\n",
       "      <td>run1</td>\n",
       "      <td>809</td>\n",
       "      <td>3.1136999130249023__CYGNO_60_40_He_NR_6_keV_93...</td>\n",
       "    </tr>\n",
       "    <tr>\n",
       "      <th>13402</th>\n",
       "      <td>NR</td>\n",
       "      <td>20</td>\n",
       "      <td>2.88070011138916</td>\n",
       "      <td>run5</td>\n",
       "      <td>723</td>\n",
       "      <td>2.88070011138916__CYGNO_60_40_He_NR_20_keV_930...</td>\n",
       "    </tr>\n",
       "    <tr>\n",
       "      <th>13403</th>\n",
       "      <td>NR</td>\n",
       "      <td>20</td>\n",
       "      <td>-1.1974999904632568</td>\n",
       "      <td>run4</td>\n",
       "      <td>751</td>\n",
       "      <td>-1.1974999904632568__CYGNO_60_40_He_NR_20_keV_...</td>\n",
       "    </tr>\n",
       "  </tbody>\n",
       "</table>\n",
       "<p>13404 rows × 6 columns</p>\n",
       "</div>"
      ],
      "text/plain": [
       "      type energy                   num   run   ev  \\\n",
       "0       ER     10    0.5041503310203552  run4  272   \n",
       "1       ER      3  -0.13757403194904327  run3  449   \n",
       "2       ER     10    0.5042710304260254  run5  882   \n",
       "3       ER     30   -1.4947187900543213  run3  660   \n",
       "4       ER     10     1.562488317489624  run2  820   \n",
       "...    ...    ...                   ...   ...  ...   \n",
       "13399   NR      1   -2.8066000938415527  run5  207   \n",
       "13400   NR      6     2.858799934387207  run1  748   \n",
       "13401   NR      6    3.1136999130249023  run1  809   \n",
       "13402   NR     20      2.88070011138916  run5  723   \n",
       "13403   NR     20   -1.1974999904632568  run4  751   \n",
       "\n",
       "                                                    path  \n",
       "0      0.5041503310203552__CYGNO_60_40_ER_10_keV_930V...  \n",
       "1      -0.13757403194904327__CYGNO_60_40_ER_3_keV_930...  \n",
       "2      0.5042710304260254__CYGNO_60_40_ER_10_keV_930V...  \n",
       "3      -1.4947187900543213__CYGNO_60_40_ER_30_keV_930...  \n",
       "4      1.562488317489624__CYGNO_60_40_ER_10_keV_930V_...  \n",
       "...                                                  ...  \n",
       "13399  -2.8066000938415527__CYGNO_60_40_He_NR_1_keV_9...  \n",
       "13400  2.858799934387207__CYGNO_60_40_He_NR_6_keV_930...  \n",
       "13401  3.1136999130249023__CYGNO_60_40_He_NR_6_keV_93...  \n",
       "13402  2.88070011138916__CYGNO_60_40_He_NR_20_keV_930...  \n",
       "13403  -1.1974999904632568__CYGNO_60_40_He_NR_20_keV_...  \n",
       "\n",
       "[13404 rows x 6 columns]"
      ]
     },
     "execution_count": 3,
     "metadata": {},
     "output_type": "execute_result"
    }
   ],
   "source": [
    "data"
   ]
  },
  {
   "cell_type": "code",
   "execution_count": 4,
   "id": "major-wichita",
   "metadata": {},
   "outputs": [],
   "source": [
    "data['type_2_ER'] = (data.type == 'ER')*1"
   ]
  },
  {
   "cell_type": "code",
   "execution_count": 5,
   "id": "ceramic-multimedia",
   "metadata": {},
   "outputs": [
    {
     "data": {
      "text/html": [
       "<div>\n",
       "<style scoped>\n",
       "    .dataframe tbody tr th:only-of-type {\n",
       "        vertical-align: middle;\n",
       "    }\n",
       "\n",
       "    .dataframe tbody tr th {\n",
       "        vertical-align: top;\n",
       "    }\n",
       "\n",
       "    .dataframe thead th {\n",
       "        text-align: right;\n",
       "    }\n",
       "</style>\n",
       "<table border=\"1\" class=\"dataframe\">\n",
       "  <thead>\n",
       "    <tr style=\"text-align: right;\">\n",
       "      <th></th>\n",
       "      <th>type</th>\n",
       "      <th>energy</th>\n",
       "      <th>num</th>\n",
       "      <th>run</th>\n",
       "      <th>ev</th>\n",
       "      <th>path</th>\n",
       "      <th>type_2_ER</th>\n",
       "    </tr>\n",
       "  </thead>\n",
       "  <tbody>\n",
       "    <tr>\n",
       "      <th>0</th>\n",
       "      <td>ER</td>\n",
       "      <td>10</td>\n",
       "      <td>0.5041503310203552</td>\n",
       "      <td>run4</td>\n",
       "      <td>272</td>\n",
       "      <td>0.5041503310203552__CYGNO_60_40_ER_10_keV_930V...</td>\n",
       "      <td>1</td>\n",
       "    </tr>\n",
       "    <tr>\n",
       "      <th>1</th>\n",
       "      <td>ER</td>\n",
       "      <td>3</td>\n",
       "      <td>-0.13757403194904327</td>\n",
       "      <td>run3</td>\n",
       "      <td>449</td>\n",
       "      <td>-0.13757403194904327__CYGNO_60_40_ER_3_keV_930...</td>\n",
       "      <td>1</td>\n",
       "    </tr>\n",
       "    <tr>\n",
       "      <th>2</th>\n",
       "      <td>ER</td>\n",
       "      <td>10</td>\n",
       "      <td>0.5042710304260254</td>\n",
       "      <td>run5</td>\n",
       "      <td>882</td>\n",
       "      <td>0.5042710304260254__CYGNO_60_40_ER_10_keV_930V...</td>\n",
       "      <td>1</td>\n",
       "    </tr>\n",
       "    <tr>\n",
       "      <th>3</th>\n",
       "      <td>ER</td>\n",
       "      <td>30</td>\n",
       "      <td>-1.4947187900543213</td>\n",
       "      <td>run3</td>\n",
       "      <td>660</td>\n",
       "      <td>-1.4947187900543213__CYGNO_60_40_ER_30_keV_930...</td>\n",
       "      <td>1</td>\n",
       "    </tr>\n",
       "    <tr>\n",
       "      <th>4</th>\n",
       "      <td>ER</td>\n",
       "      <td>10</td>\n",
       "      <td>1.562488317489624</td>\n",
       "      <td>run2</td>\n",
       "      <td>820</td>\n",
       "      <td>1.562488317489624__CYGNO_60_40_ER_10_keV_930V_...</td>\n",
       "      <td>1</td>\n",
       "    </tr>\n",
       "    <tr>\n",
       "      <th>...</th>\n",
       "      <td>...</td>\n",
       "      <td>...</td>\n",
       "      <td>...</td>\n",
       "      <td>...</td>\n",
       "      <td>...</td>\n",
       "      <td>...</td>\n",
       "      <td>...</td>\n",
       "    </tr>\n",
       "    <tr>\n",
       "      <th>13399</th>\n",
       "      <td>NR</td>\n",
       "      <td>1</td>\n",
       "      <td>-2.8066000938415527</td>\n",
       "      <td>run5</td>\n",
       "      <td>207</td>\n",
       "      <td>-2.8066000938415527__CYGNO_60_40_He_NR_1_keV_9...</td>\n",
       "      <td>0</td>\n",
       "    </tr>\n",
       "    <tr>\n",
       "      <th>13400</th>\n",
       "      <td>NR</td>\n",
       "      <td>6</td>\n",
       "      <td>2.858799934387207</td>\n",
       "      <td>run1</td>\n",
       "      <td>748</td>\n",
       "      <td>2.858799934387207__CYGNO_60_40_He_NR_6_keV_930...</td>\n",
       "      <td>0</td>\n",
       "    </tr>\n",
       "    <tr>\n",
       "      <th>13401</th>\n",
       "      <td>NR</td>\n",
       "      <td>6</td>\n",
       "      <td>3.1136999130249023</td>\n",
       "      <td>run1</td>\n",
       "      <td>809</td>\n",
       "      <td>3.1136999130249023__CYGNO_60_40_He_NR_6_keV_93...</td>\n",
       "      <td>0</td>\n",
       "    </tr>\n",
       "    <tr>\n",
       "      <th>13402</th>\n",
       "      <td>NR</td>\n",
       "      <td>20</td>\n",
       "      <td>2.88070011138916</td>\n",
       "      <td>run5</td>\n",
       "      <td>723</td>\n",
       "      <td>2.88070011138916__CYGNO_60_40_He_NR_20_keV_930...</td>\n",
       "      <td>0</td>\n",
       "    </tr>\n",
       "    <tr>\n",
       "      <th>13403</th>\n",
       "      <td>NR</td>\n",
       "      <td>20</td>\n",
       "      <td>-1.1974999904632568</td>\n",
       "      <td>run4</td>\n",
       "      <td>751</td>\n",
       "      <td>-1.1974999904632568__CYGNO_60_40_He_NR_20_keV_...</td>\n",
       "      <td>0</td>\n",
       "    </tr>\n",
       "  </tbody>\n",
       "</table>\n",
       "<p>13404 rows × 7 columns</p>\n",
       "</div>"
      ],
      "text/plain": [
       "      type energy                   num   run   ev  \\\n",
       "0       ER     10    0.5041503310203552  run4  272   \n",
       "1       ER      3  -0.13757403194904327  run3  449   \n",
       "2       ER     10    0.5042710304260254  run5  882   \n",
       "3       ER     30   -1.4947187900543213  run3  660   \n",
       "4       ER     10     1.562488317489624  run2  820   \n",
       "...    ...    ...                   ...   ...  ...   \n",
       "13399   NR      1   -2.8066000938415527  run5  207   \n",
       "13400   NR      6     2.858799934387207  run1  748   \n",
       "13401   NR      6    3.1136999130249023  run1  809   \n",
       "13402   NR     20      2.88070011138916  run5  723   \n",
       "13403   NR     20   -1.1974999904632568  run4  751   \n",
       "\n",
       "                                                    path  type_2_ER  \n",
       "0      0.5041503310203552__CYGNO_60_40_ER_10_keV_930V...          1  \n",
       "1      -0.13757403194904327__CYGNO_60_40_ER_3_keV_930...          1  \n",
       "2      0.5042710304260254__CYGNO_60_40_ER_10_keV_930V...          1  \n",
       "3      -1.4947187900543213__CYGNO_60_40_ER_30_keV_930...          1  \n",
       "4      1.562488317489624__CYGNO_60_40_ER_10_keV_930V_...          1  \n",
       "...                                                  ...        ...  \n",
       "13399  -2.8066000938415527__CYGNO_60_40_He_NR_1_keV_9...          0  \n",
       "13400  2.858799934387207__CYGNO_60_40_He_NR_6_keV_930...          0  \n",
       "13401  3.1136999130249023__CYGNO_60_40_He_NR_6_keV_93...          0  \n",
       "13402  2.88070011138916__CYGNO_60_40_He_NR_20_keV_930...          0  \n",
       "13403  -1.1974999904632568__CYGNO_60_40_He_NR_20_keV_...          0  \n",
       "\n",
       "[13404 rows x 7 columns]"
      ]
     },
     "execution_count": 5,
     "metadata": {},
     "output_type": "execute_result"
    }
   ],
   "source": [
    "data"
   ]
  },
  {
   "cell_type": "code",
   "execution_count": 6,
   "id": "satellite-queensland",
   "metadata": {},
   "outputs": [
    {
     "data": {
      "text/plain": [
       "6758"
      ]
     },
     "execution_count": 6,
     "metadata": {},
     "output_type": "execute_result"
    }
   ],
   "source": [
    "n_ER = sum(data.type == 'ER')\n",
    "n_ER"
   ]
  },
  {
   "cell_type": "code",
   "execution_count": 7,
   "id": "consolidated-battery",
   "metadata": {},
   "outputs": [
    {
     "data": {
      "text/plain": [
       "6646"
      ]
     },
     "execution_count": 7,
     "metadata": {},
     "output_type": "execute_result"
    }
   ],
   "source": [
    "n_NR = sum(data.type == 'NR')\n",
    "n_NR"
   ]
  },
  {
   "cell_type": "code",
   "execution_count": 8,
   "id": "mature-checklist",
   "metadata": {},
   "outputs": [],
   "source": [
    "## Number of data to process\n",
    "n = n_NR"
   ]
  },
  {
   "cell_type": "code",
   "execution_count": 9,
   "id": "russian-increase",
   "metadata": {},
   "outputs": [],
   "source": [
    "data.iloc[len(ER):len(ER)+n,]\n",
    "data_tmp = data.iloc[0:n,].append( data.iloc[len(ER):len(ER)+n,])"
   ]
  },
  {
   "cell_type": "code",
   "execution_count": 10,
   "id": "portable-hampton",
   "metadata": {},
   "outputs": [],
   "source": [
    "data_tmp = data_tmp.reset_index()"
   ]
  },
  {
   "cell_type": "markdown",
   "id": "billion-tissue",
   "metadata": {},
   "source": [
    "## Convert image into array"
   ]
  },
  {
   "cell_type": "code",
   "execution_count": 11,
   "id": "statistical-result",
   "metadata": {},
   "outputs": [],
   "source": [
    "# convert PIL.Image object to numpy.Array, for training\n",
    "def img2arr(img):\n",
    "    return np.asarray(img.getdata(), dtype=np.uint8).reshape(img.height, img.width, -1)"
   ]
  },
  {
   "cell_type": "markdown",
   "id": "major-essence",
   "metadata": {},
   "source": [
    "### ER"
   ]
  },
  {
   "cell_type": "code",
   "execution_count": 14,
   "id": "isolated-reynolds",
   "metadata": {},
   "outputs": [],
   "source": [
    "# Converting ER\n",
    "cwd = os.getcwd() # get current directory\n",
    "mypath = cwd+'/idao_dataset/train/ER'\n",
    "file_list = [cwd+'/idao_dataset/train/ER/'+f for f in listdir(mypath) if isfile(join(mypath, f))]"
   ]
  },
  {
   "cell_type": "code",
   "execution_count": 15,
   "id": "anticipated-banner",
   "metadata": {},
   "outputs": [],
   "source": [
    "img_arr_list = []"
   ]
  },
  {
   "cell_type": "code",
   "execution_count": 16,
   "id": "desperate-madison",
   "metadata": {},
   "outputs": [],
   "source": [
    "n= n_ER"
   ]
  },
  {
   "cell_type": "code",
   "execution_count": 17,
   "id": "joint-market",
   "metadata": {},
   "outputs": [
    {
     "name": "stdout",
     "output_type": "stream",
     "text": [
      "CPU times: user 1h 4min 11s, sys: 2min 42s, total: 1h 6min 53s\n",
      "Wall time: 1h 7min 11s\n"
     ]
    }
   ],
   "source": [
    "%%time \n",
    "# img_arr_list = []\n",
    "for each in file_list[0:n]:    \n",
    "    img = Image.open(each).convert('LA')\n",
    "    img_arr_list.append(img2arr(img)[:,:,0]) # ignore the alpha channel"
   ]
  },
  {
   "cell_type": "code",
   "execution_count": 18,
   "id": "alien-selling",
   "metadata": {},
   "outputs": [
    {
     "data": {
      "text/html": [
       "<div>\n",
       "<style scoped>\n",
       "    .dataframe tbody tr th:only-of-type {\n",
       "        vertical-align: middle;\n",
       "    }\n",
       "\n",
       "    .dataframe tbody tr th {\n",
       "        vertical-align: top;\n",
       "    }\n",
       "\n",
       "    .dataframe thead th {\n",
       "        text-align: right;\n",
       "    }\n",
       "</style>\n",
       "<table border=\"1\" class=\"dataframe\">\n",
       "  <thead>\n",
       "    <tr style=\"text-align: right;\">\n",
       "      <th></th>\n",
       "      <th>img_array</th>\n",
       "      <th>type_2_ER</th>\n",
       "      <th>energy</th>\n",
       "    </tr>\n",
       "  </thead>\n",
       "  <tbody>\n",
       "    <tr>\n",
       "      <th>0</th>\n",
       "      <td>[[104, 104, 101, 101, 101, 101, 97, 104, 96, 1...</td>\n",
       "      <td>1</td>\n",
       "      <td>10</td>\n",
       "    </tr>\n",
       "    <tr>\n",
       "      <th>1</th>\n",
       "      <td>[[98, 97, 103, 104, 104, 98, 99, 102, 101, 97,...</td>\n",
       "      <td>1</td>\n",
       "      <td>3</td>\n",
       "    </tr>\n",
       "    <tr>\n",
       "      <th>2</th>\n",
       "      <td>[[102, 97, 100, 96, 100, 97, 94, 110, 97, 100,...</td>\n",
       "      <td>1</td>\n",
       "      <td>10</td>\n",
       "    </tr>\n",
       "    <tr>\n",
       "      <th>3</th>\n",
       "      <td>[[101, 96, 100, 99, 96, 108, 104, 102, 101, 99...</td>\n",
       "      <td>1</td>\n",
       "      <td>30</td>\n",
       "    </tr>\n",
       "    <tr>\n",
       "      <th>4</th>\n",
       "      <td>[[97, 98, 100, 101, 98, 100, 102, 100, 99, 99,...</td>\n",
       "      <td>1</td>\n",
       "      <td>10</td>\n",
       "    </tr>\n",
       "  </tbody>\n",
       "</table>\n",
       "</div>"
      ],
      "text/plain": [
       "                                           img_array  type_2_ER energy\n",
       "0  [[104, 104, 101, 101, 101, 101, 97, 104, 96, 1...          1     10\n",
       "1  [[98, 97, 103, 104, 104, 98, 99, 102, 101, 97,...          1      3\n",
       "2  [[102, 97, 100, 96, 100, 97, 94, 110, 97, 100,...          1     10\n",
       "3  [[101, 96, 100, 99, 96, 108, 104, 102, 101, 99...          1     30\n",
       "4  [[97, 98, 100, 101, 98, 100, 102, 100, 99, 99,...          1     10"
      ]
     },
     "execution_count": 18,
     "metadata": {},
     "output_type": "execute_result"
    }
   ],
   "source": [
    "er_data = pd.DataFrame([img_arr_list]).transpose().rename(columns={0: \"img_array\"})\n",
    "er_data['type_2_ER'] = data_tmp.type_2_ER[0:n]\n",
    "er_data['energy'] = list(data_tmp.energy[0:n])\n",
    "er_data.head()"
   ]
  },
  {
   "cell_type": "code",
   "execution_count": 19,
   "id": "collected-plate",
   "metadata": {},
   "outputs": [
    {
     "name": "stdout",
     "output_type": "stream",
     "text": [
      "CPU times: user 15.8 s, sys: 4.66 s, total: 20.5 s\n",
      "Wall time: 28.3 s\n"
     ]
    }
   ],
   "source": [
    "%%time\n",
    "er_data.to_pickle('er_data(1-'+str(n)+').pkl')"
   ]
  },
  {
   "cell_type": "markdown",
   "id": "electric-microwave",
   "metadata": {},
   "source": [
    "### NR"
   ]
  },
  {
   "cell_type": "code",
   "execution_count": 12,
   "id": "residential-england",
   "metadata": {},
   "outputs": [
    {
     "name": "stdout",
     "output_type": "stream",
     "text": [
      "CPU times: user 1h 5min 26s, sys: 3min 31s, total: 1h 8min 57s\n",
      "Wall time: 1h 9min 30s\n"
     ]
    }
   ],
   "source": [
    "%%time \n",
    "# Converting NR\n",
    "cwd = os.getcwd() # get current directory\n",
    "mypath = cwd+'/idao_dataset/train/NR'\n",
    "file_list = [cwd+'/idao_dataset/train/NR/'+f for f in listdir(mypath) if isfile(join(mypath, f))]\n",
    "img_arr_list = []\n",
    "\n",
    "n= n_NR\n",
    "\n",
    "for each in file_list[0:n]:    \n",
    "    img = Image.open(each).convert('LA')\n",
    "    img_arr_list.append(img2arr(img)[:,:,0]) # ignore the alpha channel"
   ]
  },
  {
   "cell_type": "code",
   "execution_count": 13,
   "id": "opened-title",
   "metadata": {},
   "outputs": [
    {
     "data": {
      "text/html": [
       "<div>\n",
       "<style scoped>\n",
       "    .dataframe tbody tr th:only-of-type {\n",
       "        vertical-align: middle;\n",
       "    }\n",
       "\n",
       "    .dataframe tbody tr th {\n",
       "        vertical-align: top;\n",
       "    }\n",
       "\n",
       "    .dataframe thead th {\n",
       "        text-align: right;\n",
       "    }\n",
       "</style>\n",
       "<table border=\"1\" class=\"dataframe\">\n",
       "  <thead>\n",
       "    <tr style=\"text-align: right;\">\n",
       "      <th></th>\n",
       "      <th>img_array</th>\n",
       "      <th>type_2_ER</th>\n",
       "      <th>energy</th>\n",
       "    </tr>\n",
       "  </thead>\n",
       "  <tbody>\n",
       "    <tr>\n",
       "      <th>0</th>\n",
       "      <td>[[96, 103, 98, 100, 100, 100, 108, 96, 99, 100...</td>\n",
       "      <td>0</td>\n",
       "      <td>20</td>\n",
       "    </tr>\n",
       "    <tr>\n",
       "      <th>1</th>\n",
       "      <td>[[96, 104, 104, 98, 98, 100, 97, 103, 100, 100...</td>\n",
       "      <td>0</td>\n",
       "      <td>1</td>\n",
       "    </tr>\n",
       "    <tr>\n",
       "      <th>2</th>\n",
       "      <td>[[101, 98, 106, 99, 99, 97, 97, 100, 102, 104,...</td>\n",
       "      <td>0</td>\n",
       "      <td>6</td>\n",
       "    </tr>\n",
       "    <tr>\n",
       "      <th>3</th>\n",
       "      <td>[[103, 100, 98, 98, 101, 100, 108, 102, 101, 9...</td>\n",
       "      <td>0</td>\n",
       "      <td>1</td>\n",
       "    </tr>\n",
       "    <tr>\n",
       "      <th>4</th>\n",
       "      <td>[[102, 103, 101, 102, 102, 102, 105, 101, 104,...</td>\n",
       "      <td>0</td>\n",
       "      <td>20</td>\n",
       "    </tr>\n",
       "  </tbody>\n",
       "</table>\n",
       "</div>"
      ],
      "text/plain": [
       "                                           img_array  type_2_ER energy\n",
       "0  [[96, 103, 98, 100, 100, 100, 108, 96, 99, 100...          0     20\n",
       "1  [[96, 104, 104, 98, 98, 100, 97, 103, 100, 100...          0      1\n",
       "2  [[101, 98, 106, 99, 99, 97, 97, 100, 102, 104,...          0      6\n",
       "3  [[103, 100, 98, 98, 101, 100, 108, 102, 101, 9...          0      1\n",
       "4  [[102, 103, 101, 102, 102, 102, 105, 101, 104,...          0     20"
      ]
     },
     "execution_count": 13,
     "metadata": {},
     "output_type": "execute_result"
    }
   ],
   "source": [
    "nr_data = pd.DataFrame([img_arr_list]).transpose().rename(columns={0: \"img_array\"})\n",
    "nr_data['type_2_ER'] = list(data_tmp.type_2_ER[n:])\n",
    "nr_data['energy'] = list(data_tmp.energy[n:])\n",
    "nr_data.head()"
   ]
  },
  {
   "cell_type": "code",
   "execution_count": 14,
   "id": "promotional-detail",
   "metadata": {},
   "outputs": [
    {
     "name": "stdout",
     "output_type": "stream",
     "text": [
      "CPU times: user 11.6 s, sys: 3.76 s, total: 15.4 s\n",
      "Wall time: 23.8 s\n"
     ]
    }
   ],
   "source": [
    "%%time\n",
    "nr_data.to_pickle('nr_data(1-'+str(n)+').pkl')"
   ]
  },
  {
   "cell_type": "code",
   "execution_count": null,
   "id": "cloudy-bernard",
   "metadata": {},
   "outputs": [],
   "source": []
  },
  {
   "cell_type": "markdown",
   "id": "genetic-china",
   "metadata": {},
   "source": [
    "# Private test data"
   ]
  },
  {
   "cell_type": "code",
   "execution_count": null,
   "id": "instrumental-operator",
   "metadata": {},
   "outputs": [],
   "source": []
  },
  {
   "cell_type": "code",
   "execution_count": 11,
   "id": "welsh-logistics",
   "metadata": {},
   "outputs": [
    {
     "data": {
      "text/html": [
       "<div>\n",
       "<style scoped>\n",
       "    .dataframe tbody tr th:only-of-type {\n",
       "        vertical-align: middle;\n",
       "    }\n",
       "\n",
       "    .dataframe tbody tr th {\n",
       "        vertical-align: top;\n",
       "    }\n",
       "\n",
       "    .dataframe thead th {\n",
       "        text-align: right;\n",
       "    }\n",
       "</style>\n",
       "<table border=\"1\" class=\"dataframe\">\n",
       "  <thead>\n",
       "    <tr style=\"text-align: right;\">\n",
       "      <th></th>\n",
       "      <th>path</th>\n",
       "    </tr>\n",
       "  </thead>\n",
       "  <tbody>\n",
       "    <tr>\n",
       "      <th>0</th>\n",
       "      <td>db4c165bce2379ccbaa8a1d5eb580b214a0c2888.png</td>\n",
       "    </tr>\n",
       "    <tr>\n",
       "      <th>1</th>\n",
       "      <td>920ef66abe7321b517824ac780226c424d238a05.png</td>\n",
       "    </tr>\n",
       "    <tr>\n",
       "      <th>2</th>\n",
       "      <td>9bdb427f3cadd75e689e17a8b407fe09231c2bd4.png</td>\n",
       "    </tr>\n",
       "  </tbody>\n",
       "</table>\n",
       "</div>"
      ],
      "text/plain": [
       "                                           path\n",
       "0  db4c165bce2379ccbaa8a1d5eb580b214a0c2888.png\n",
       "1  920ef66abe7321b517824ac780226c424d238a05.png\n",
       "2  9bdb427f3cadd75e689e17a8b407fe09231c2bd4.png"
      ]
     },
     "execution_count": 11,
     "metadata": {},
     "output_type": "execute_result"
    }
   ],
   "source": [
    "# get train file names and convert to dataframe\n",
    "# you may need to change your working directory first:\n",
    "# os.chdir('/your_path')\n",
    "\n",
    "private_test_file_names = os.listdir('idao_dataset/private_test/')\n",
    "\n",
    "PT_data = pd.DataFrame(x for x in private_test_file_names).rename(columns={0: \"path\"})\n",
    "\n",
    "PT_data.head(3)"
   ]
  },
  {
   "cell_type": "code",
   "execution_count": 8,
   "id": "cardiac-fashion",
   "metadata": {},
   "outputs": [],
   "source": [
    "# convert PIL.Image object to numpy.Array, for training\n",
    "def img2arr(img):\n",
    "    return np.asarray(img.getdata(), dtype=np.uint8).reshape(img.height, img.width, -1)"
   ]
  },
  {
   "cell_type": "code",
   "execution_count": 9,
   "id": "narrow-pulse",
   "metadata": {},
   "outputs": [],
   "source": [
    "# Converting ER\n",
    "cwd = os.getcwd() # get current directory\n",
    "mypath = cwd+'/idao_dataset/private_test'\n",
    "file_list = [cwd+'/idao_dataset/private_test/'+f for f in listdir(mypath) if isfile(join(mypath, f))]"
   ]
  },
  {
   "cell_type": "code",
   "execution_count": 10,
   "id": "opposed-services",
   "metadata": {},
   "outputs": [],
   "source": [
    "img_arr_list = []"
   ]
  },
  {
   "cell_type": "code",
   "execution_count": 15,
   "id": "sitting-malpractice",
   "metadata": {},
   "outputs": [],
   "source": [
    "start = 0\n",
    "n = 4000"
   ]
  },
  {
   "cell_type": "code",
   "execution_count": 13,
   "id": "disciplinary-location",
   "metadata": {},
   "outputs": [
    {
     "name": "stdout",
     "output_type": "stream",
     "text": [
      "CPU times: user 37min 35s, sys: 1min 14s, total: 38min 49s\n",
      "Wall time: 40min 58s\n"
     ]
    }
   ],
   "source": [
    "%%time \n",
    "# img_arr_list = []\n",
    "for each in file_list[0:n]:    \n",
    "    img = Image.open(each).convert('LA')\n",
    "    img_arr_list.append(img2arr(img)[:,:,0]) # ignore the alpha channel"
   ]
  },
  {
   "cell_type": "code",
   "execution_count": 21,
   "id": "engaging-polymer",
   "metadata": {},
   "outputs": [
    {
     "data": {
      "text/html": [
       "<div>\n",
       "<style scoped>\n",
       "    .dataframe tbody tr th:only-of-type {\n",
       "        vertical-align: middle;\n",
       "    }\n",
       "\n",
       "    .dataframe tbody tr th {\n",
       "        vertical-align: top;\n",
       "    }\n",
       "\n",
       "    .dataframe thead th {\n",
       "        text-align: right;\n",
       "    }\n",
       "</style>\n",
       "<table border=\"1\" class=\"dataframe\">\n",
       "  <thead>\n",
       "    <tr style=\"text-align: right;\">\n",
       "      <th></th>\n",
       "      <th>img_array</th>\n",
       "      <th>id</th>\n",
       "    </tr>\n",
       "  </thead>\n",
       "  <tbody>\n",
       "    <tr>\n",
       "      <th>0</th>\n",
       "      <td>[[103, 109, 99, 103, 101, 99, 102, 101, 101, 9...</td>\n",
       "      <td>db4c165bce2379ccbaa8a1d5eb580b214a0c2888.png</td>\n",
       "    </tr>\n",
       "    <tr>\n",
       "      <th>1</th>\n",
       "      <td>[[99, 100, 100, 102, 99, 99, 99, 104, 103, 105...</td>\n",
       "      <td>920ef66abe7321b517824ac780226c424d238a05.png</td>\n",
       "    </tr>\n",
       "    <tr>\n",
       "      <th>2</th>\n",
       "      <td>[[96, 100, 101, 100, 102, 101, 100, 97, 99, 10...</td>\n",
       "      <td>9bdb427f3cadd75e689e17a8b407fe09231c2bd4.png</td>\n",
       "    </tr>\n",
       "    <tr>\n",
       "      <th>3</th>\n",
       "      <td>[[93, 97, 103, 103, 100, 102, 107, 98, 102, 10...</td>\n",
       "      <td>2d3950a3f7099544d78d8fbaecfaf1cbe1ad0c94.png</td>\n",
       "    </tr>\n",
       "    <tr>\n",
       "      <th>4</th>\n",
       "      <td>[[102, 98, 101, 101, 99, 100, 102, 103, 99, 96...</td>\n",
       "      <td>58f5d7531a28974837c961f516bce9ea61df4703.png</td>\n",
       "    </tr>\n",
       "  </tbody>\n",
       "</table>\n",
       "</div>"
      ],
      "text/plain": [
       "                                           img_array  \\\n",
       "0  [[103, 109, 99, 103, 101, 99, 102, 101, 101, 9...   \n",
       "1  [[99, 100, 100, 102, 99, 99, 99, 104, 103, 105...   \n",
       "2  [[96, 100, 101, 100, 102, 101, 100, 97, 99, 10...   \n",
       "3  [[93, 97, 103, 103, 100, 102, 107, 98, 102, 10...   \n",
       "4  [[102, 98, 101, 101, 99, 100, 102, 103, 99, 96...   \n",
       "\n",
       "                                             id  \n",
       "0  db4c165bce2379ccbaa8a1d5eb580b214a0c2888.png  \n",
       "1  920ef66abe7321b517824ac780226c424d238a05.png  \n",
       "2  9bdb427f3cadd75e689e17a8b407fe09231c2bd4.png  \n",
       "3  2d3950a3f7099544d78d8fbaecfaf1cbe1ad0c94.png  \n",
       "4  58f5d7531a28974837c961f516bce9ea61df4703.png  "
      ]
     },
     "execution_count": 21,
     "metadata": {},
     "output_type": "execute_result"
    }
   ],
   "source": [
    "PT_df = pd.DataFrame([img_arr_list]).transpose().rename(columns={0: \"img_array\"})\n",
    "PT_df['id'] = PT_data['path'][start:n]\n",
    "PT_df.head()"
   ]
  },
  {
   "cell_type": "code",
   "execution_count": 22,
   "id": "banned-aberdeen",
   "metadata": {},
   "outputs": [
    {
     "name": "stdout",
     "output_type": "stream",
     "text": [
      "CPU times: user 6.74 s, sys: 2.23 s, total: 8.97 s\n",
      "Wall time: 10.7 s\n"
     ]
    }
   ],
   "source": [
    "%%time\n",
    "PT_df.to_pickle('private_df('+str(start)+'-'+str(n)+').pkl')"
   ]
  },
  {
   "cell_type": "code",
   "execution_count": 6,
   "id": "working-tamil",
   "metadata": {},
   "outputs": [
    {
     "data": {
      "text/plain": [
       "15062"
      ]
     },
     "execution_count": 6,
     "metadata": {},
     "output_type": "execute_result"
    }
   ],
   "source": [
    "len(file_list)"
   ]
  },
  {
   "cell_type": "code",
   "execution_count": 17,
   "id": "front-pointer",
   "metadata": {},
   "outputs": [
    {
     "name": "stdout",
     "output_type": "stream",
     "text": [
      "500\n",
      "1000\n",
      "1500\n",
      "2000\n",
      "2500\n",
      "3000\n",
      "3500\n",
      "4000\n",
      "CPU times: user 31min 59s, sys: 1min 15s, total: 33min 15s\n",
      "Wall time: 33min 25s\n"
     ]
    }
   ],
   "source": [
    "%%time \n",
    "\n",
    "start = 4000\n",
    "n = 8000\n",
    "count = 0\n",
    "img_arr_list = []\n",
    "for each in file_list[start:n]:    \n",
    "    img = Image.open(each).convert('LA')\n",
    "    img_arr_list.append(img2arr(img)[:,:,0]) # ignore the alpha channel\n",
    "    count +=1\n",
    "    if count%500 == 0:\n",
    "        print(count)\n",
    "    \n",
    "PT_df = pd.DataFrame([img_arr_list]).transpose().rename(columns={0: \"img_array\"})\n",
    "PT_df['id'] = PT_data['path'][start:n]\n",
    "\n",
    "PT_df.to_pickle('private_df('+str(start)+'-'+str(n)+').pkl')"
   ]
  },
  {
   "cell_type": "code",
   "execution_count": 18,
   "id": "extra-rating",
   "metadata": {},
   "outputs": [
    {
     "name": "stdout",
     "output_type": "stream",
     "text": [
      "500\n",
      "1000\n",
      "1500\n",
      "2000\n",
      "2500\n",
      "3000\n",
      "3500\n",
      "4000\n",
      "CPU times: user 37min 42s, sys: 12.6 s, total: 37min 55s\n",
      "Wall time: 38min 26s\n"
     ]
    }
   ],
   "source": [
    "%%time \n",
    "\n",
    "start = 8000\n",
    "n = 12000\n",
    "count = 0\n",
    "img_arr_list = []\n",
    "for each in file_list[start:n]:    \n",
    "    img = Image.open(each).convert('LA')\n",
    "    img_arr_list.append(img2arr(img)[:,:,0]) # ignore the alpha channel\n",
    "    count +=1\n",
    "    if count%500 == 0:\n",
    "        print(count)\n",
    "    \n",
    "PT_df = pd.DataFrame([img_arr_list]).transpose().rename(columns={0: \"img_array\"})\n",
    "PT_df['id'] = PT_data['path'][start:n]\n",
    "\n",
    "PT_df.to_pickle('private_df('+str(start)+'-'+str(n)+').pkl')"
   ]
  },
  {
   "cell_type": "code",
   "execution_count": 19,
   "id": "appreciated-causing",
   "metadata": {},
   "outputs": [
    {
     "name": "stdout",
     "output_type": "stream",
     "text": [
      "500\n",
      "1000\n",
      "1500\n",
      "2000\n",
      "2500\n",
      "3000\n",
      "CPU times: user 35min 30s, sys: 5.04 s, total: 35min 35s\n",
      "Wall time: 35min 59s\n"
     ]
    }
   ],
   "source": [
    "%%time \n",
    "\n",
    "start = 12000\n",
    "n = 15061\n",
    "count = 0\n",
    "img_arr_list = []\n",
    "for each in file_list[start:n]:    \n",
    "    img = Image.open(each).convert('LA')\n",
    "    img_arr_list.append(img2arr(img)[:,:,0]) # ignore the alpha channel\n",
    "    count +=1\n",
    "    if count%500 == 0:\n",
    "        print(count)\n",
    "    \n",
    "PT_df = pd.DataFrame([img_arr_list]).transpose().rename(columns={0: \"img_array\"})\n",
    "PT_df['id'] = PT_data['path'][start:n]\n",
    "\n",
    "PT_df.to_pickle('private_df('+str(start)+'-'+str(n)+').pkl')"
   ]
  },
  {
   "cell_type": "code",
   "execution_count": null,
   "id": "younger-progressive",
   "metadata": {},
   "outputs": [],
   "source": []
  },
  {
   "cell_type": "code",
   "execution_count": 2,
   "id": "military-sheep",
   "metadata": {},
   "outputs": [
    {
     "name": "stdout",
     "output_type": "stream",
     "text": [
      "CPU times: user 3 µs, sys: 0 ns, total: 3 µs\n",
      "Wall time: 5.96 µs\n"
     ]
    }
   ],
   "source": [
    "%time\n",
    "private_1_df = pd.read_pickle('private_df(0-4000).pkl')\n",
    "private_2_df = pd.read_pickle('private_df(4000-8000).pkl')\n",
    "private_3_df = pd.read_pickle('private_df(8000-12000).pkl')\n",
    "private_4_df = pd.read_pickle('private_df(12000-15061).pkl')"
   ]
  },
  {
   "cell_type": "code",
   "execution_count": 3,
   "id": "romance-anxiety",
   "metadata": {},
   "outputs": [
    {
     "data": {
      "text/html": [
       "<div>\n",
       "<style scoped>\n",
       "    .dataframe tbody tr th:only-of-type {\n",
       "        vertical-align: middle;\n",
       "    }\n",
       "\n",
       "    .dataframe tbody tr th {\n",
       "        vertical-align: top;\n",
       "    }\n",
       "\n",
       "    .dataframe thead th {\n",
       "        text-align: right;\n",
       "    }\n",
       "</style>\n",
       "<table border=\"1\" class=\"dataframe\">\n",
       "  <thead>\n",
       "    <tr style=\"text-align: right;\">\n",
       "      <th></th>\n",
       "      <th>img_array</th>\n",
       "      <th>id</th>\n",
       "    </tr>\n",
       "  </thead>\n",
       "  <tbody>\n",
       "    <tr>\n",
       "      <th>0</th>\n",
       "      <td>[[103, 109, 99, 103, 101, 99, 102, 101, 101, 9...</td>\n",
       "      <td>db4c165bce2379ccbaa8a1d5eb580b214a0c2888</td>\n",
       "    </tr>\n",
       "    <tr>\n",
       "      <th>1</th>\n",
       "      <td>[[99, 100, 100, 102, 99, 99, 99, 104, 103, 105...</td>\n",
       "      <td>920ef66abe7321b517824ac780226c424d238a05</td>\n",
       "    </tr>\n",
       "    <tr>\n",
       "      <th>2</th>\n",
       "      <td>[[96, 100, 101, 100, 102, 101, 100, 97, 99, 10...</td>\n",
       "      <td>9bdb427f3cadd75e689e17a8b407fe09231c2bd4</td>\n",
       "    </tr>\n",
       "  </tbody>\n",
       "</table>\n",
       "</div>"
      ],
      "text/plain": [
       "                                           img_array  \\\n",
       "0  [[103, 109, 99, 103, 101, 99, 102, 101, 101, 9...   \n",
       "1  [[99, 100, 100, 102, 99, 99, 99, 104, 103, 105...   \n",
       "2  [[96, 100, 101, 100, 102, 101, 100, 97, 99, 10...   \n",
       "\n",
       "                                         id  \n",
       "0  db4c165bce2379ccbaa8a1d5eb580b214a0c2888  \n",
       "1  920ef66abe7321b517824ac780226c424d238a05  \n",
       "2  9bdb427f3cadd75e689e17a8b407fe09231c2bd4  "
      ]
     },
     "execution_count": 3,
     "metadata": {},
     "output_type": "execute_result"
    }
   ],
   "source": [
    "private_1_df.head(3)"
   ]
  },
  {
   "cell_type": "code",
   "execution_count": 4,
   "id": "positive-tattoo",
   "metadata": {},
   "outputs": [
    {
     "data": {
      "text/html": [
       "<div>\n",
       "<style scoped>\n",
       "    .dataframe tbody tr th:only-of-type {\n",
       "        vertical-align: middle;\n",
       "    }\n",
       "\n",
       "    .dataframe tbody tr th {\n",
       "        vertical-align: top;\n",
       "    }\n",
       "\n",
       "    .dataframe thead th {\n",
       "        text-align: right;\n",
       "    }\n",
       "</style>\n",
       "<table border=\"1\" class=\"dataframe\">\n",
       "  <thead>\n",
       "    <tr style=\"text-align: right;\">\n",
       "      <th></th>\n",
       "      <th>img_array</th>\n",
       "      <th>id</th>\n",
       "    </tr>\n",
       "  </thead>\n",
       "  <tbody>\n",
       "    <tr>\n",
       "      <th>0</th>\n",
       "      <td>[[100, 107, 100, 99, 101, 101, 101, 100, 98, 9...</td>\n",
       "      <td>f956a847e0ed460691e42f7898dddb36b447246e</td>\n",
       "    </tr>\n",
       "    <tr>\n",
       "      <th>1</th>\n",
       "      <td>[[101, 94, 100, 98, 99, 100, 97, 101, 99, 100,...</td>\n",
       "      <td>16dc7fd7ed590d09732d89e43f4af223251254a0</td>\n",
       "    </tr>\n",
       "    <tr>\n",
       "      <th>2</th>\n",
       "      <td>[[102, 98, 102, 101, 102, 98, 99, 102, 100, 98...</td>\n",
       "      <td>4c69933ebe4898e6ddc8cdef22f9910352d7dd86</td>\n",
       "    </tr>\n",
       "  </tbody>\n",
       "</table>\n",
       "</div>"
      ],
      "text/plain": [
       "                                           img_array  \\\n",
       "0  [[100, 107, 100, 99, 101, 101, 101, 100, 98, 9...   \n",
       "1  [[101, 94, 100, 98, 99, 100, 97, 101, 99, 100,...   \n",
       "2  [[102, 98, 102, 101, 102, 98, 99, 102, 100, 98...   \n",
       "\n",
       "                                         id  \n",
       "0  f956a847e0ed460691e42f7898dddb36b447246e  \n",
       "1  16dc7fd7ed590d09732d89e43f4af223251254a0  \n",
       "2  4c69933ebe4898e6ddc8cdef22f9910352d7dd86  "
      ]
     },
     "execution_count": 4,
     "metadata": {},
     "output_type": "execute_result"
    }
   ],
   "source": [
    "private_2_df.head(3)"
   ]
  },
  {
   "cell_type": "code",
   "execution_count": 5,
   "id": "understood-postage",
   "metadata": {},
   "outputs": [
    {
     "data": {
      "text/html": [
       "<div>\n",
       "<style scoped>\n",
       "    .dataframe tbody tr th:only-of-type {\n",
       "        vertical-align: middle;\n",
       "    }\n",
       "\n",
       "    .dataframe tbody tr th {\n",
       "        vertical-align: top;\n",
       "    }\n",
       "\n",
       "    .dataframe thead th {\n",
       "        text-align: right;\n",
       "    }\n",
       "</style>\n",
       "<table border=\"1\" class=\"dataframe\">\n",
       "  <thead>\n",
       "    <tr style=\"text-align: right;\">\n",
       "      <th></th>\n",
       "      <th>img_array</th>\n",
       "      <th>id</th>\n",
       "    </tr>\n",
       "  </thead>\n",
       "  <tbody>\n",
       "    <tr>\n",
       "      <th>0</th>\n",
       "      <td>[[102, 100, 100, 100, 97, 101, 108, 93, 99, 10...</td>\n",
       "      <td>ec58e5b0992b3ceac494293c6eb5852f5ec841e5</td>\n",
       "    </tr>\n",
       "    <tr>\n",
       "      <th>1</th>\n",
       "      <td>[[96, 102, 102, 97, 97, 99, 108, 101, 102, 100...</td>\n",
       "      <td>543697fed4ad67af609401ca1bdc6cfc8b8d98e2</td>\n",
       "    </tr>\n",
       "    <tr>\n",
       "      <th>2</th>\n",
       "      <td>[[101, 98, 99, 102, 97, 96, 98, 98, 99, 99, 10...</td>\n",
       "      <td>f4adc32c489998d83ad8001db1bbdc6fbcfa26b3</td>\n",
       "    </tr>\n",
       "  </tbody>\n",
       "</table>\n",
       "</div>"
      ],
      "text/plain": [
       "                                           img_array  \\\n",
       "0  [[102, 100, 100, 100, 97, 101, 108, 93, 99, 10...   \n",
       "1  [[96, 102, 102, 97, 97, 99, 108, 101, 102, 100...   \n",
       "2  [[101, 98, 99, 102, 97, 96, 98, 98, 99, 99, 10...   \n",
       "\n",
       "                                         id  \n",
       "0  ec58e5b0992b3ceac494293c6eb5852f5ec841e5  \n",
       "1  543697fed4ad67af609401ca1bdc6cfc8b8d98e2  \n",
       "2  f4adc32c489998d83ad8001db1bbdc6fbcfa26b3  "
      ]
     },
     "execution_count": 5,
     "metadata": {},
     "output_type": "execute_result"
    }
   ],
   "source": [
    "private_3_df.head(3)"
   ]
  },
  {
   "cell_type": "code",
   "execution_count": 6,
   "id": "political-services",
   "metadata": {},
   "outputs": [
    {
     "data": {
      "text/html": [
       "<div>\n",
       "<style scoped>\n",
       "    .dataframe tbody tr th:only-of-type {\n",
       "        vertical-align: middle;\n",
       "    }\n",
       "\n",
       "    .dataframe tbody tr th {\n",
       "        vertical-align: top;\n",
       "    }\n",
       "\n",
       "    .dataframe thead th {\n",
       "        text-align: right;\n",
       "    }\n",
       "</style>\n",
       "<table border=\"1\" class=\"dataframe\">\n",
       "  <thead>\n",
       "    <tr style=\"text-align: right;\">\n",
       "      <th></th>\n",
       "      <th>img_array</th>\n",
       "      <th>id</th>\n",
       "    </tr>\n",
       "  </thead>\n",
       "  <tbody>\n",
       "    <tr>\n",
       "      <th>0</th>\n",
       "      <td>[[101, 103, 99, 101, 103, 102, 100, 100, 99, 1...</td>\n",
       "      <td>80e8f379f501ee20992ad21976ea8e453ef6be7a</td>\n",
       "    </tr>\n",
       "    <tr>\n",
       "      <th>1</th>\n",
       "      <td>[[101, 105, 101, 99, 100, 102, 101, 101, 102, ...</td>\n",
       "      <td>0e62cfba0f927045ad1bdcfc6789a945852ed70a</td>\n",
       "    </tr>\n",
       "    <tr>\n",
       "      <th>2</th>\n",
       "      <td>[[103, 105, 98, 103, 97, 95, 97, 100, 102, 99,...</td>\n",
       "      <td>3447b8082f5eb23b1e695d95f21b4b0927479e83</td>\n",
       "    </tr>\n",
       "  </tbody>\n",
       "</table>\n",
       "</div>"
      ],
      "text/plain": [
       "                                           img_array  \\\n",
       "0  [[101, 103, 99, 101, 103, 102, 100, 100, 99, 1...   \n",
       "1  [[101, 105, 101, 99, 100, 102, 101, 101, 102, ...   \n",
       "2  [[103, 105, 98, 103, 97, 95, 97, 100, 102, 99,...   \n",
       "\n",
       "                                         id  \n",
       "0  80e8f379f501ee20992ad21976ea8e453ef6be7a  \n",
       "1  0e62cfba0f927045ad1bdcfc6789a945852ed70a  \n",
       "2  3447b8082f5eb23b1e695d95f21b4b0927479e83  "
      ]
     },
     "execution_count": 6,
     "metadata": {},
     "output_type": "execute_result"
    }
   ],
   "source": [
    "private_4_df.head(3)"
   ]
  },
  {
   "cell_type": "code",
   "execution_count": 7,
   "id": "american-fountain",
   "metadata": {},
   "outputs": [],
   "source": [
    "# private_1_df['id'] = private_1_df.id.apply(lambda x: x[:-4])\n",
    "# private_2_df['id'] = private_2_df.id.apply(lambda x: x[:-4])\n",
    "# private_3_df['id'] = private_3_df.id.apply(lambda x: x[:-4])\n",
    "# private_4_df['id'] = private_4_df.id.apply(lambda x: x[:-4])"
   ]
  },
  {
   "cell_type": "code",
   "execution_count": 13,
   "id": "terminal-classification",
   "metadata": {},
   "outputs": [],
   "source": [
    "# private_1_df.to_pickle('private_df(0-4000).pkl')\n",
    "# private_2_df.to_pickle('private_df(4000-8000).pkl')\n",
    "# private_3_df.to_pickle('private_df(8000-12000).pkl')\n",
    "# private_4_df.to_pickle('private_df(12000-15061).pkl')"
   ]
  },
  {
   "cell_type": "markdown",
   "id": "historical-million",
   "metadata": {},
   "source": [
    "--------"
   ]
  },
  {
   "cell_type": "code",
   "execution_count": 26,
   "id": "faced-forward",
   "metadata": {},
   "outputs": [],
   "source": [
    "private_all_df = private_1_df.append(private_2_df).append(private_3_df).append(private_4_df).reset_index()"
   ]
  },
  {
   "cell_type": "code",
   "execution_count": 33,
   "id": "chicken-rhythm",
   "metadata": {},
   "outputs": [],
   "source": [
    "private_all_df['id'] = private_all_df.id.apply(lambda x: x[:-4])"
   ]
  },
  {
   "cell_type": "code",
   "execution_count": 36,
   "id": "alleged-neighbor",
   "metadata": {},
   "outputs": [],
   "source": [
    "private_all_df = private_all_df[['id','img_array']]"
   ]
  },
  {
   "cell_type": "code",
   "execution_count": null,
   "id": "right-department",
   "metadata": {},
   "outputs": [],
   "source": [
    "private_all_df.to_pickle('private_df_all.pkl')"
   ]
  },
  {
   "cell_type": "code",
   "execution_count": 4,
   "id": "silver-tragedy",
   "metadata": {},
   "outputs": [
    {
     "ename": "EOFError",
     "evalue": "Ran out of input",
     "output_type": "error",
     "traceback": [
      "\u001b[0;31m---------------------------------------------------------------------------\u001b[0m",
      "\u001b[0;31mEOFError\u001b[0m                                  Traceback (most recent call last)",
      "\u001b[0;32m<ipython-input-4-a8b5d3017594>\u001b[0m in \u001b[0;36m<module>\u001b[0;34m\u001b[0m\n\u001b[0;32m----> 1\u001b[0;31m \u001b[0mprivate_all_df\u001b[0m \u001b[0;34m=\u001b[0m \u001b[0mpd\u001b[0m\u001b[0;34m.\u001b[0m\u001b[0mread_pickle\u001b[0m\u001b[0;34m(\u001b[0m\u001b[0;34m'private_df_all.pkl'\u001b[0m\u001b[0;34m)\u001b[0m\u001b[0;34m\u001b[0m\u001b[0;34m\u001b[0m\u001b[0m\n\u001b[0m",
      "\u001b[0;32m/anaconda/envs/py37_default/lib/python3.7/site-packages/pandas/io/pickle.py\u001b[0m in \u001b[0;36mread_pickle\u001b[0;34m(filepath_or_buffer, compression, storage_options)\u001b[0m\n\u001b[1;32m    189\u001b[0m                     \u001b[0;31m# We want to silence any warnings about, e.g. moved modules.\u001b[0m\u001b[0;34m\u001b[0m\u001b[0;34m\u001b[0m\u001b[0;34m\u001b[0m\u001b[0m\n\u001b[1;32m    190\u001b[0m                     \u001b[0mwarnings\u001b[0m\u001b[0;34m.\u001b[0m\u001b[0msimplefilter\u001b[0m\u001b[0;34m(\u001b[0m\u001b[0;34m\"ignore\"\u001b[0m\u001b[0;34m,\u001b[0m \u001b[0mWarning\u001b[0m\u001b[0;34m)\u001b[0m\u001b[0;34m\u001b[0m\u001b[0;34m\u001b[0m\u001b[0m\n\u001b[0;32m--> 191\u001b[0;31m                     \u001b[0;32mreturn\u001b[0m \u001b[0mpickle\u001b[0m\u001b[0;34m.\u001b[0m\u001b[0mload\u001b[0m\u001b[0;34m(\u001b[0m\u001b[0mhandles\u001b[0m\u001b[0;34m.\u001b[0m\u001b[0mhandle\u001b[0m\u001b[0;34m)\u001b[0m  \u001b[0;31m# type: ignore[arg-type]\u001b[0m\u001b[0;34m\u001b[0m\u001b[0;34m\u001b[0m\u001b[0m\n\u001b[0m\u001b[1;32m    192\u001b[0m             \u001b[0;32mexcept\u001b[0m \u001b[0mexcs_to_catch\u001b[0m\u001b[0;34m:\u001b[0m\u001b[0;34m\u001b[0m\u001b[0;34m\u001b[0m\u001b[0m\n\u001b[1;32m    193\u001b[0m                 \u001b[0;31m# e.g.\u001b[0m\u001b[0;34m\u001b[0m\u001b[0;34m\u001b[0m\u001b[0;34m\u001b[0m\u001b[0m\n",
      "\u001b[0;31mEOFError\u001b[0m: Ran out of input"
     ]
    }
   ],
   "source": [
    "private_all_df = pd.read_pickle('private_df_all.pkl')"
   ]
  },
  {
   "cell_type": "code",
   "execution_count": null,
   "id": "marine-mirror",
   "metadata": {},
   "outputs": [],
   "source": [
    "private_all_df.head(3)"
   ]
  },
  {
   "cell_type": "code",
   "execution_count": null,
   "id": "widespread-geometry",
   "metadata": {},
   "outputs": [],
   "source": []
  }
 ],
 "metadata": {
  "kernelspec": {
   "display_name": "Python 3",
   "language": "python",
   "name": "python3"
  },
  "language_info": {
   "codemirror_mode": {
    "name": "ipython",
    "version": 3
   },
   "file_extension": ".py",
   "mimetype": "text/x-python",
   "name": "python",
   "nbconvert_exporter": "python",
   "pygments_lexer": "ipython3",
   "version": "3.7.7"
  }
 },
 "nbformat": 4,
 "nbformat_minor": 5
}
