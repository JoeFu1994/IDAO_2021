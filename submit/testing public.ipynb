{
 "cells": [
  {
   "cell_type": "code",
   "execution_count": 1,
   "metadata": {},
   "outputs": [
    {
     "name": "stderr",
     "output_type": "stream",
     "text": [
      "Using TensorFlow backend.\n",
      "/Users/joefu/opt/anaconda3/lib/python3.7/site-packages/tensorflow/python/framework/dtypes.py:516: FutureWarning: Passing (type, 1) or '1type' as a synonym of type is deprecated; in a future version of numpy, it will be understood as (type, (1,)) / '(1,)type'.\n",
      "  _np_qint8 = np.dtype([(\"qint8\", np.int8, 1)])\n",
      "/Users/joefu/opt/anaconda3/lib/python3.7/site-packages/tensorflow/python/framework/dtypes.py:517: FutureWarning: Passing (type, 1) or '1type' as a synonym of type is deprecated; in a future version of numpy, it will be understood as (type, (1,)) / '(1,)type'.\n",
      "  _np_quint8 = np.dtype([(\"quint8\", np.uint8, 1)])\n",
      "/Users/joefu/opt/anaconda3/lib/python3.7/site-packages/tensorflow/python/framework/dtypes.py:518: FutureWarning: Passing (type, 1) or '1type' as a synonym of type is deprecated; in a future version of numpy, it will be understood as (type, (1,)) / '(1,)type'.\n",
      "  _np_qint16 = np.dtype([(\"qint16\", np.int16, 1)])\n",
      "/Users/joefu/opt/anaconda3/lib/python3.7/site-packages/tensorflow/python/framework/dtypes.py:519: FutureWarning: Passing (type, 1) or '1type' as a synonym of type is deprecated; in a future version of numpy, it will be understood as (type, (1,)) / '(1,)type'.\n",
      "  _np_quint16 = np.dtype([(\"quint16\", np.uint16, 1)])\n",
      "/Users/joefu/opt/anaconda3/lib/python3.7/site-packages/tensorflow/python/framework/dtypes.py:520: FutureWarning: Passing (type, 1) or '1type' as a synonym of type is deprecated; in a future version of numpy, it will be understood as (type, (1,)) / '(1,)type'.\n",
      "  _np_qint32 = np.dtype([(\"qint32\", np.int32, 1)])\n",
      "/Users/joefu/opt/anaconda3/lib/python3.7/site-packages/tensorflow/python/framework/dtypes.py:525: FutureWarning: Passing (type, 1) or '1type' as a synonym of type is deprecated; in a future version of numpy, it will be understood as (type, (1,)) / '(1,)type'.\n",
      "  np_resource = np.dtype([(\"resource\", np.ubyte, 1)])\n",
      "/Users/joefu/opt/anaconda3/lib/python3.7/site-packages/tensorboard/compat/tensorflow_stub/dtypes.py:541: FutureWarning: Passing (type, 1) or '1type' as a synonym of type is deprecated; in a future version of numpy, it will be understood as (type, (1,)) / '(1,)type'.\n",
      "  _np_qint8 = np.dtype([(\"qint8\", np.int8, 1)])\n",
      "/Users/joefu/opt/anaconda3/lib/python3.7/site-packages/tensorboard/compat/tensorflow_stub/dtypes.py:542: FutureWarning: Passing (type, 1) or '1type' as a synonym of type is deprecated; in a future version of numpy, it will be understood as (type, (1,)) / '(1,)type'.\n",
      "  _np_quint8 = np.dtype([(\"quint8\", np.uint8, 1)])\n",
      "/Users/joefu/opt/anaconda3/lib/python3.7/site-packages/tensorboard/compat/tensorflow_stub/dtypes.py:543: FutureWarning: Passing (type, 1) or '1type' as a synonym of type is deprecated; in a future version of numpy, it will be understood as (type, (1,)) / '(1,)type'.\n",
      "  _np_qint16 = np.dtype([(\"qint16\", np.int16, 1)])\n",
      "/Users/joefu/opt/anaconda3/lib/python3.7/site-packages/tensorboard/compat/tensorflow_stub/dtypes.py:544: FutureWarning: Passing (type, 1) or '1type' as a synonym of type is deprecated; in a future version of numpy, it will be understood as (type, (1,)) / '(1,)type'.\n",
      "  _np_quint16 = np.dtype([(\"quint16\", np.uint16, 1)])\n",
      "/Users/joefu/opt/anaconda3/lib/python3.7/site-packages/tensorboard/compat/tensorflow_stub/dtypes.py:545: FutureWarning: Passing (type, 1) or '1type' as a synonym of type is deprecated; in a future version of numpy, it will be understood as (type, (1,)) / '(1,)type'.\n",
      "  _np_qint32 = np.dtype([(\"qint32\", np.int32, 1)])\n",
      "/Users/joefu/opt/anaconda3/lib/python3.7/site-packages/tensorboard/compat/tensorflow_stub/dtypes.py:550: FutureWarning: Passing (type, 1) or '1type' as a synonym of type is deprecated; in a future version of numpy, it will be understood as (type, (1,)) / '(1,)type'.\n",
      "  np_resource = np.dtype([(\"resource\", np.ubyte, 1)])\n"
     ]
    }
   ],
   "source": [
    "# General data manipulation\n",
    "import pandas as pd\n",
    "from matplotlib import pyplot as plt\n",
    "import matplotlib.image as mpimg\n",
    "import numpy as np\n",
    "import os\n",
    "from os import listdir\n",
    "from os.path import isfile, join \n",
    "import sys\n",
    "import time\n",
    "from PIL import Image # pip install pillow\n",
    "from keras.utils import np_utils\n",
    "os.environ['KMP_DUPLICATE_LIB_OK']='True'"
   ]
  },
  {
   "cell_type": "code",
   "execution_count": 2,
   "metadata": {},
   "outputs": [],
   "source": [
    "import keras.backend as K\n",
    "import tensorflow as tf\n",
    "\n",
    "def categorical_focal_loss(gamma=2.0, alpha=0.25):\n",
    "    \"\"\"\n",
    "    Implementation of Focal Loss from the paper in multiclass classification\n",
    "    Formula:\n",
    "        loss = -alpha*((1-p)^gamma)*log(p)\n",
    "    Parameters:\n",
    "        alpha -- the same as wighting factor in balanced cross entropy\n",
    "        gamma -- focusing parameter for modulating factor (1-p)\n",
    "    Default value:\n",
    "        gamma -- 2.0 as mentioned in the paper\n",
    "        alpha -- 0.25 as mentioned in the paper\n",
    "    \"\"\"\n",
    "    def focal_loss(y_true, y_pred):\n",
    "        # Define epsilon so that the backpropagation will not result in NaN\n",
    "        # for 0 divisor case\n",
    "        epsilon = K.epsilon()\n",
    "        # Add the epsilon to prediction value\n",
    "        #y_pred = y_pred + epsilon\n",
    "        # Clip the prediction value\n",
    "        y_pred = K.clip(y_pred, epsilon, 1.0-epsilon)\n",
    "        # Calculate cross entropy\n",
    "        cross_entropy = -y_true*K.log(y_pred)\n",
    "        # Calculate weight that consists of  modulating factor and weighting factor\n",
    "        weight = alpha * y_true * K.pow((1-y_pred), gamma)\n",
    "        # Calculate focal loss\n",
    "        loss = weight * cross_entropy\n",
    "        # Sum the losses in mini_batch\n",
    "        loss = K.sum(loss, axis=1)\n",
    "        return loss\n",
    "    \n",
    "    return focal_loss"
   ]
  },
  {
   "cell_type": "code",
   "execution_count": 3,
   "metadata": {},
   "outputs": [],
   "source": [
    "# convert PIL.Image object to numpy.Array, for training\n",
    "def img2arr(img):\n",
    "    return np.asarray(img.getdata(), dtype=np.uint8).reshape(img.height, img.width, -1)\n",
    "\n",
    "def read_train_pickle(Type, Energy, DIR = os.getcwd() + '/idao_dataset/'):\n",
    "    return pd.read_pickle(DIR + 'train_pickle/' + Type + str(Energy) + '.pkl')"
   ]
  },
  {
   "cell_type": "code",
   "execution_count": 4,
   "metadata": {},
   "outputs": [],
   "source": [
    "from keras.models import load_model\n",
    "def predict(img_array, ids, isTrain):\n",
    "    isTrain_array = np.array([isTrain]*len(img_array)).reshape((len(img_array), 1))\n",
    "    isHigh = is_high_model.predict(img_array)\n",
    "    isLow = is_low_model.predict(img_array)\n",
    "    energy_1vs3 = energy_1vs3_model.predict([img_array, isTrain_array])\n",
    "    energy_6vs10 = energy_6vs10_model.predict([img_array, isTrain_array])\n",
    "    energy_20vs30 = energy_20vs30_model.predict([img_array, isTrain_array])\n",
    "    if isTrain:\n",
    "        ignore_i = [1,2]\n",
    "    else:\n",
    "        ignore_i = [0,3]\n",
    "        \n",
    "    energy_1vs3[:,ignore_i[0]] = 0.0\n",
    "    energy_1vs3[:,ignore_i[1]] = 0.0\n",
    "    energy_6vs10[:,ignore_i[0]] = 0.0\n",
    "    energy_6vs10[:,ignore_i[1]] = 0.0\n",
    "    energy_20vs30[:,ignore_i[0]] = 0.0\n",
    "    energy_20vs30[:,ignore_i[1]] = 0.0\n",
    "    \n",
    "    energy_1vs3_i = np.argmax(energy_1vs3, axis=-1)\n",
    "    energy_6vs10_i = np.argmax(energy_6vs10, axis=-1)\n",
    "    energy_20vs30_i = np.argmax(energy_20vs30, axis=-1)\n",
    "    \n",
    "    pred = pd.DataFrame()\n",
    "    for i in range(len(img_array)):\n",
    "        if isHigh[i].round():\n",
    "            cur_i = energy_20vs30_i[i]\n",
    "            Type,Energy = [int(cur_i >=2), int(cur_i%2 == 1)*10+20]\n",
    "        elif isLow[i].round():\n",
    "            cur_i = energy_1vs3_i[i]\n",
    "            Type,Energy = [int(cur_i >=2), int(cur_i%2 == 1)*2+1]\n",
    "        else:\n",
    "            cur_i = energy_6vs10_i[i]\n",
    "            Type,Energy = [int(cur_i >=2), int(cur_i%2 == 1)*4+6]\n",
    "        pred = pred.append(pd.DataFrame({'id': ids[i], 'classification_predictions': Type, 'regression_predictions': Energy,\n",
    "                                         'isHigh': isHigh[i],\n",
    "                                         'isLow': isLow[i],\n",
    "                                         'energy_1vs3': [energy_1vs3[i]],\n",
    "                                         'energy_6vs10': [energy_6vs10[i]],\n",
    "                                         'energy_20vs30': [energy_20vs30[i]]}, index=[i]))\n",
    "            \n",
    "    return pred"
   ]
  },
  {
   "cell_type": "code",
   "execution_count": 5,
   "metadata": {},
   "outputs": [
    {
     "name": "stdout",
     "output_type": "stream",
     "text": [
      "WARNING:tensorflow:From /Users/joefu/opt/anaconda3/lib/python3.7/site-packages/keras/backend/tensorflow_backend.py:4070: The name tf.nn.max_pool is deprecated. Please use tf.nn.max_pool2d instead.\n",
      "\n",
      "WARNING:tensorflow:From /Users/joefu/opt/anaconda3/lib/python3.7/site-packages/tensorflow/python/ops/nn_impl.py:180: add_dispatch_support.<locals>.wrapper (from tensorflow.python.ops.array_ops) is deprecated and will be removed in a future version.\n",
      "Instructions for updating:\n",
      "Use tf.where in 2.0, which has the same broadcast rule as np.where\n",
      "WARNING:tensorflow:From /Users/joefu/opt/anaconda3/lib/python3.7/site-packages/keras/backend/tensorflow_backend.py:422: The name tf.global_variables is deprecated. Please use tf.compat.v1.global_variables instead.\n",
      "\n"
     ]
    }
   ],
   "source": [
    "from keras.models import load_model\n",
    "is_high_model = load_model('Joe_model_high_01.h5')\n",
    "is_low_model = load_model('Joe_model_low_01.h5')\n",
    "energy_1vs3_model = load_model('Joe_model_Energy_1vs3_01.h5', custom_objects={'focal_loss': categorical_focal_loss(gamma=5.0,alpha=1.0)})\n",
    "energy_6vs10_model =  load_model('Joe_model_Energy_6vs10_01.h5', custom_objects={'focal_loss': categorical_focal_loss(gamma=4.0,alpha=1.0)})\n",
    "energy_20vs30_model = load_model('Joe_model_Energy_20vs30_01.h5', custom_objects={'focal_loss': categorical_focal_loss(gamma=3.0,alpha=1.0)})"
   ]
  },
  {
   "cell_type": "code",
   "execution_count": 7,
   "metadata": {},
   "outputs": [
    {
     "data": {
      "text/plain": [
       "['0c2b855c9bbdd1513b826ebdbd157ee8afa3faa9',\n",
       " '8f862af208004bc8f20501a122305ae9fff7d984',\n",
       " '60f8f137f6c65b98e5f0908844c6d60522597cca',\n",
       " '7c60c5e2b3be0ed88074bdfa611d66351183facd',\n",
       " 'ac46be871300a72f0cdeca4c886bad9d0e1f5770']"
      ]
     },
     "execution_count": 7,
     "metadata": {},
     "output_type": "execute_result"
    }
   ],
   "source": [
    "pub_ids[:5]"
   ]
  },
  {
   "cell_type": "code",
   "execution_count": 25,
   "metadata": {},
   "outputs": [],
   "source": [
    "from scipy.ndimage import gaussian_gradient_magnitude, grey_closing\n",
    "# N = 1500\n",
    "k = 64\n",
    "img_arr_list = []\n",
    "for f in pub_file_list:\n",
    "    img = Image.open(f).convert('LA')\n",
    "    img = img2arr(img)[:,:,0]\n",
    "    img = img[(288-k):(288+k), (288-k):(288+k)].astype(float)\n",
    "    img -= np.median(img, axis=0)\n",
    "    img = grey_closing(gaussian_gradient_magnitude(img,5), 9)\n",
    "    img_arr_list.append(img)\n",
    "pub_img_array = np.array(img_arr_list).reshape(len(img_arr_list),128,128,1)"
   ]
  },
  {
   "cell_type": "code",
   "execution_count": 10,
   "metadata": {},
   "outputs": [
    {
     "data": {
      "text/plain": [
       "1502"
      ]
     },
     "execution_count": 10,
     "metadata": {},
     "output_type": "execute_result"
    }
   ],
   "source": [
    "len(pub_file_list)"
   ]
  },
  {
   "cell_type": "code",
   "execution_count": 26,
   "metadata": {},
   "outputs": [],
   "source": [
    "pub_result = predict(pub_img_array, pub_ids, 1)"
   ]
  },
  {
   "cell_type": "code",
   "execution_count": 195,
   "metadata": {},
   "outputs": [
    {
     "data": {
      "text/plain": [
       "1502"
      ]
     },
     "execution_count": 195,
     "metadata": {},
     "output_type": "execute_result"
    }
   ],
   "source": [
    "len(pub_result)"
   ]
  },
  {
   "cell_type": "code",
   "execution_count": null,
   "metadata": {},
   "outputs": [],
   "source": [
    "pub_result.to_pickle(os.getcwd()+'/pub_result_01.pkl')"
   ]
  },
  {
   "cell_type": "code",
   "execution_count": 8,
   "metadata": {},
   "outputs": [],
   "source": [
    "pub_result = pd.read_pickle(os.getcwd()+'/pub_result_01.pkl')"
   ]
  },
  {
   "cell_type": "code",
   "execution_count": 9,
   "metadata": {},
   "outputs": [
    {
     "name": "stdout",
     "output_type": "stream",
     "text": [
      "384 0.22841042764130434 0.42335057\n",
      "1 3\n",
      "921 0.24723772474743233 0.4501696\n",
      "1 3\n",
      "1327 0.350288 0.46252377501900516\n",
      "0 6\n"
     ]
    }
   ],
   "source": [
    "in_sample = {'ER': [3,10,30], 'NR': [1,6,20]}\n",
    "for i in range(len(pub_result)):\n",
    "    r = pub_result.iloc[i]\n",
    "    pred_type, pred_energy = [None, None]\n",
    "    max_prob = -1\n",
    "    for Type in in_sample:\n",
    "        for Energy in in_sample[Type]:\n",
    "            j = (Type=='ER')*2 + int(Energy in [3,10,30])\n",
    "            if Energy >= 20:\n",
    "                cur_prob = r.energy_20vs30[j]*r.isHigh\n",
    "            elif Energy <= 3:\n",
    "                cur_prob = r.energy_1vs3[j]*r.isLow\n",
    "            else:\n",
    "                cur_prob = r.energy_6vs10[j]*(1-r.isHigh)*(1-r.isLow)\n",
    "            if int(Type=='ER') == r.classification_predictions and Energy == r.regression_predictions:\n",
    "                pred_prob = cur_prob\n",
    "            if cur_prob > max_prob:\n",
    "                max_prob = cur_prob\n",
    "                pred_type, pred_energy = [int(Type=='ER'), Energy]\n",
    "    if max_prob > pred_prob:\n",
    "        pub_result.loc[i,'classification_predictions'] = pred_type\n",
    "        pub_result.loc[i,'regression_predictions'] = pred_energy\n",
    "        print(i,pred_prob,max_prob)\n",
    "        print(pred_type,pred_energy)"
   ]
  },
  {
   "cell_type": "code",
   "execution_count": 10,
   "metadata": {},
   "outputs": [],
   "source": [
    "from scipy.special import softmax"
   ]
  },
  {
   "cell_type": "code",
   "execution_count": 11,
   "metadata": {},
   "outputs": [
    {
     "name": "stdout",
     "output_type": "stream",
     "text": [
      "247 252\n",
      "[0.3451462388038635, 0.3968973755836487, 0.4234057664871216]\n"
     ]
    }
   ],
   "source": [
    "pub_high = pub_result[pub_result.regression_predictions>=20].copy()\n",
    "pub_high['prob'] = [softmax(x[[0,3]])[1] for x in pub_high.energy_20vs30]\n",
    "pub_high = pub_high.sort_values('prob').reset_index(drop=True)\n",
    "i = sum(pub_high.prob.round())\n",
    "j = len(pub_high) - i\n",
    "i,j = [int(min(i,j)),int(max(i,j))]\n",
    "print(i,j)\n",
    "pub_high.loc[:i+1,'prob'] = 0\n",
    "pub_high.loc[j:,'prob'] = 1\n",
    "print([x for x in pub_high.prob if x>0 and x<1])\n",
    "pub_high['classification_predictions'] = pub_high.prob\n",
    "pub_high['regression_predictions'] = pub_high.prob*10+20"
   ]
  },
  {
   "cell_type": "code",
   "execution_count": 12,
   "metadata": {},
   "outputs": [
    {
     "name": "stdout",
     "output_type": "stream",
     "text": [
      "250 252\n",
      "[]\n"
     ]
    }
   ],
   "source": [
    "from scipy.special import softmax\n",
    "pub_low = pub_result[pub_result.regression_predictions<=3].copy()\n",
    "pub_low['prob'] = [softmax(x[[0,3]])[1] for x in pub_low.energy_1vs3]\n",
    "pub_low = pub_low.sort_values('prob').reset_index(drop=True)\n",
    "i = sum(pub_low.prob.round())\n",
    "j = len(pub_low) - i\n",
    "i,j = [int(min(i,j)),int(max(i,j))]\n",
    "print(i,j)\n",
    "pub_low.loc[:i+1,'prob'] = 0\n",
    "pub_low.loc[j:,'prob'] = 1\n",
    "print([x for x in pub_low.prob if x>0 and x<1])\n",
    "pub_low['classification_predictions'] = pub_low.prob\n",
    "pub_low['regression_predictions'] = pub_low.prob*2+1"
   ]
  },
  {
   "cell_type": "code",
   "execution_count": 14,
   "metadata": {},
   "outputs": [
    {
     "name": "stdout",
     "output_type": "stream",
     "text": [
      "250 251\n",
      "[]\n"
     ]
    }
   ],
   "source": [
    "pub_mid = pub_result[(pub_result.regression_predictions >= 6)&(pub_result.regression_predictions <= 10)].copy()\n",
    "pub_mid['prob'] = [softmax(x[[0,3]])[1] for x in pub_mid.energy_6vs10]\n",
    "pub_mid = pub_mid.sort_values('prob').reset_index(drop=True)\n",
    "i = sum(pub_mid.prob.round())\n",
    "j = len(pub_mid) - i\n",
    "i,j = [int(min(i,j)),int(max(i,j))]\n",
    "print(i,j)\n",
    "pub_mid.loc[:i+1,'prob'] = 0\n",
    "pub_mid.loc[j:,'prob'] = 1\n",
    "print([x for x in pub_mid.prob if x>0 and x<1])\n",
    "pub_mid['classification_predictions'] = pub_mid.prob\n",
    "pub_mid['regression_predictions'] = pub_mid.prob*4+6"
   ]
  },
  {
   "cell_type": "code",
   "execution_count": 19,
   "metadata": {},
   "outputs": [],
   "source": [
    "pub_final_result = pd.concat([pub_low,pub_mid,pub_high])"
   ]
  },
  {
   "cell_type": "code",
   "execution_count": 93,
   "metadata": {},
   "outputs": [],
   "source": [
    "submit = pd.read_csv(os.getcwd()+'/submit_01.csv')"
   ]
  },
  {
   "cell_type": "code",
   "execution_count": 98,
   "metadata": {},
   "outputs": [],
   "source": [
    "submit = pub_final_result[['id', 'classification_predictions', 'regression_predictions']].append(submit[1502:])"
   ]
  },
  {
   "cell_type": "code",
   "execution_count": 209,
   "metadata": {},
   "outputs": [
    {
     "data": {
      "text/html": [
       "<div>\n",
       "<style scoped>\n",
       "    .dataframe tbody tr th:only-of-type {\n",
       "        vertical-align: middle;\n",
       "    }\n",
       "\n",
       "    .dataframe tbody tr th {\n",
       "        vertical-align: top;\n",
       "    }\n",
       "\n",
       "    .dataframe thead th {\n",
       "        text-align: right;\n",
       "    }\n",
       "</style>\n",
       "<table border=\"1\" class=\"dataframe\">\n",
       "  <thead>\n",
       "    <tr style=\"text-align: right;\">\n",
       "      <th></th>\n",
       "      <th>id</th>\n",
       "      <th>classification_predictions</th>\n",
       "      <th>regression_predictions</th>\n",
       "    </tr>\n",
       "  </thead>\n",
       "  <tbody>\n",
       "    <tr>\n",
       "      <td>0</td>\n",
       "      <td>3ea64e9c143efc1b3752cb10db509674fe594759</td>\n",
       "      <td>0.0</td>\n",
       "      <td>1.0</td>\n",
       "    </tr>\n",
       "    <tr>\n",
       "      <td>1</td>\n",
       "      <td>1e08f1e9a8c611a99034900d7e71254f3e0bb0e9</td>\n",
       "      <td>0.0</td>\n",
       "      <td>1.0</td>\n",
       "    </tr>\n",
       "    <tr>\n",
       "      <td>2</td>\n",
       "      <td>5c1a295acf4240f8a73fffd548928104b5a85eba</td>\n",
       "      <td>0.0</td>\n",
       "      <td>1.0</td>\n",
       "    </tr>\n",
       "    <tr>\n",
       "      <td>3</td>\n",
       "      <td>35e47bc9b33ddf2efe63d450a14bbf70601293dd</td>\n",
       "      <td>0.0</td>\n",
       "      <td>1.0</td>\n",
       "    </tr>\n",
       "    <tr>\n",
       "      <td>4</td>\n",
       "      <td>1464c83d09e74799f639cd1b100cc048941b018d</td>\n",
       "      <td>0.0</td>\n",
       "      <td>1.0</td>\n",
       "    </tr>\n",
       "    <tr>\n",
       "      <td>...</td>\n",
       "      <td>...</td>\n",
       "      <td>...</td>\n",
       "      <td>...</td>\n",
       "    </tr>\n",
       "    <tr>\n",
       "      <td>15053</td>\n",
       "      <td>c047067242e05bb8ab79ae2d96960a18c46cf320</td>\n",
       "      <td>0.0</td>\n",
       "      <td>30.0</td>\n",
       "    </tr>\n",
       "    <tr>\n",
       "      <td>15054</td>\n",
       "      <td>64224acd4f8ee117da53c98273a9209ab90a96f4</td>\n",
       "      <td>0.0</td>\n",
       "      <td>10.0</td>\n",
       "    </tr>\n",
       "    <tr>\n",
       "      <td>15055</td>\n",
       "      <td>70acc768f4d51344ab7b2835d2e2fed8d78d869b</td>\n",
       "      <td>0.0</td>\n",
       "      <td>3.0</td>\n",
       "    </tr>\n",
       "    <tr>\n",
       "      <td>15056</td>\n",
       "      <td>c96e163debab5406b9c1b72dd98724004aca5fb8</td>\n",
       "      <td>1.0</td>\n",
       "      <td>1.0</td>\n",
       "    </tr>\n",
       "    <tr>\n",
       "      <td>15057</td>\n",
       "      <td>990c2b98a996c1b18761dd2c9d9248d6de1dde0a</td>\n",
       "      <td>1.0</td>\n",
       "      <td>6.0</td>\n",
       "    </tr>\n",
       "  </tbody>\n",
       "</table>\n",
       "<p>16560 rows × 3 columns</p>\n",
       "</div>"
      ],
      "text/plain": [
       "                                             id  classification_predictions  \\\n",
       "0      3ea64e9c143efc1b3752cb10db509674fe594759                         0.0   \n",
       "1      1e08f1e9a8c611a99034900d7e71254f3e0bb0e9                         0.0   \n",
       "2      5c1a295acf4240f8a73fffd548928104b5a85eba                         0.0   \n",
       "3      35e47bc9b33ddf2efe63d450a14bbf70601293dd                         0.0   \n",
       "4      1464c83d09e74799f639cd1b100cc048941b018d                         0.0   \n",
       "...                                         ...                         ...   \n",
       "15053  c047067242e05bb8ab79ae2d96960a18c46cf320                         0.0   \n",
       "15054  64224acd4f8ee117da53c98273a9209ab90a96f4                         0.0   \n",
       "15055  70acc768f4d51344ab7b2835d2e2fed8d78d869b                         0.0   \n",
       "15056  c96e163debab5406b9c1b72dd98724004aca5fb8                         1.0   \n",
       "15057  990c2b98a996c1b18761dd2c9d9248d6de1dde0a                         1.0   \n",
       "\n",
       "       regression_predictions  \n",
       "0                         1.0  \n",
       "1                         1.0  \n",
       "2                         1.0  \n",
       "3                         1.0  \n",
       "4                         1.0  \n",
       "...                       ...  \n",
       "15053                    30.0  \n",
       "15054                    10.0  \n",
       "15055                     3.0  \n",
       "15056                     1.0  \n",
       "15057                     6.0  \n",
       "\n",
       "[16560 rows x 3 columns]"
      ]
     },
     "execution_count": 209,
     "metadata": {},
     "output_type": "execute_result"
    }
   ],
   "source": [
    "submit = pub_final_result[['id', 'classification_predictions', 'regression_predictions']]\n",
    "submit = submit.append(pd.read_csv(os.getcwd()+'/pri_result_01.csv'))\n",
    "submit"
   ]
  },
  {
   "cell_type": "code",
   "execution_count": 210,
   "metadata": {},
   "outputs": [],
   "source": [
    "submit.to_csv(os.getcwd()+'/submit_03.csv', index=False)"
   ]
  },
  {
   "cell_type": "code",
   "execution_count": 21,
   "metadata": {},
   "outputs": [
    {
     "data": {
      "text/plain": [
       "748.1654493808746"
      ]
     },
     "execution_count": 21,
     "metadata": {},
     "output_type": "execute_result"
    }
   ],
   "source": [
    "sum(pub_final_result.prob)"
   ]
  },
  {
   "cell_type": "code",
   "execution_count": 32,
   "metadata": {},
   "outputs": [],
   "source": [
    "test = pd.read_pickle(os.getcwd()+'/pri_result_01.pkl')"
   ]
  },
  {
   "cell_type": "code",
   "execution_count": 33,
   "metadata": {},
   "outputs": [
    {
     "data": {
      "text/html": [
       "<div>\n",
       "<style scoped>\n",
       "    .dataframe tbody tr th:only-of-type {\n",
       "        vertical-align: middle;\n",
       "    }\n",
       "\n",
       "    .dataframe tbody tr th {\n",
       "        vertical-align: top;\n",
       "    }\n",
       "\n",
       "    .dataframe thead th {\n",
       "        text-align: right;\n",
       "    }\n",
       "</style>\n",
       "<table border=\"1\" class=\"dataframe\">\n",
       "  <thead>\n",
       "    <tr style=\"text-align: right;\">\n",
       "      <th></th>\n",
       "      <th>id</th>\n",
       "      <th>classification_predictions</th>\n",
       "      <th>regression_predictions</th>\n",
       "      <th>isHigh</th>\n",
       "      <th>isLow</th>\n",
       "      <th>energy_1vs3</th>\n",
       "      <th>energy_6vs10</th>\n",
       "      <th>energy_20vs30</th>\n",
       "    </tr>\n",
       "  </thead>\n",
       "  <tbody>\n",
       "    <tr>\n",
       "      <td>9976</td>\n",
       "      <td>f2177b2e30ca1139633c528b5b019cdc0e75876f</td>\n",
       "      <td>1</td>\n",
       "      <td>1</td>\n",
       "      <td>0.000499</td>\n",
       "      <td>0.96393</td>\n",
       "      <td>[0.0, 0.24020775, 0.28247565, 0.0]</td>\n",
       "      <td>[0.0, 0.00046554767, 9.797556e-05, 0.0]</td>\n",
       "      <td>[0.0, 0.14355287, 0.14812815, 0.0]</td>\n",
       "    </tr>\n",
       "  </tbody>\n",
       "</table>\n",
       "</div>"
      ],
      "text/plain": [
       "                                            id  classification_predictions  \\\n",
       "9976  f2177b2e30ca1139633c528b5b019cdc0e75876f                           1   \n",
       "\n",
       "      regression_predictions    isHigh    isLow  \\\n",
       "9976                       1  0.000499  0.96393   \n",
       "\n",
       "                             energy_1vs3  \\\n",
       "9976  [0.0, 0.24020775, 0.28247565, 0.0]   \n",
       "\n",
       "                                 energy_6vs10  \\\n",
       "9976  [0.0, 0.00046554767, 9.797556e-05, 0.0]   \n",
       "\n",
       "                           energy_20vs30  \n",
       "9976  [0.0, 0.14355287, 0.14812815, 0.0]  "
      ]
     },
     "execution_count": 33,
     "metadata": {},
     "output_type": "execute_result"
    }
   ],
   "source": [
    "test[test.id=='f2177b2e30ca1139633c528b5b019cdc0e75876f']"
   ]
  },
  {
   "cell_type": "code",
   "execution_count": 27,
   "metadata": {},
   "outputs": [],
   "source": [
    "pri_final_result = pd.read_csv(os.getcwd()+'/pri_result_04.csv')"
   ]
  },
  {
   "cell_type": "code",
   "execution_count": 35,
   "metadata": {},
   "outputs": [
    {
     "data": {
      "text/html": [
       "<div>\n",
       "<style scoped>\n",
       "    .dataframe tbody tr th:only-of-type {\n",
       "        vertical-align: middle;\n",
       "    }\n",
       "\n",
       "    .dataframe tbody tr th {\n",
       "        vertical-align: top;\n",
       "    }\n",
       "\n",
       "    .dataframe thead th {\n",
       "        text-align: right;\n",
       "    }\n",
       "</style>\n",
       "<table border=\"1\" class=\"dataframe\">\n",
       "  <thead>\n",
       "    <tr style=\"text-align: right;\">\n",
       "      <th></th>\n",
       "      <th>level_0</th>\n",
       "      <th>index</th>\n",
       "      <th>id</th>\n",
       "      <th>classification_predictions</th>\n",
       "      <th>regression_predictions</th>\n",
       "      <th>isHigh</th>\n",
       "      <th>isLow</th>\n",
       "      <th>energy_1vs3</th>\n",
       "      <th>energy_6vs10</th>\n",
       "      <th>energy_20vs30</th>\n",
       "      <th>prob</th>\n",
       "    </tr>\n",
       "  </thead>\n",
       "  <tbody>\n",
       "    <tr>\n",
       "      <td>2794</td>\n",
       "      <td>11976</td>\n",
       "      <td>976</td>\n",
       "      <td>f2177b2e30ca1139633c528b5b019cdc0e75876f</td>\n",
       "      <td>NaN</td>\n",
       "      <td>NaN</td>\n",
       "      <td>0.000499</td>\n",
       "      <td>0.96393</td>\n",
       "      <td>[0.         0.24020775 0.28247565 0.        ]</td>\n",
       "      <td>[0.0000000e+00 4.6554767e-04 9.7975557e-05 0.0...</td>\n",
       "      <td>[0.         0.14355287 0.14812815 0.        ]</td>\n",
       "      <td>NaN</td>\n",
       "    </tr>\n",
       "    <tr>\n",
       "      <td>8403</td>\n",
       "      <td>1121</td>\n",
       "      <td>121</td>\n",
       "      <td>05e894a3bab0d9af731a41f63bfbef3383fb6e99</td>\n",
       "      <td>NaN</td>\n",
       "      <td>NaN</td>\n",
       "      <td>0.000000</td>\n",
       "      <td>0.00000</td>\n",
       "      <td>[0.0000000e+00 2.5836995e-38 0.0000000e+00 0.0...</td>\n",
       "      <td>[0.0000000e+00 1.0961283e-09 3.5154574e-07 0.0...</td>\n",
       "      <td>[0.         0.13178162 0.00021578 0.        ]</td>\n",
       "      <td>NaN</td>\n",
       "    </tr>\n",
       "    <tr>\n",
       "      <td>13012</td>\n",
       "      <td>15034</td>\n",
       "      <td>34</td>\n",
       "      <td>466153d245485913af9445471bb0f41475381a29</td>\n",
       "      <td>NaN</td>\n",
       "      <td>NaN</td>\n",
       "      <td>0.999924</td>\n",
       "      <td>0.00000</td>\n",
       "      <td>[0.0000000e+00 1.7359059e-14 1.8519312e-17 0.0...</td>\n",
       "      <td>[0.         0.00304862 0.0012697  0.        ]</td>\n",
       "      <td>[0.0000000e+00 9.0636146e-05 9.1687747e-05 0.0...</td>\n",
       "      <td>NaN</td>\n",
       "    </tr>\n",
       "  </tbody>\n",
       "</table>\n",
       "</div>"
      ],
      "text/plain": [
       "       level_0  index                                        id  \\\n",
       "2794     11976    976  f2177b2e30ca1139633c528b5b019cdc0e75876f   \n",
       "8403      1121    121  05e894a3bab0d9af731a41f63bfbef3383fb6e99   \n",
       "13012    15034     34  466153d245485913af9445471bb0f41475381a29   \n",
       "\n",
       "       classification_predictions  regression_predictions    isHigh    isLow  \\\n",
       "2794                          NaN                     NaN  0.000499  0.96393   \n",
       "8403                          NaN                     NaN  0.000000  0.00000   \n",
       "13012                         NaN                     NaN  0.999924  0.00000   \n",
       "\n",
       "                                             energy_1vs3  \\\n",
       "2794       [0.         0.24020775 0.28247565 0.        ]   \n",
       "8403   [0.0000000e+00 2.5836995e-38 0.0000000e+00 0.0...   \n",
       "13012  [0.0000000e+00 1.7359059e-14 1.8519312e-17 0.0...   \n",
       "\n",
       "                                            energy_6vs10  \\\n",
       "2794   [0.0000000e+00 4.6554767e-04 9.7975557e-05 0.0...   \n",
       "8403   [0.0000000e+00 1.0961283e-09 3.5154574e-07 0.0...   \n",
       "13012      [0.         0.00304862 0.0012697  0.        ]   \n",
       "\n",
       "                                           energy_20vs30  prob  \n",
       "2794       [0.         0.14355287 0.14812815 0.        ]   NaN  \n",
       "8403       [0.         0.13178162 0.00021578 0.        ]   NaN  \n",
       "13012  [0.0000000e+00 9.0636146e-05 9.1687747e-05 0.0...   NaN  "
      ]
     },
     "execution_count": 35,
     "metadata": {},
     "output_type": "execute_result"
    }
   ],
   "source": [
    "pri_final_result[pri_final_result.classification_predictions!=pri_final_result.classification_predictions]"
   ]
  },
  {
   "cell_type": "code",
   "execution_count": 24,
   "metadata": {},
   "outputs": [
    {
     "data": {
      "text/html": [
       "<div>\n",
       "<style scoped>\n",
       "    .dataframe tbody tr th:only-of-type {\n",
       "        vertical-align: middle;\n",
       "    }\n",
       "\n",
       "    .dataframe tbody tr th {\n",
       "        vertical-align: top;\n",
       "    }\n",
       "\n",
       "    .dataframe thead th {\n",
       "        text-align: right;\n",
       "    }\n",
       "</style>\n",
       "<table border=\"1\" class=\"dataframe\">\n",
       "  <thead>\n",
       "    <tr style=\"text-align: right;\">\n",
       "      <th></th>\n",
       "      <th>id</th>\n",
       "      <th>classification_predictions</th>\n",
       "      <th>regression_predictions</th>\n",
       "      <th>isHigh</th>\n",
       "      <th>isLow</th>\n",
       "      <th>energy_1vs3</th>\n",
       "      <th>energy_6vs10</th>\n",
       "      <th>energy_20vs30</th>\n",
       "      <th>prob</th>\n",
       "    </tr>\n",
       "  </thead>\n",
       "  <tbody>\n",
       "    <tr>\n",
       "      <td>0</td>\n",
       "      <td>3ea64e9c143efc1b3752cb10db509674fe594759</td>\n",
       "      <td>0.0</td>\n",
       "      <td>1.0</td>\n",
       "      <td>0.006383</td>\n",
       "      <td>0.905503</td>\n",
       "      <td>[9.9090487e-01 0.0000000e+00 0.0000000e+00 5.1...</td>\n",
       "      <td>[9.999449e-01 0.000000e+00 0.000000e+00 7.5118...</td>\n",
       "      <td>[0.5652979  0.         0.         0.18367599]</td>\n",
       "      <td>0.0</td>\n",
       "    </tr>\n",
       "    <tr>\n",
       "      <td>1</td>\n",
       "      <td>1e08f1e9a8c611a99034900d7e71254f3e0bb0e9</td>\n",
       "      <td>0.0</td>\n",
       "      <td>1.0</td>\n",
       "      <td>0.006621</td>\n",
       "      <td>0.832935</td>\n",
       "      <td>[9.8904479e-01 0.0000000e+00 0.0000000e+00 1.0...</td>\n",
       "      <td>[9.9991977e-01 0.0000000e+00 0.0000000e+00 1.5...</td>\n",
       "      <td>[0.563523  0.        0.        0.1799919]</td>\n",
       "      <td>0.0</td>\n",
       "    </tr>\n",
       "    <tr>\n",
       "      <td>2</td>\n",
       "      <td>5c1a295acf4240f8a73fffd548928104b5a85eba</td>\n",
       "      <td>0.0</td>\n",
       "      <td>1.0</td>\n",
       "      <td>0.003213</td>\n",
       "      <td>0.903663</td>\n",
       "      <td>[9.8856539e-01 0.0000000e+00 0.0000000e+00 1.3...</td>\n",
       "      <td>[9.9991012e-01 0.0000000e+00 0.0000000e+00 1.8...</td>\n",
       "      <td>[0.5740864  0.         0.         0.17449906]</td>\n",
       "      <td>0.0</td>\n",
       "    </tr>\n",
       "    <tr>\n",
       "      <td>3</td>\n",
       "      <td>35e47bc9b33ddf2efe63d450a14bbf70601293dd</td>\n",
       "      <td>0.0</td>\n",
       "      <td>1.0</td>\n",
       "      <td>0.003466</td>\n",
       "      <td>0.890815</td>\n",
       "      <td>[9.8788536e-01 0.0000000e+00 0.0000000e+00 9.7...</td>\n",
       "      <td>[9.9991429e-01 0.0000000e+00 0.0000000e+00 1.5...</td>\n",
       "      <td>[0.57575536 0.         0.         0.17426303]</td>\n",
       "      <td>0.0</td>\n",
       "    </tr>\n",
       "    <tr>\n",
       "      <td>4</td>\n",
       "      <td>1464c83d09e74799f639cd1b100cc048941b018d</td>\n",
       "      <td>0.0</td>\n",
       "      <td>1.0</td>\n",
       "      <td>0.004539</td>\n",
       "      <td>0.903993</td>\n",
       "      <td>[9.867944e-01 0.000000e+00 0.000000e+00 3.5434...</td>\n",
       "      <td>[9.999455e-01 0.000000e+00 0.000000e+00 7.2493...</td>\n",
       "      <td>[0.55414695 0.         0.         0.19072166]</td>\n",
       "      <td>0.0</td>\n",
       "    </tr>\n",
       "    <tr>\n",
       "      <td>...</td>\n",
       "      <td>...</td>\n",
       "      <td>...</td>\n",
       "      <td>...</td>\n",
       "      <td>...</td>\n",
       "      <td>...</td>\n",
       "      <td>...</td>\n",
       "      <td>...</td>\n",
       "      <td>...</td>\n",
       "      <td>...</td>\n",
       "    </tr>\n",
       "    <tr>\n",
       "      <td>1497</td>\n",
       "      <td>f0659296f230c9423909a7c1972f91bb098978be</td>\n",
       "      <td>1.0</td>\n",
       "      <td>30.0</td>\n",
       "      <td>1.000000</td>\n",
       "      <td>0.000000</td>\n",
       "      <td>[1. 0. 0. 0.]</td>\n",
       "      <td>[1.000000e+00 0.000000e+00 0.000000e+00 4.4732...</td>\n",
       "      <td>[6.4160101e-12 0.0000000e+00 0.0000000e+00 9.9...</td>\n",
       "      <td>1.0</td>\n",
       "    </tr>\n",
       "    <tr>\n",
       "      <td>1498</td>\n",
       "      <td>4d6b503630ccde9c93e951cd76b28ee4b185b6b9</td>\n",
       "      <td>1.0</td>\n",
       "      <td>30.0</td>\n",
       "      <td>1.000000</td>\n",
       "      <td>0.000000</td>\n",
       "      <td>[1.00000e+00 0.00000e+00 0.00000e+00 8.31186e-30]</td>\n",
       "      <td>[1.0000000e+00 0.0000000e+00 0.0000000e+00 3.8...</td>\n",
       "      <td>[2.9164843e-12 0.0000000e+00 0.0000000e+00 1.0...</td>\n",
       "      <td>1.0</td>\n",
       "    </tr>\n",
       "    <tr>\n",
       "      <td>1499</td>\n",
       "      <td>603e53ad0bd1f9a664de64a032cff45c68efd16a</td>\n",
       "      <td>1.0</td>\n",
       "      <td>30.0</td>\n",
       "      <td>1.000000</td>\n",
       "      <td>0.000000</td>\n",
       "      <td>[1.0000000e+00 0.0000000e+00 0.0000000e+00 2.2...</td>\n",
       "      <td>[1.0000000e+00 0.0000000e+00 0.0000000e+00 2.5...</td>\n",
       "      <td>[4.193762e-10 0.000000e+00 0.000000e+00 1.0000...</td>\n",
       "      <td>1.0</td>\n",
       "    </tr>\n",
       "    <tr>\n",
       "      <td>1500</td>\n",
       "      <td>9325382a5241de960ed1872f1b6d9ab60f6f9236</td>\n",
       "      <td>1.0</td>\n",
       "      <td>30.0</td>\n",
       "      <td>1.000000</td>\n",
       "      <td>0.000000</td>\n",
       "      <td>[1.000000e+00 0.000000e+00 0.000000e+00 9.5774...</td>\n",
       "      <td>[1.000000e+00 0.000000e+00 0.000000e+00 8.0739...</td>\n",
       "      <td>[6.678762e-09 0.000000e+00 0.000000e+00 1.0000...</td>\n",
       "      <td>1.0</td>\n",
       "    </tr>\n",
       "    <tr>\n",
       "      <td>1501</td>\n",
       "      <td>9749ec2e32a654a69ad62ba88718bbf322d1361e</td>\n",
       "      <td>1.0</td>\n",
       "      <td>30.0</td>\n",
       "      <td>1.000000</td>\n",
       "      <td>0.000000</td>\n",
       "      <td>[1.0000000e+00 0.0000000e+00 0.0000000e+00 2.3...</td>\n",
       "      <td>[1.0000000e+00 0.0000000e+00 0.0000000e+00 4.4...</td>\n",
       "      <td>[4.378907e-11 0.000000e+00 0.000000e+00 1.0000...</td>\n",
       "      <td>1.0</td>\n",
       "    </tr>\n",
       "  </tbody>\n",
       "</table>\n",
       "<p>1502 rows × 9 columns</p>\n",
       "</div>"
      ],
      "text/plain": [
       "                                            id  classification_predictions  \\\n",
       "0     3ea64e9c143efc1b3752cb10db509674fe594759                         0.0   \n",
       "1     1e08f1e9a8c611a99034900d7e71254f3e0bb0e9                         0.0   \n",
       "2     5c1a295acf4240f8a73fffd548928104b5a85eba                         0.0   \n",
       "3     35e47bc9b33ddf2efe63d450a14bbf70601293dd                         0.0   \n",
       "4     1464c83d09e74799f639cd1b100cc048941b018d                         0.0   \n",
       "...                                        ...                         ...   \n",
       "1497  f0659296f230c9423909a7c1972f91bb098978be                         1.0   \n",
       "1498  4d6b503630ccde9c93e951cd76b28ee4b185b6b9                         1.0   \n",
       "1499  603e53ad0bd1f9a664de64a032cff45c68efd16a                         1.0   \n",
       "1500  9325382a5241de960ed1872f1b6d9ab60f6f9236                         1.0   \n",
       "1501  9749ec2e32a654a69ad62ba88718bbf322d1361e                         1.0   \n",
       "\n",
       "      regression_predictions    isHigh     isLow  \\\n",
       "0                        1.0  0.006383  0.905503   \n",
       "1                        1.0  0.006621  0.832935   \n",
       "2                        1.0  0.003213  0.903663   \n",
       "3                        1.0  0.003466  0.890815   \n",
       "4                        1.0  0.004539  0.903993   \n",
       "...                      ...       ...       ...   \n",
       "1497                    30.0  1.000000  0.000000   \n",
       "1498                    30.0  1.000000  0.000000   \n",
       "1499                    30.0  1.000000  0.000000   \n",
       "1500                    30.0  1.000000  0.000000   \n",
       "1501                    30.0  1.000000  0.000000   \n",
       "\n",
       "                                            energy_1vs3  \\\n",
       "0     [9.9090487e-01 0.0000000e+00 0.0000000e+00 5.1...   \n",
       "1     [9.8904479e-01 0.0000000e+00 0.0000000e+00 1.0...   \n",
       "2     [9.8856539e-01 0.0000000e+00 0.0000000e+00 1.3...   \n",
       "3     [9.8788536e-01 0.0000000e+00 0.0000000e+00 9.7...   \n",
       "4     [9.867944e-01 0.000000e+00 0.000000e+00 3.5434...   \n",
       "...                                                 ...   \n",
       "1497                                      [1. 0. 0. 0.]   \n",
       "1498  [1.00000e+00 0.00000e+00 0.00000e+00 8.31186e-30]   \n",
       "1499  [1.0000000e+00 0.0000000e+00 0.0000000e+00 2.2...   \n",
       "1500  [1.000000e+00 0.000000e+00 0.000000e+00 9.5774...   \n",
       "1501  [1.0000000e+00 0.0000000e+00 0.0000000e+00 2.3...   \n",
       "\n",
       "                                           energy_6vs10  \\\n",
       "0     [9.999449e-01 0.000000e+00 0.000000e+00 7.5118...   \n",
       "1     [9.9991977e-01 0.0000000e+00 0.0000000e+00 1.5...   \n",
       "2     [9.9991012e-01 0.0000000e+00 0.0000000e+00 1.8...   \n",
       "3     [9.9991429e-01 0.0000000e+00 0.0000000e+00 1.5...   \n",
       "4     [9.999455e-01 0.000000e+00 0.000000e+00 7.2493...   \n",
       "...                                                 ...   \n",
       "1497  [1.000000e+00 0.000000e+00 0.000000e+00 4.4732...   \n",
       "1498  [1.0000000e+00 0.0000000e+00 0.0000000e+00 3.8...   \n",
       "1499  [1.0000000e+00 0.0000000e+00 0.0000000e+00 2.5...   \n",
       "1500  [1.000000e+00 0.000000e+00 0.000000e+00 8.0739...   \n",
       "1501  [1.0000000e+00 0.0000000e+00 0.0000000e+00 4.4...   \n",
       "\n",
       "                                          energy_20vs30  prob  \n",
       "0         [0.5652979  0.         0.         0.18367599]   0.0  \n",
       "1             [0.563523  0.        0.        0.1799919]   0.0  \n",
       "2         [0.5740864  0.         0.         0.17449906]   0.0  \n",
       "3         [0.57575536 0.         0.         0.17426303]   0.0  \n",
       "4         [0.55414695 0.         0.         0.19072166]   0.0  \n",
       "...                                                 ...   ...  \n",
       "1497  [6.4160101e-12 0.0000000e+00 0.0000000e+00 9.9...   1.0  \n",
       "1498  [2.9164843e-12 0.0000000e+00 0.0000000e+00 1.0...   1.0  \n",
       "1499  [4.193762e-10 0.000000e+00 0.000000e+00 1.0000...   1.0  \n",
       "1500  [6.678762e-09 0.000000e+00 0.000000e+00 1.0000...   1.0  \n",
       "1501  [4.378907e-11 0.000000e+00 0.000000e+00 1.0000...   1.0  \n",
       "\n",
       "[1502 rows x 9 columns]"
      ]
     },
     "execution_count": 24,
     "metadata": {},
     "output_type": "execute_result"
    }
   ],
   "source": [
    "pd.read_csv(os.getcwd()+'/pub_result_04.csv')"
   ]
  },
  {
   "cell_type": "code",
   "execution_count": null,
   "metadata": {},
   "outputs": [],
   "source": []
  }
 ],
 "metadata": {
  "kernelspec": {
   "display_name": "Python 3",
   "language": "python",
   "name": "python3"
  },
  "language_info": {
   "codemirror_mode": {
    "name": "ipython",
    "version": 3
   },
   "file_extension": ".py",
   "mimetype": "text/x-python",
   "name": "python",
   "nbconvert_exporter": "python",
   "pygments_lexer": "ipython3",
   "version": "3.7.4"
  }
 },
 "nbformat": 4,
 "nbformat_minor": 4
}
