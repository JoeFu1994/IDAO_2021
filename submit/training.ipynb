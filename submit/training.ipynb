{
 "cells": [
  {
   "cell_type": "code",
   "execution_count": 2,
   "metadata": {},
   "outputs": [],
   "source": [
    "# General data manipulation\n",
    "import pandas\n",
    "from matplotlib import pyplot as plt\n",
    "import matplotlib.image as mpimg\n",
    "import numpy as np\n",
    "import sys\n",
    "import pandas as pd\n",
    "from PIL import Image # pip install pillow\n",
    "import gc\n",
    "import os\n",
    "from os import listdir\n",
    "from os.path import isfile, join\n",
    "os.environ['KMP_DUPLICATE_LIB_OK']='True'\n",
    "# if os.getcwd() != '/home/azureuser/IDAO_2021':\n",
    "#     os.chdir('/home/azureuser/IDAO_2021')"
   ]
  },
  {
   "cell_type": "code",
   "execution_count": 48,
   "metadata": {},
   "outputs": [
    {
     "data": {
      "text/html": [
       "<div>\n",
       "<style scoped>\n",
       "    .dataframe tbody tr th:only-of-type {\n",
       "        vertical-align: middle;\n",
       "    }\n",
       "\n",
       "    .dataframe tbody tr th {\n",
       "        vertical-align: top;\n",
       "    }\n",
       "\n",
       "    .dataframe thead th {\n",
       "        text-align: right;\n",
       "    }\n",
       "</style>\n",
       "<table border=\"1\" class=\"dataframe\">\n",
       "  <thead>\n",
       "    <tr style=\"text-align: right;\">\n",
       "      <th></th>\n",
       "      <th>type</th>\n",
       "      <th>energy</th>\n",
       "      <th>num</th>\n",
       "      <th>run</th>\n",
       "      <th>ev</th>\n",
       "      <th>path</th>\n",
       "      <th>type_2</th>\n",
       "    </tr>\n",
       "  </thead>\n",
       "  <tbody>\n",
       "    <tr>\n",
       "      <td>0</td>\n",
       "      <td>ER</td>\n",
       "      <td>30</td>\n",
       "      <td>0.502326</td>\n",
       "      <td>run4</td>\n",
       "      <td>494</td>\n",
       "      <td>0.5023260116577148__CYGNO_60_40_ER_30_keV_930V...</td>\n",
       "      <td>1</td>\n",
       "    </tr>\n",
       "    <tr>\n",
       "      <td>1</td>\n",
       "      <td>ER</td>\n",
       "      <td>3</td>\n",
       "      <td>-0.423183</td>\n",
       "      <td>run5</td>\n",
       "      <td>229</td>\n",
       "      <td>-0.42318278551101685__CYGNO_60_40_ER_3_keV_930...</td>\n",
       "      <td>1</td>\n",
       "    </tr>\n",
       "    <tr>\n",
       "      <td>2</td>\n",
       "      <td>ER</td>\n",
       "      <td>3</td>\n",
       "      <td>-0.493629</td>\n",
       "      <td>run2</td>\n",
       "      <td>333</td>\n",
       "      <td>-0.4936290979385376__CYGNO_60_40_ER_3_keV_930V...</td>\n",
       "      <td>1</td>\n",
       "    </tr>\n",
       "    <tr>\n",
       "      <td>3</td>\n",
       "      <td>ER</td>\n",
       "      <td>30</td>\n",
       "      <td>-1.189218</td>\n",
       "      <td>run2</td>\n",
       "      <td>288</td>\n",
       "      <td>-1.189218282699585__CYGNO_60_40_ER_30_keV_930V...</td>\n",
       "      <td>1</td>\n",
       "    </tr>\n",
       "    <tr>\n",
       "      <td>4</td>\n",
       "      <td>ER</td>\n",
       "      <td>10</td>\n",
       "      <td>1.117318</td>\n",
       "      <td>run2</td>\n",
       "      <td>299</td>\n",
       "      <td>1.117317795753479__CYGNO_60_40_ER_10_keV_930V_...</td>\n",
       "      <td>1</td>\n",
       "    </tr>\n",
       "  </tbody>\n",
       "</table>\n",
       "</div>"
      ],
      "text/plain": [
       "  type  energy       num   run   ev  \\\n",
       "0   ER      30  0.502326  run4  494   \n",
       "1   ER       3 -0.423183  run5  229   \n",
       "2   ER       3 -0.493629  run2  333   \n",
       "3   ER      30 -1.189218  run2  288   \n",
       "4   ER      10  1.117318  run2  299   \n",
       "\n",
       "                                                path  type_2  \n",
       "0  0.5023260116577148__CYGNO_60_40_ER_30_keV_930V...       1  \n",
       "1  -0.42318278551101685__CYGNO_60_40_ER_3_keV_930...       1  \n",
       "2  -0.4936290979385376__CYGNO_60_40_ER_3_keV_930V...       1  \n",
       "3  -1.189218282699585__CYGNO_60_40_ER_30_keV_930V...       1  \n",
       "4  1.117317795753479__CYGNO_60_40_ER_10_keV_930V_...       1  "
      ]
     },
     "execution_count": 48,
     "metadata": {},
     "output_type": "execute_result"
    }
   ],
   "source": [
    "DIR = os.getcwd() + '/idao_dataset'\n",
    "# get train file names and convert to dataframe\n",
    "# you may need to change your working directory first:\n",
    "# os.chdir('/your_path')\n",
    "ER_file_names = os.listdir(DIR + '/train/ER/')\n",
    "NR_file_names = os.listdir(DIR + '/train/NR/')\n",
    "\n",
    "ER = pd.DataFrame([[y.replace(';1.png','').replace('ev','') for y in x.split('_')] + [x] for x in ER_file_names])\n",
    "NR = pd.DataFrame([[y.replace(';1.png','').replace('ev','') for y in x.split('_')] + [x] for x in NR_file_names])\n",
    "\n",
    "# only few columns have distinct values\n",
    "# print(ER.apply(lambda x: len(x.unique())))\n",
    "# print(NR.apply(lambda x: len(x.unique())))\n",
    "\n",
    "ER = ER[[5,6,0,15,16,17]].rename(columns={5:'type',6:'energy',0:'num',15:'run',16:'ev',17:'path'})\n",
    "NR = NR[[6,7,0,17,18,19]].rename(columns={6:'type',7:'energy',0:'num',17:'run',18:'ev',19:'path'})\n",
    "data = ER.append(NR, ignore_index=True)\n",
    "data = data.astype(dict(zip(data.columns,[str,int,float,str,int,str])))\n",
    "data['type_2'] = (data.type == 'ER')*1\n",
    "data.head()"
   ]
  },
  {
   "cell_type": "code",
   "execution_count": 49,
   "metadata": {},
   "outputs": [
    {
     "data": {
      "text/html": [
       "<div>\n",
       "<style scoped>\n",
       "    .dataframe tbody tr th:only-of-type {\n",
       "        vertical-align: middle;\n",
       "    }\n",
       "\n",
       "    .dataframe tbody tr th {\n",
       "        vertical-align: top;\n",
       "    }\n",
       "\n",
       "    .dataframe thead th {\n",
       "        text-align: right;\n",
       "    }\n",
       "</style>\n",
       "<table border=\"1\" class=\"dataframe\">\n",
       "  <thead>\n",
       "    <tr style=\"text-align: right;\">\n",
       "      <th></th>\n",
       "      <th></th>\n",
       "      <th>num</th>\n",
       "      <th>run</th>\n",
       "      <th>ev</th>\n",
       "      <th>path</th>\n",
       "      <th>type_2</th>\n",
       "    </tr>\n",
       "    <tr>\n",
       "      <th>type</th>\n",
       "      <th>energy</th>\n",
       "      <th></th>\n",
       "      <th></th>\n",
       "      <th></th>\n",
       "      <th></th>\n",
       "      <th></th>\n",
       "    </tr>\n",
       "  </thead>\n",
       "  <tbody>\n",
       "    <tr>\n",
       "      <td rowspan=\"6\" valign=\"top\">ER</td>\n",
       "      <td>1</td>\n",
       "      <td>3</td>\n",
       "      <td>3</td>\n",
       "      <td>3</td>\n",
       "      <td>3</td>\n",
       "      <td>3</td>\n",
       "    </tr>\n",
       "    <tr>\n",
       "      <td>3</td>\n",
       "      <td>2243</td>\n",
       "      <td>2243</td>\n",
       "      <td>2243</td>\n",
       "      <td>2243</td>\n",
       "      <td>2243</td>\n",
       "    </tr>\n",
       "    <tr>\n",
       "      <td>6</td>\n",
       "      <td>1</td>\n",
       "      <td>1</td>\n",
       "      <td>1</td>\n",
       "      <td>1</td>\n",
       "      <td>1</td>\n",
       "    </tr>\n",
       "    <tr>\n",
       "      <td>10</td>\n",
       "      <td>2272</td>\n",
       "      <td>2272</td>\n",
       "      <td>2272</td>\n",
       "      <td>2272</td>\n",
       "      <td>2272</td>\n",
       "    </tr>\n",
       "    <tr>\n",
       "      <td>20</td>\n",
       "      <td>2</td>\n",
       "      <td>2</td>\n",
       "      <td>2</td>\n",
       "      <td>2</td>\n",
       "      <td>2</td>\n",
       "    </tr>\n",
       "    <tr>\n",
       "      <td>30</td>\n",
       "      <td>2237</td>\n",
       "      <td>2237</td>\n",
       "      <td>2237</td>\n",
       "      <td>2237</td>\n",
       "      <td>2237</td>\n",
       "    </tr>\n",
       "    <tr>\n",
       "      <td rowspan=\"6\" valign=\"top\">NR</td>\n",
       "      <td>1</td>\n",
       "      <td>2177</td>\n",
       "      <td>2177</td>\n",
       "      <td>2177</td>\n",
       "      <td>2177</td>\n",
       "      <td>2177</td>\n",
       "    </tr>\n",
       "    <tr>\n",
       "      <td>3</td>\n",
       "      <td>2</td>\n",
       "      <td>2</td>\n",
       "      <td>2</td>\n",
       "      <td>2</td>\n",
       "      <td>2</td>\n",
       "    </tr>\n",
       "    <tr>\n",
       "      <td>6</td>\n",
       "      <td>2255</td>\n",
       "      <td>2255</td>\n",
       "      <td>2255</td>\n",
       "      <td>2255</td>\n",
       "      <td>2255</td>\n",
       "    </tr>\n",
       "    <tr>\n",
       "      <td>10</td>\n",
       "      <td>2</td>\n",
       "      <td>2</td>\n",
       "      <td>2</td>\n",
       "      <td>2</td>\n",
       "      <td>2</td>\n",
       "    </tr>\n",
       "    <tr>\n",
       "      <td>20</td>\n",
       "      <td>2208</td>\n",
       "      <td>2208</td>\n",
       "      <td>2208</td>\n",
       "      <td>2208</td>\n",
       "      <td>2208</td>\n",
       "    </tr>\n",
       "    <tr>\n",
       "      <td>30</td>\n",
       "      <td>2</td>\n",
       "      <td>2</td>\n",
       "      <td>2</td>\n",
       "      <td>2</td>\n",
       "      <td>2</td>\n",
       "    </tr>\n",
       "  </tbody>\n",
       "</table>\n",
       "</div>"
      ],
      "text/plain": [
       "              num   run    ev  path  type_2\n",
       "type energy                                \n",
       "ER   1          3     3     3     3       3\n",
       "     3       2243  2243  2243  2243    2243\n",
       "     6          1     1     1     1       1\n",
       "     10      2272  2272  2272  2272    2272\n",
       "     20         2     2     2     2       2\n",
       "     30      2237  2237  2237  2237    2237\n",
       "NR   1       2177  2177  2177  2177    2177\n",
       "     3          2     2     2     2       2\n",
       "     6       2255  2255  2255  2255    2255\n",
       "     10         2     2     2     2       2\n",
       "     20      2208  2208  2208  2208    2208\n",
       "     30         2     2     2     2       2"
      ]
     },
     "execution_count": 49,
     "metadata": {},
     "output_type": "execute_result"
    }
   ],
   "source": [
    "data.groupby(['type','energy']).count()"
   ]
  },
  {
   "cell_type": "code",
   "execution_count": 4,
   "metadata": {},
   "outputs": [],
   "source": [
    "# convert PIL.Image object to numpy.Array, for training\n",
    "def img2arr(img):\n",
    "    return np.asarray(img.getdata(), dtype=np.uint8).reshape(img.height, img.width, -1)\n",
    "\n",
    "def read_train_pickle(Type, Energy, DIR = os.getcwd() + '/idao_dataset/'):\n",
    "    return pd.read_pickle(DIR + 'train_pickle/' + Type + str(Energy) + '.pkl')"
   ]
  },
  {
   "cell_type": "code",
   "execution_count": 5,
   "metadata": {},
   "outputs": [
    {
     "name": "stderr",
     "output_type": "stream",
     "text": [
      "Using TensorFlow backend.\n",
      "/Users/joefu/opt/anaconda3/lib/python3.7/site-packages/tensorflow/python/framework/dtypes.py:516: FutureWarning: Passing (type, 1) or '1type' as a synonym of type is deprecated; in a future version of numpy, it will be understood as (type, (1,)) / '(1,)type'.\n",
      "  _np_qint8 = np.dtype([(\"qint8\", np.int8, 1)])\n",
      "/Users/joefu/opt/anaconda3/lib/python3.7/site-packages/tensorflow/python/framework/dtypes.py:517: FutureWarning: Passing (type, 1) or '1type' as a synonym of type is deprecated; in a future version of numpy, it will be understood as (type, (1,)) / '(1,)type'.\n",
      "  _np_quint8 = np.dtype([(\"quint8\", np.uint8, 1)])\n",
      "/Users/joefu/opt/anaconda3/lib/python3.7/site-packages/tensorflow/python/framework/dtypes.py:518: FutureWarning: Passing (type, 1) or '1type' as a synonym of type is deprecated; in a future version of numpy, it will be understood as (type, (1,)) / '(1,)type'.\n",
      "  _np_qint16 = np.dtype([(\"qint16\", np.int16, 1)])\n",
      "/Users/joefu/opt/anaconda3/lib/python3.7/site-packages/tensorflow/python/framework/dtypes.py:519: FutureWarning: Passing (type, 1) or '1type' as a synonym of type is deprecated; in a future version of numpy, it will be understood as (type, (1,)) / '(1,)type'.\n",
      "  _np_quint16 = np.dtype([(\"quint16\", np.uint16, 1)])\n",
      "/Users/joefu/opt/anaconda3/lib/python3.7/site-packages/tensorflow/python/framework/dtypes.py:520: FutureWarning: Passing (type, 1) or '1type' as a synonym of type is deprecated; in a future version of numpy, it will be understood as (type, (1,)) / '(1,)type'.\n",
      "  _np_qint32 = np.dtype([(\"qint32\", np.int32, 1)])\n",
      "/Users/joefu/opt/anaconda3/lib/python3.7/site-packages/tensorflow/python/framework/dtypes.py:525: FutureWarning: Passing (type, 1) or '1type' as a synonym of type is deprecated; in a future version of numpy, it will be understood as (type, (1,)) / '(1,)type'.\n",
      "  np_resource = np.dtype([(\"resource\", np.ubyte, 1)])\n",
      "/Users/joefu/opt/anaconda3/lib/python3.7/site-packages/tensorboard/compat/tensorflow_stub/dtypes.py:541: FutureWarning: Passing (type, 1) or '1type' as a synonym of type is deprecated; in a future version of numpy, it will be understood as (type, (1,)) / '(1,)type'.\n",
      "  _np_qint8 = np.dtype([(\"qint8\", np.int8, 1)])\n",
      "/Users/joefu/opt/anaconda3/lib/python3.7/site-packages/tensorboard/compat/tensorflow_stub/dtypes.py:542: FutureWarning: Passing (type, 1) or '1type' as a synonym of type is deprecated; in a future version of numpy, it will be understood as (type, (1,)) / '(1,)type'.\n",
      "  _np_quint8 = np.dtype([(\"quint8\", np.uint8, 1)])\n",
      "/Users/joefu/opt/anaconda3/lib/python3.7/site-packages/tensorboard/compat/tensorflow_stub/dtypes.py:543: FutureWarning: Passing (type, 1) or '1type' as a synonym of type is deprecated; in a future version of numpy, it will be understood as (type, (1,)) / '(1,)type'.\n",
      "  _np_qint16 = np.dtype([(\"qint16\", np.int16, 1)])\n",
      "/Users/joefu/opt/anaconda3/lib/python3.7/site-packages/tensorboard/compat/tensorflow_stub/dtypes.py:544: FutureWarning: Passing (type, 1) or '1type' as a synonym of type is deprecated; in a future version of numpy, it will be understood as (type, (1,)) / '(1,)type'.\n",
      "  _np_quint16 = np.dtype([(\"quint16\", np.uint16, 1)])\n",
      "/Users/joefu/opt/anaconda3/lib/python3.7/site-packages/tensorboard/compat/tensorflow_stub/dtypes.py:545: FutureWarning: Passing (type, 1) or '1type' as a synonym of type is deprecated; in a future version of numpy, it will be understood as (type, (1,)) / '(1,)type'.\n",
      "  _np_qint32 = np.dtype([(\"qint32\", np.int32, 1)])\n",
      "/Users/joefu/opt/anaconda3/lib/python3.7/site-packages/tensorboard/compat/tensorflow_stub/dtypes.py:550: FutureWarning: Passing (type, 1) or '1type' as a synonym of type is deprecated; in a future version of numpy, it will be understood as (type, (1,)) / '(1,)type'.\n",
      "  np_resource = np.dtype([(\"resource\", np.ubyte, 1)])\n"
     ]
    }
   ],
   "source": [
    "#!/usr/bin/env python3\n",
    "# -*- coding: utf-8 -*-\n",
    "\"\"\"\n",
    "Created on Fri Oct 19 08:20:58 2018\n",
    "\n",
    "@OS: Ubuntu 18.04\n",
    "@IDE: Spyder3\n",
    "@author: Aldi Faizal Dimara (Steam ID: phenomos)\n",
    "\"\"\"\n",
    "\n",
    "import keras.backend as K\n",
    "import tensorflow as tf\n",
    "\n",
    "def categorical_focal_loss(gamma=2.0, alpha=0.25):\n",
    "    \"\"\"\n",
    "    Implementation of Focal Loss from the paper in multiclass classification\n",
    "    Formula:\n",
    "        loss = -alpha*((1-p)^gamma)*log(p)\n",
    "    Parameters:\n",
    "        alpha -- the same as wighting factor in balanced cross entropy\n",
    "        gamma -- focusing parameter for modulating factor (1-p)\n",
    "    Default value:\n",
    "        gamma -- 2.0 as mentioned in the paper\n",
    "        alpha -- 0.25 as mentioned in the paper\n",
    "    \"\"\"\n",
    "    def focal_loss(y_true, y_pred):\n",
    "        # Define epsilon so that the backpropagation will not result in NaN\n",
    "        # for 0 divisor case\n",
    "        epsilon = K.epsilon()\n",
    "        # Add the epsilon to prediction value\n",
    "        #y_pred = y_pred + epsilon\n",
    "        # Clip the prediction value\n",
    "        y_pred = K.clip(y_pred, epsilon, 1.0-epsilon)\n",
    "        # Calculate cross entropy\n",
    "        cross_entropy = -y_true*K.log(y_pred)\n",
    "        # Calculate weight that consists of  modulating factor and weighting factor\n",
    "        weight = alpha * y_true * K.pow((1-y_pred), gamma)\n",
    "        # Calculate focal loss\n",
    "        loss = weight * cross_entropy\n",
    "        # Sum the losses in mini_batch\n",
    "        loss = K.sum(loss, axis=1)\n",
    "        return loss\n",
    "    \n",
    "    return focal_loss\n",
    "\n",
    "def binary_focal_loss(gamma=2.0, alpha=0.25):\n",
    "    \"\"\"\n",
    "    Implementation of Focal Loss from the paper in multiclass classification\n",
    "    Formula:\n",
    "        loss = -alpha_t*((1-p_t)^gamma)*log(p_t)\n",
    "        \n",
    "        p_t = y_pred, if y_true = 1\n",
    "        p_t = 1-y_pred, otherwise\n",
    "        \n",
    "        alpha_t = alpha, if y_true=1\n",
    "        alpha_t = 1-alpha, otherwise\n",
    "        \n",
    "        cross_entropy = -log(p_t)\n",
    "    Parameters:\n",
    "        alpha -- the same as wighting factor in balanced cross entropy\n",
    "        gamma -- focusing parameter for modulating factor (1-p)\n",
    "    Default value:\n",
    "        gamma -- 2.0 as mentioned in the paper\n",
    "        alpha -- 0.25 as mentioned in the paper\n",
    "    \"\"\"\n",
    "    def focal_loss(y_true, y_pred):\n",
    "        # Define epsilon so that the backpropagation will not result in NaN\n",
    "        # for 0 divisor case\n",
    "        epsilon = K.epsilon()\n",
    "        # Add the epsilon to prediction value\n",
    "        #y_pred = y_pred + epsilon\n",
    "        # Clip the prediciton value\n",
    "        y_pred = K.clip(y_pred, epsilon, 1.0-epsilon)\n",
    "        # Calculate p_t\n",
    "        p_t = tf.where(K.equal(y_true, 1), y_pred, 1-y_pred)\n",
    "        # Calculate alpha_t\n",
    "        alpha_factor = K.ones_like(y_true)*alpha\n",
    "        alpha_t = tf.where(K.equal(y_true, 1), alpha_factor, 1-alpha_factor)\n",
    "        # Calculate cross entropy\n",
    "        cross_entropy = -K.log(p_t)\n",
    "        weight = alpha_t * K.pow((1-p_t), gamma)\n",
    "        # Calculate focal loss\n",
    "        loss = weight * cross_entropy\n",
    "        # Sum the losses in mini_batch\n",
    "        loss = K.sum(loss, axis=1)\n",
    "        return loss\n",
    "    \n",
    "    return focal_loss    "
   ]
  },
  {
   "cell_type": "code",
   "execution_count": 6,
   "metadata": {},
   "outputs": [
    {
     "data": {
      "text/html": [
       "<div>\n",
       "<style scoped>\n",
       "    .dataframe tbody tr th:only-of-type {\n",
       "        vertical-align: middle;\n",
       "    }\n",
       "\n",
       "    .dataframe tbody tr th {\n",
       "        vertical-align: top;\n",
       "    }\n",
       "\n",
       "    .dataframe thead th {\n",
       "        text-align: right;\n",
       "    }\n",
       "</style>\n",
       "<table border=\"1\" class=\"dataframe\">\n",
       "  <thead>\n",
       "    <tr style=\"text-align: right;\">\n",
       "      <th></th>\n",
       "      <th>img_array</th>\n",
       "      <th>type_2_ER</th>\n",
       "      <th>energy</th>\n",
       "      <th>isTrain</th>\n",
       "    </tr>\n",
       "  </thead>\n",
       "  <tbody>\n",
       "    <tr>\n",
       "      <td>0</td>\n",
       "      <td>[[101, 97, 100, 99, 100, 101, 94, 97, 99, 101,...</td>\n",
       "      <td>1</td>\n",
       "      <td>10</td>\n",
       "      <td>1</td>\n",
       "    </tr>\n",
       "    <tr>\n",
       "      <td>1</td>\n",
       "      <td>[[100, 91, 101, 101, 101, 97, 100, 101, 103, 1...</td>\n",
       "      <td>1</td>\n",
       "      <td>10</td>\n",
       "      <td>1</td>\n",
       "    </tr>\n",
       "    <tr>\n",
       "      <td>2</td>\n",
       "      <td>[[104, 100, 101, 102, 103, 99, 104, 101, 98, 9...</td>\n",
       "      <td>1</td>\n",
       "      <td>10</td>\n",
       "      <td>1</td>\n",
       "    </tr>\n",
       "    <tr>\n",
       "      <td>3</td>\n",
       "      <td>[[97, 91, 100, 103, 101, 102, 95, 104, 98, 102...</td>\n",
       "      <td>1</td>\n",
       "      <td>10</td>\n",
       "      <td>1</td>\n",
       "    </tr>\n",
       "    <tr>\n",
       "      <td>4</td>\n",
       "      <td>[[102, 102, 97, 98, 96, 100, 102, 104, 98, 103...</td>\n",
       "      <td>1</td>\n",
       "      <td>10</td>\n",
       "      <td>1</td>\n",
       "    </tr>\n",
       "  </tbody>\n",
       "</table>\n",
       "</div>"
      ],
      "text/plain": [
       "                                           img_array  type_2_ER  energy  \\\n",
       "0  [[101, 97, 100, 99, 100, 101, 94, 97, 99, 101,...          1      10   \n",
       "1  [[100, 91, 101, 101, 101, 97, 100, 101, 103, 1...          1      10   \n",
       "2  [[104, 100, 101, 102, 103, 99, 104, 101, 98, 9...          1      10   \n",
       "3  [[97, 91, 100, 103, 101, 102, 95, 104, 98, 102...          1      10   \n",
       "4  [[102, 102, 97, 98, 96, 100, 102, 104, 98, 103...          1      10   \n",
       "\n",
       "   isTrain  \n",
       "0        1  \n",
       "1        1  \n",
       "2        1  \n",
       "3        1  \n",
       "4        1  "
      ]
     },
     "execution_count": 6,
     "metadata": {},
     "output_type": "execute_result"
    }
   ],
   "source": [
    "N = 2000\n",
    "training_data = pd.DataFrame()\n",
    "loss_weights = []\n",
    "\n",
    "in_sample = {'ER': [3,10,30], 'NR': [1,6,20]}\n",
    "for Type in in_sample:\n",
    "    for Energy in in_sample[Type]:\n",
    "        if Energy >= 20 or Energy <= 3:\n",
    "            continue\n",
    "        pkl = read_train_pickle(Type, Energy)\n",
    "        pkl['isTrain'] = 1\n",
    "        training_data = training_data.append(pkl[:N])\n",
    "\n",
    "out_sample = {'NR': [3,10,30], 'ER': [1,6,20]}\n",
    "for Type in out_sample:\n",
    "    for Energy in out_sample[Type]:\n",
    "        if Energy >= 20 or Energy <= 3:\n",
    "            continue\n",
    "        pkl = read_train_pickle(Type, Energy)[:1]\n",
    "        pkl = pd.concat([pkl]*8)\n",
    "        pkl = pkl.reset_index(drop = True)\n",
    "        pkl.loc[1,'img_array'] = [np.rot90(pkl.loc[1,'img_array'], k = 1)]\n",
    "        pkl.loc[2,'img_array'] = [np.rot90(pkl.loc[2,'img_array'], k = 2)]\n",
    "        pkl.loc[3,'img_array'] = [np.rot90(pkl.loc[3,'img_array'], k = 3)]\n",
    "        pkl.loc[4,'img_array'] = [np.flip(pkl.loc[4,'img_array'], axis = 0)]\n",
    "        pkl.loc[5,'img_array'] = [np.flip(pkl.loc[5,'img_array'], axis = 1)]\n",
    "        pkl.loc[6,'img_array'] = [np.transpose(pkl.loc[6,'img_array'])]\n",
    "        pkl.loc[7,'img_array'] = [np.flip(np.transpose(np.flip(pkl.loc[7,'img_array'], axis=1)), axis=1)]\n",
    "        pkl['isTrain'] = 0\n",
    "        training_data = training_data.append(pkl)\n",
    "            \n",
    "# training_data = training_data.loc[training_data.type_2_ER==1]\n",
    "# training_data = training_data.sample(frac=1).reset_index(drop=True)\n",
    "training_data = training_data.reset_index(drop=True)\n",
    "training_data.head()"
   ]
  },
  {
   "cell_type": "code",
   "execution_count": 7,
   "metadata": {},
   "outputs": [],
   "source": [
    "from scipy.ndimage import *\n",
    "k = 64\n",
    "img_arr_list = []\n",
    "for i in range(len(training_data)):\n",
    "    img = training_data.loc[i,'img_array']\n",
    "    img = img[(288-k):(288+k), (288-k):(288+k)].astype(float)\n",
    "    img -= np.median(img, axis=0)\n",
    "    img = grey_closing(gaussian_gradient_magnitude(img,5), 9)\n",
    "    img_arr_list.append(img)"
   ]
  },
  {
   "cell_type": "code",
   "execution_count": 8,
   "metadata": {},
   "outputs": [
    {
     "data": {
      "text/plain": [
       "(4016, 128, 128, 1)"
      ]
     },
     "execution_count": 8,
     "metadata": {},
     "output_type": "execute_result"
    }
   ],
   "source": [
    "img_array = np.array(img_arr_list).reshape(len(img_arr_list),k*2,k*2,1)\n",
    "img_array.shape"
   ]
  },
  {
   "cell_type": "code",
   "execution_count": 9,
   "metadata": {},
   "outputs": [],
   "source": [
    "training_data['type_str'] = [('ER' if training_data.type_2_ER[i] else 'NR') + str(training_data.energy[i]) for i in range(len(training_data))]\n",
    "training_data['type_i'] = [(training_data.type_2_ER[i])*2 + (training_data.energy[i]==10) for i in range(len(training_data))]\n",
    "# NR1 NR3 ER1 ER3\n",
    "# NR6 NR10 ER6 ER10\n",
    "# NR20 NR30 ER20 ER30\n",
    "target_data = [[0]*4 for _ in range(len(training_data))]\n",
    "for i in range(len(target_data)):\n",
    "    target_data[i][training_data.type_i[i]] = 1\n",
    "target_data = np.array(target_data)"
   ]
  },
  {
   "cell_type": "code",
   "execution_count": 10,
   "metadata": {},
   "outputs": [
    {
     "data": {
      "text/plain": [
       "array([[0, 0, 0, 1],\n",
       "       [0, 0, 0, 1],\n",
       "       [0, 0, 0, 1],\n",
       "       ...,\n",
       "       [0, 0, 1, 0],\n",
       "       [0, 0, 1, 0],\n",
       "       [0, 0, 1, 0]])"
      ]
     },
     "execution_count": 10,
     "metadata": {},
     "output_type": "execute_result"
    }
   ],
   "source": [
    "target_data"
   ]
  },
  {
   "cell_type": "code",
   "execution_count": 11,
   "metadata": {},
   "outputs": [
    {
     "data": {
      "text/html": [
       "<div>\n",
       "<style scoped>\n",
       "    .dataframe tbody tr th:only-of-type {\n",
       "        vertical-align: middle;\n",
       "    }\n",
       "\n",
       "    .dataframe tbody tr th {\n",
       "        vertical-align: top;\n",
       "    }\n",
       "\n",
       "    .dataframe thead th {\n",
       "        text-align: right;\n",
       "    }\n",
       "</style>\n",
       "<table border=\"1\" class=\"dataframe\">\n",
       "  <thead>\n",
       "    <tr style=\"text-align: right;\">\n",
       "      <th></th>\n",
       "      <th>img_array</th>\n",
       "      <th>type_2_ER</th>\n",
       "      <th>energy</th>\n",
       "      <th>isTrain</th>\n",
       "      <th>type_str</th>\n",
       "      <th>type_i</th>\n",
       "    </tr>\n",
       "  </thead>\n",
       "  <tbody>\n",
       "    <tr>\n",
       "      <td>0</td>\n",
       "      <td>[[101, 97, 100, 99, 100, 101, 94, 97, 99, 101,...</td>\n",
       "      <td>1</td>\n",
       "      <td>10</td>\n",
       "      <td>1</td>\n",
       "      <td>ER10</td>\n",
       "      <td>3</td>\n",
       "    </tr>\n",
       "    <tr>\n",
       "      <td>1</td>\n",
       "      <td>[[100, 91, 101, 101, 101, 97, 100, 101, 103, 1...</td>\n",
       "      <td>1</td>\n",
       "      <td>10</td>\n",
       "      <td>1</td>\n",
       "      <td>ER10</td>\n",
       "      <td>3</td>\n",
       "    </tr>\n",
       "    <tr>\n",
       "      <td>2</td>\n",
       "      <td>[[104, 100, 101, 102, 103, 99, 104, 101, 98, 9...</td>\n",
       "      <td>1</td>\n",
       "      <td>10</td>\n",
       "      <td>1</td>\n",
       "      <td>ER10</td>\n",
       "      <td>3</td>\n",
       "    </tr>\n",
       "    <tr>\n",
       "      <td>3</td>\n",
       "      <td>[[97, 91, 100, 103, 101, 102, 95, 104, 98, 102...</td>\n",
       "      <td>1</td>\n",
       "      <td>10</td>\n",
       "      <td>1</td>\n",
       "      <td>ER10</td>\n",
       "      <td>3</td>\n",
       "    </tr>\n",
       "    <tr>\n",
       "      <td>4</td>\n",
       "      <td>[[102, 102, 97, 98, 96, 100, 102, 104, 98, 103...</td>\n",
       "      <td>1</td>\n",
       "      <td>10</td>\n",
       "      <td>1</td>\n",
       "      <td>ER10</td>\n",
       "      <td>3</td>\n",
       "    </tr>\n",
       "    <tr>\n",
       "      <td>...</td>\n",
       "      <td>...</td>\n",
       "      <td>...</td>\n",
       "      <td>...</td>\n",
       "      <td>...</td>\n",
       "      <td>...</td>\n",
       "      <td>...</td>\n",
       "    </tr>\n",
       "    <tr>\n",
       "      <td>4011</td>\n",
       "      <td>[[102, 99, 99, 104, 101, 100, 101, 97, 102, 10...</td>\n",
       "      <td>1</td>\n",
       "      <td>6</td>\n",
       "      <td>0</td>\n",
       "      <td>ER6</td>\n",
       "      <td>2</td>\n",
       "    </tr>\n",
       "    <tr>\n",
       "      <td>4012</td>\n",
       "      <td>[[102, 106, 98, 102, 98, 101, 101, 98, 100, 98...</td>\n",
       "      <td>1</td>\n",
       "      <td>6</td>\n",
       "      <td>0</td>\n",
       "      <td>ER6</td>\n",
       "      <td>2</td>\n",
       "    </tr>\n",
       "    <tr>\n",
       "      <td>4013</td>\n",
       "      <td>[[105, 102, 102, 100, 101, 99, 97, 102, 102, 9...</td>\n",
       "      <td>1</td>\n",
       "      <td>6</td>\n",
       "      <td>0</td>\n",
       "      <td>ER6</td>\n",
       "      <td>2</td>\n",
       "    </tr>\n",
       "    <tr>\n",
       "      <td>4014</td>\n",
       "      <td>[[100, 99, 97, 98, 102, 94, 99, 99, 98, 100, 1...</td>\n",
       "      <td>1</td>\n",
       "      <td>6</td>\n",
       "      <td>0</td>\n",
       "      <td>ER6</td>\n",
       "      <td>2</td>\n",
       "    </tr>\n",
       "    <tr>\n",
       "      <td>4015</td>\n",
       "      <td>[[102, 98, 103, 102, 103, 100, 100, 99, 103, 1...</td>\n",
       "      <td>1</td>\n",
       "      <td>6</td>\n",
       "      <td>0</td>\n",
       "      <td>ER6</td>\n",
       "      <td>2</td>\n",
       "    </tr>\n",
       "  </tbody>\n",
       "</table>\n",
       "<p>4016 rows × 6 columns</p>\n",
       "</div>"
      ],
      "text/plain": [
       "                                              img_array  type_2_ER  energy  \\\n",
       "0     [[101, 97, 100, 99, 100, 101, 94, 97, 99, 101,...          1      10   \n",
       "1     [[100, 91, 101, 101, 101, 97, 100, 101, 103, 1...          1      10   \n",
       "2     [[104, 100, 101, 102, 103, 99, 104, 101, 98, 9...          1      10   \n",
       "3     [[97, 91, 100, 103, 101, 102, 95, 104, 98, 102...          1      10   \n",
       "4     [[102, 102, 97, 98, 96, 100, 102, 104, 98, 103...          1      10   \n",
       "...                                                 ...        ...     ...   \n",
       "4011  [[102, 99, 99, 104, 101, 100, 101, 97, 102, 10...          1       6   \n",
       "4012  [[102, 106, 98, 102, 98, 101, 101, 98, 100, 98...          1       6   \n",
       "4013  [[105, 102, 102, 100, 101, 99, 97, 102, 102, 9...          1       6   \n",
       "4014  [[100, 99, 97, 98, 102, 94, 99, 99, 98, 100, 1...          1       6   \n",
       "4015  [[102, 98, 103, 102, 103, 100, 100, 99, 103, 1...          1       6   \n",
       "\n",
       "      isTrain type_str  type_i  \n",
       "0           1     ER10       3  \n",
       "1           1     ER10       3  \n",
       "2           1     ER10       3  \n",
       "3           1     ER10       3  \n",
       "4           1     ER10       3  \n",
       "...       ...      ...     ...  \n",
       "4011        0      ER6       2  \n",
       "4012        0      ER6       2  \n",
       "4013        0      ER6       2  \n",
       "4014        0      ER6       2  \n",
       "4015        0      ER6       2  \n",
       "\n",
       "[4016 rows x 6 columns]"
      ]
     },
     "execution_count": 11,
     "metadata": {},
     "output_type": "execute_result"
    }
   ],
   "source": [
    "training_data"
   ]
  },
  {
   "cell_type": "code",
   "execution_count": 12,
   "metadata": {},
   "outputs": [
    {
     "name": "stdout",
     "output_type": "stream",
     "text": [
      "WARNING:tensorflow:From /Users/joefu/opt/anaconda3/lib/python3.7/site-packages/keras/backend/tensorflow_backend.py:4070: The name tf.nn.max_pool is deprecated. Please use tf.nn.max_pool2d instead.\n",
      "\n"
     ]
    }
   ],
   "source": [
    "from sklearn.model_selection import train_test_split\n",
    "from keras.models import Sequential, Model\n",
    "from keras.layers import Dense, Dropout, Activation, Flatten, Input, concatenate\n",
    "from keras.layers import Convolution2D, MaxPooling2D, Conv2D, AveragePooling2D\n",
    "from random import random as rng\n",
    "\n",
    "x_train = img_array[::2]\n",
    "x_test = img_array[1::2]\n",
    "y_train = target_data[::2]\n",
    "y_test = target_data[1::2]\n",
    "\n",
    "inputA = Input(shape=(k*2,k*2,1))\n",
    "inputB = Input(shape=(1,))\n",
    "# the first branch operates on the first input\n",
    "x = Conv2D(4, kernel_size=9, activation='relu', input_shape=(k*2,k*2,1))(inputA)\n",
    "x = MaxPooling2D(pool_size=(2, 2))(x)\n",
    "x = Conv2D(8, kernel_size=5, activation='relu')(x)\n",
    "x = MaxPooling2D(pool_size=(2, 2))(x)\n",
    "x = Conv2D(16, kernel_size=3, activation='relu')(x)\n",
    "x = MaxPooling2D(pool_size=(2, 2))(x)\n",
    "x = Flatten()(x)\n",
    "x = Model(inputs=inputA, outputs=x)\n",
    "\n",
    "y = Model(inputs=inputB, outputs=inputB)\n",
    "combined = concatenate([x.output, y.output])\n",
    "z = Dense(128, activation='linear')(combined)\n",
    "# z = Dense(1, activation='sigmoid')(z)\n",
    "z = Dense(4, activation='softmax')(z)\n",
    "\n",
    "model_1 = Model(inputs=[x.input, y.input], outputs=z)\n",
    "model_1.compile(loss=categorical_focal_loss(gamma=4.0, alpha=1),\n",
    "# model_1.compile(loss='categorical_crossentropy',\n",
    "                optimizer='adam',\n",
    "                metrics=['accuracy'])"
   ]
  },
  {
   "cell_type": "code",
   "execution_count": 32,
   "metadata": {},
   "outputs": [
    {
     "name": "stdout",
     "output_type": "stream",
     "text": [
      "Train on 2008 samples, validate on 2008 samples\n",
      "Epoch 1/2\n",
      "2008/2008 [==============================] - 19s 9ms/step - loss: 4.0216e-04 - accuracy: 0.9995 - val_loss: 5.5305e-04 - val_accuracy: 0.9980\n",
      "Epoch 2/2\n",
      "2008/2008 [==============================] - 19s 9ms/step - loss: 2.4143e-04 - accuracy: 1.0000 - val_loss: 5.3974e-04 - val_accuracy: 0.9985\n"
     ]
    }
   ],
   "source": [
    "cnn_1 = model_1.fit([x_train, training_data.isTrain[::2]], y_train,\n",
    "          batch_size=251, epochs=2,\n",
    "#           batch_size=50, epochs=5,\n",
    "          # verbose=1,\n",
    "          validation_data=([x_test,training_data.isTrain[1::2]], y_test))\n",
    "\n",
    "# cnn_1 = model_1.fit(x_train, y_train,\n",
    "#           batch_size=753, epochs=5,\n",
    "#           # verbose=1,\n",
    "#           validation_data=(x_test, y_test))"
   ]
  },
  {
   "cell_type": "code",
   "execution_count": 15,
   "metadata": {},
   "outputs": [],
   "source": [
    "# from keras.utils import plot_model\n",
    "# plot_model(model_1, show_shapes=True)"
   ]
  },
  {
   "cell_type": "code",
   "execution_count": 45,
   "metadata": {},
   "outputs": [
    {
     "data": {
      "text/plain": [
       "[<matplotlib.lines.Line2D at 0x7fa1bf247b50>]"
      ]
     },
     "execution_count": 45,
     "metadata": {},
     "output_type": "execute_result"
    },
    {
     "data": {
      "image/png": "[encoded data removed]",
      "text/plain": [
       "<Figure size 432x288 with 1 Axes>"
      ]
     },
     "metadata": {
      "needs_background": "light"
     },
     "output_type": "display_data"
    }
   ],
   "source": [
    "plt.plot(cnn_1.history['loss'])\n",
    "plt.plot(cnn_1.history['val_loss'])"
   ]
  },
  {
   "cell_type": "code",
   "execution_count": 46,
   "metadata": {},
   "outputs": [
    {
     "data": {
      "text/plain": [
       "[<matplotlib.lines.Line2D at 0x7fa24b99e250>]"
      ]
     },
     "execution_count": 46,
     "metadata": {},
     "output_type": "execute_result"
    },
    {
     "data": {
      "image/png": "[encoded data removed]",
      "text/plain": [
       "<Figure size 432x288 with 1 Axes>"
      ]
     },
     "metadata": {
      "needs_background": "light"
     },
     "output_type": "display_data"
    }
   ],
   "source": [
    "plt.plot(cnn_1.history['accuracy'])\n",
    "plt.plot(cnn_1.history['val_accuracy'])"
   ]
  },
  {
   "cell_type": "code",
   "execution_count": 36,
   "metadata": {},
   "outputs": [],
   "source": [
    "model_1.save('Joe_model_Energy_6vs10_01.h5')"
   ]
  },
  {
   "cell_type": "code",
   "execution_count": 38,
   "metadata": {},
   "outputs": [],
   "source": [
    "from keras.models import load_model\n",
    "model_1 = load_model('Joe_model_Energy_6vs10_01.h5', custom_objects={'focal_loss': categorical_focal_loss(gamma=5.0,alpha=1.0)})"
   ]
  },
  {
   "cell_type": "code",
   "execution_count": 43,
   "metadata": {},
   "outputs": [
    {
     "data": {
      "text/plain": [
       "(4527, 128, 128, 1)"
      ]
     },
     "execution_count": 43,
     "metadata": {},
     "output_type": "execute_result"
    }
   ],
   "source": [
    "in_sample = {'ER': [3,10,30], 'NR': [1,6,20]}\n",
    "predicts_in = pd.DataFrame()\n",
    "for Type in in_sample:\n",
    "    for Energy in in_sample[Type]:\n",
    "        if Energy >= 20 or Energy <= 3:\n",
    "            continue\n",
    "        pkl = read_train_pickle(Type, Energy)\n",
    "        predicts_in = predicts_in.append(pkl)\n",
    "predicts_in = predicts_in.reset_index(drop=True)\n",
    "\n",
    "from scipy.ndimage import gaussian_gradient_magnitude, grey_closing\n",
    "k = 64\n",
    "img_arr_in = []\n",
    "for i in range(len(predicts_in)):\n",
    "    img = predicts_in.loc[i,'img_array']\n",
    "    img = img[(288-k):(288+k), (288-k):(288+k)].astype(float)\n",
    "    img -= np.median(img, axis=0)\n",
    "    img = grey_closing(gaussian_gradient_magnitude(img,5), 9)\n",
    "    img_arr_in.append(img)\n",
    "img_arr_in = np.array(img_arr_in).reshape((len(predicts_in),k*2,k*2,1))\n",
    "img_arr_in.shape"
   ]
  },
  {
   "cell_type": "code",
   "execution_count": 44,
   "metadata": {},
   "outputs": [],
   "source": [
    "predicts_in['isTrain'] = 1\n",
    "predicts_in['type_i'] = [(predicts_in.type_2_ER[i])*2 + (predicts_in.energy[i]==10) for i in range(len(predicts_in))]\n",
    "y_pred = model_1.predict([img_arr_in, np.array([1]*len(predicts_in)).reshape((len(predicts_in),1))])\n",
    "for i in range(len(predicts_in)):\n",
    "    if predicts_in.isTrain[i] == 0:\n",
    "        y_pred[i][0] = 0\n",
    "        y_pred[i][3] = 0\n",
    "predicts_in['pre_i'] = np.argmax(y_pred, axis=-1)"
   ]
  },
  {
   "cell_type": "code",
   "execution_count": 45,
   "metadata": {},
   "outputs": [
    {
     "name": "stdout",
     "output_type": "stream",
     "text": [
      "1.0\n"
     ]
    }
   ],
   "source": [
    "predicts_in['correct'] = predicts_in.pre_i == predicts_in.type_i\n",
    "print(sum(predicts_in.correct)/len(predicts_in))"
   ]
  },
  {
   "cell_type": "code",
   "execution_count": 46,
   "metadata": {},
   "outputs": [
    {
     "data": {
      "text/html": [
       "<div>\n",
       "<style scoped>\n",
       "    .dataframe tbody tr th:only-of-type {\n",
       "        vertical-align: middle;\n",
       "    }\n",
       "\n",
       "    .dataframe tbody tr th {\n",
       "        vertical-align: top;\n",
       "    }\n",
       "\n",
       "    .dataframe thead th {\n",
       "        text-align: right;\n",
       "    }\n",
       "</style>\n",
       "<table border=\"1\" class=\"dataframe\">\n",
       "  <thead>\n",
       "    <tr style=\"text-align: right;\">\n",
       "      <th></th>\n",
       "      <th>img_array</th>\n",
       "      <th>type_2_ER</th>\n",
       "      <th>energy</th>\n",
       "      <th>isTrain</th>\n",
       "      <th>type_i</th>\n",
       "      <th>pre_i</th>\n",
       "      <th>correct</th>\n",
       "    </tr>\n",
       "  </thead>\n",
       "  <tbody>\n",
       "  </tbody>\n",
       "</table>\n",
       "</div>"
      ],
      "text/plain": [
       "Empty DataFrame\n",
       "Columns: [img_array, type_2_ER, energy, isTrain, type_i, pre_i, correct]\n",
       "Index: []"
      ]
     },
     "execution_count": 46,
     "metadata": {},
     "output_type": "execute_result"
    }
   ],
   "source": [
    "predicts_in[predicts_in.correct != True]"
   ]
  },
  {
   "cell_type": "code",
   "execution_count": 95,
   "metadata": {},
   "outputs": [
    {
     "data": {
      "text/plain": [
       "array([[0.508, 0.423, 0.   , 0.069]], dtype=float32)"
      ]
     },
     "execution_count": 95,
     "metadata": {},
     "output_type": "execute_result"
    }
   ],
   "source": [
    "y_pred[predicts_in.correct != True].round(3)"
   ]
  },
  {
   "cell_type": "code",
   "execution_count": 96,
   "metadata": {},
   "outputs": [
    {
     "data": {
      "text/plain": [
       "<matplotlib.image.AxesImage at 0x7fa1bea52110>"
      ]
     },
     "execution_count": 96,
     "metadata": {},
     "output_type": "execute_result"
    },
    {
     "data": {
      "image/png": "[encoded data removed]",
      "text/plain": [
       "<Figure size 432x288 with 1 Axes>"
      ]
     },
     "metadata": {
      "needs_background": "light"
     },
     "output_type": "display_data"
    }
   ],
   "source": [
    "plt.imshow(predicts_in[predicts_in.correct != True].loc[893,'img_array'])"
   ]
  },
  {
   "cell_type": "code",
   "execution_count": 15,
   "metadata": {},
   "outputs": [
    {
     "data": {
      "text/plain": [
       "(3, 128, 128, 1)"
      ]
     },
     "execution_count": 15,
     "metadata": {},
     "output_type": "execute_result"
    }
   ],
   "source": [
    "out_sample = {'NR': [3,10,30], 'ER': [1,6,20]}\n",
    "predicts_out = pd.DataFrame()\n",
    "for Type in out_sample:\n",
    "    for Energy in out_sample[Type]:\n",
    "        if Energy >= 20 or Energy <= 3:\n",
    "            continue\n",
    "        pkl = read_train_pickle(Type, Energy)\n",
    "        pkl['isTrain'] = 0\n",
    "        predicts_out = predicts_out.append(pkl)\n",
    "        \n",
    "predicts_out = predicts_out.reset_index(drop=True)\n",
    "from scipy.ndimage import gaussian_gradient_magnitude, grey_closing\n",
    "\n",
    "img_arr_out = []\n",
    "for i in range(len(predicts_out)):\n",
    "    img = predicts_out.loc[i,'img_array']\n",
    "    img = img[(288-k):(288+k), (288-k):(288+k)].astype(float)\n",
    "    img -= np.median(img, axis=0)\n",
    "    img = grey_closing(gaussian_gradient_magnitude(img,5), 9)\n",
    "    img_arr_out.append(img)\n",
    "img_arr_out = np.array(img_arr_out).reshape((len(predicts_out),k*2,k*2,1))\n",
    "img_arr_out.shape"
   ]
  },
  {
   "cell_type": "code",
   "execution_count": 39,
   "metadata": {},
   "outputs": [],
   "source": [
    "predicts_out['type_i'] = [(predicts_out.type_2_ER[i])*2 + (predicts_out.energy[i]==10) for i in range(len(predicts_out))]\n",
    "y_pred = model_1.predict([img_arr_out, np.array([0]*12).reshape((12,1))])\n",
    "for i in range(len(predicts_out)):\n",
    "    if predicts_out.isTrain[i] == 0:\n",
    "        y_pred[i][0] = 0\n",
    "        y_pred[i][3] = 0\n",
    "predicts_out['pre_i'] = np.argmax(y_pred, axis=-1)"
   ]
  },
  {
   "cell_type": "code",
   "execution_count": 40,
   "metadata": {},
   "outputs": [
    {
     "data": {
      "text/html": [
       "<div>\n",
       "<style scoped>\n",
       "    .dataframe tbody tr th:only-of-type {\n",
       "        vertical-align: middle;\n",
       "    }\n",
       "\n",
       "    .dataframe tbody tr th {\n",
       "        vertical-align: top;\n",
       "    }\n",
       "\n",
       "    .dataframe thead th {\n",
       "        text-align: right;\n",
       "    }\n",
       "</style>\n",
       "<table border=\"1\" class=\"dataframe\">\n",
       "  <thead>\n",
       "    <tr style=\"text-align: right;\">\n",
       "      <th></th>\n",
       "      <th>img_array</th>\n",
       "      <th>type_2_ER</th>\n",
       "      <th>energy</th>\n",
       "      <th>isTrain</th>\n",
       "      <th>type_i</th>\n",
       "      <th>pre_i</th>\n",
       "    </tr>\n",
       "  </thead>\n",
       "  <tbody>\n",
       "    <tr>\n",
       "      <td>0</td>\n",
       "      <td>[[102, 95, 101, 105, 99, 97, 95, 98, 97, 99, 1...</td>\n",
       "      <td>0</td>\n",
       "      <td>10</td>\n",
       "      <td>0</td>\n",
       "      <td>1</td>\n",
       "      <td>1</td>\n",
       "    </tr>\n",
       "    <tr>\n",
       "      <td>1</td>\n",
       "      <td>[[99, 99, 99, 101, 101, 101, 98, 102, 102, 99,...</td>\n",
       "      <td>0</td>\n",
       "      <td>10</td>\n",
       "      <td>0</td>\n",
       "      <td>1</td>\n",
       "      <td>1</td>\n",
       "    </tr>\n",
       "    <tr>\n",
       "      <td>2</td>\n",
       "      <td>[[100, 104, 100, 101, 99, 106, 103, 99, 101, 1...</td>\n",
       "      <td>1</td>\n",
       "      <td>6</td>\n",
       "      <td>0</td>\n",
       "      <td>2</td>\n",
       "      <td>2</td>\n",
       "    </tr>\n",
       "  </tbody>\n",
       "</table>\n",
       "</div>"
      ],
      "text/plain": [
       "                                           img_array  type_2_ER  energy  \\\n",
       "0  [[102, 95, 101, 105, 99, 97, 95, 98, 97, 99, 1...          0      10   \n",
       "1  [[99, 99, 99, 101, 101, 101, 98, 102, 102, 99,...          0      10   \n",
       "2  [[100, 104, 100, 101, 99, 106, 103, 99, 101, 1...          1       6   \n",
       "\n",
       "   isTrain  type_i  pre_i  \n",
       "0        0       1      1  \n",
       "1        0       1      1  \n",
       "2        0       2      2  "
      ]
     },
     "execution_count": 40,
     "metadata": {},
     "output_type": "execute_result"
    }
   ],
   "source": [
    "predicts_out"
   ]
  },
  {
   "cell_type": "code",
   "execution_count": 41,
   "metadata": {},
   "outputs": [
    {
     "data": {
      "text/plain": [
       "array([[0.   , 0.52 , 0.214, 0.   ],\n",
       "       [0.   , 0.449, 0.247, 0.   ],\n",
       "       [0.   , 0.255, 0.528, 0.   ]], dtype=float32)"
      ]
     },
     "execution_count": 41,
     "metadata": {},
     "output_type": "execute_result"
    }
   ],
   "source": [
    "y_pred.round(3)"
   ]
  },
  {
   "cell_type": "code",
   "execution_count": 42,
   "metadata": {},
   "outputs": [
    {
     "data": {
      "text/plain": [
       "array([[0.   , 0.52 , 0.214, 0.   ],\n",
       "       [0.   , 0.449, 0.247, 0.   ],\n",
       "       [0.   , 0.255, 0.528, 0.   ]], dtype=float32)"
      ]
     },
     "execution_count": 42,
     "metadata": {},
     "output_type": "execute_result"
    }
   ],
   "source": [
    "y_pred.round(3)"
   ]
  },
  {
   "cell_type": "code",
   "execution_count": null,
   "metadata": {},
   "outputs": [],
   "source": []
  }
 ],
 "metadata": {
  "kernelspec": {
   "display_name": "Python 3",
   "language": "python",
   "name": "python3"
  },
  "language_info": {
   "codemirror_mode": {
    "name": "ipython",
    "version": 3
   },
   "file_extension": ".py",
   "mimetype": "text/x-python",
   "name": "python",
   "nbconvert_exporter": "python",
   "pygments_lexer": "ipython3",
   "version": "3.7.4"
  }
 },
 "nbformat": 4,
 "nbformat_minor": 4
}
